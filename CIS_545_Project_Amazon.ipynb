{
  "cells": [
    {
      "attachments": {},
      "cell_type": "markdown",
      "metadata": {
        "id": "2n_ybAzcLKNt"
      },
      "source": [
        "# **WHAT MAKES AN AMAZON REVIEW HELPFUL?**\n",
        "\n",
        "<img src='https://images.unsplash.com/photo-1523474253046-8cd2748b5fd2?q=80&w=1740&auto=format&fit=crop&ixlib=rb-4.0.3&ixid=M3wxMjA3fDB8MHxwaG90by1wYWdlfHx8fGVufDB8fHx8fA%3D%3D' width='400' alt='Amazon App'>\n",
        "\n",
        "<!-- <img src='https://images.unsplash.com/photo-1704204656144-3dd12c110dd8?q=80&w=1709&auto=format&fit=crop&ixlib=rb-4.0.3&ixid=M3wxMjA3fDB8MHxwaG90by1wYWdlfHx8fGVufDB8fHx8fA%3D%3D' width='400'  alt='Amazon Logo'>\n",
        "\n",
        " -->\n"
      ]
    },
    {
      "attachments": {},
      "cell_type": "markdown",
      "metadata": {
        "id": "Gc_oHHGVNQcg"
      },
      "source": [
        "# Introduction\n",
        "\n",
        "### Background\n",
        "\n",
        "In 2024, the importance of E-commerce needs no explanation: titans like Shopify and Amazon account for hundreds of billions of dollars every year, and the convenience and ubiquity of online shopping have profoundly changed the retail industry forever. While consumer reviews have been part of the retail experience since its inception, the availability and immediacy of online reviews has made this take on a life of its own in the e-commerce era, with nearly all sellers providing reviews on the store page itself. Critically, these reviews are often anonymous or pseudo-anonymous; partially as a result of this, and the financial incentives for having a well reviewed product fake reviews have become a  source of major concern for sellers. One of the methods that sellers have used to distinguish reviews apart from another is by allowing a kind of **meta-review: the helpful review**!\n",
        "\n",
        "\n",
        "### Objective\n",
        "\n",
        "\n",
        "Even if there is a feature on an e-commerce site to signal that a review is helpful, it may not be fully adopted by all users reading reviews. Our underlying hypothesis is that **there are helpful reviews that are not voted as 'Helpful'**. We will attempt to incover these unlabeled helpful reviews and will do so for the company **Amazon** (the world's largest online retailer as per [Forbes](https://www.forbes.com/sites/laurendebter/2022/05/12/worlds-largest-retailers-2022-amazon-walmart-alibaba/?sh=4a491ab459e3)) as it's ubiquity can provide a rich dataset and it is the market leader, pushing innnovation in the domain of this project (e.g. the AI-powered [Customers Say Review Highlights](https://www.amazon.com/gp/help/customer/display.html?nodeId=G8UYX7LALQC8V9KA))\n",
        "\n",
        "\n",
        "### Assumptions\n",
        "\n",
        "We will assume the following:\n",
        "- It is in Amazon's best interest to help users in their buying decision\n",
        "- Reviews are an influential step in purchase consideration, but sifting thorough them is challenging.\n",
        "- For e-commerce companies that allow user feedback in qualifying reviews as \"helpful\", these \"helpful\" reviews assist users in identifying relevant reviews and could be used as input for rank ordering reviews by the company.\n",
        "- There is positive business impact in improving the process, primarily by reducing customer friction that could lead to a lost sale, hence increasing **conversion rate**"
      ]
    },
    {
      "attachments": {},
      "cell_type": "markdown",
      "metadata": {
        "id": "tiV2t3CHKBcp"
      },
      "source": [
        "# Project Scope\n",
        "\n",
        "### Data Available\n",
        "\n",
        "We will use a [dataset of Amazon reviews from 2023](https://amazon-reviews-2023.github.io/) produced by the [Macauley Lab at UCSD](https://cseweb.ucsd.edu/~jmcauley/). The total data consists of nearly 600M rows, so inservice of scoping the project to a feasible plan, we intend to focus on **Home and Kitchen**, with **24M records** (though we intend to use a smaller random sample, depending on compute resources), as this offers an extremely high density of data and a few assumed properties:\n",
        "- The category has a wide variety of brands and similar products\n",
        "- We assume this category does not result in repeat purchases of the same item as much as others, increasing importance of reviews\n",
        "- As many product essential, we assume uyers will be looking for signals of quality upon purchasing, increasing importance of reviews\n",
        "\n",
        "\n",
        "### Data Dictionary\n",
        "\n",
        "User Reviews Dataset ([source](https://amazon-reviews-2023.github.io/))\n",
        "- reviews (float): Rating of the product (from 1.0 to 5.0).\n",
        "- title (str): Title of the user review.\n",
        "- text (str): Text body of the user review.\n",
        "- images (list): Images that users post after they have received the product. Each image has different sizes (small, medium, large), represented by the small_image_url, medium_image_url, and large_image_url respectively.\n",
        "- asin (str): ID of the product.\n",
        "- parent_asin (str): Parent ID of the product. Note: Products with different colors, styles, sizes usually belong to the same parent ID. The “asin” in previous Amazon datasets is actually parent ID. Please use parent ID to find product meta.\n",
        "- user_id (str): ID of the reviewer\n",
        "- timestamp (int):Time of the review (unix time)\n",
        "- verified purchase (bool): User purchase verification\n",
        "- helpful_vote(int): Helpful votes of the review\n",
        "\n",
        "### Limitations\n",
        "\n",
        "This project has the following limitations:\n",
        "- Computing resources require sampling of the data, which was already a small portion of all the Amazon review.\n",
        "- Due to time and resource limitations, we need to scope down the features being considered to those available in the User Reviews data described. There may be other features for Amazon to consider including (but not limited to): user properties, product metadata, quality of images, etc\n",
        "- To limit data intake we will **only consider 2023 reviews**, the most recent data available. The 2023 data to be extracted only includes reviews **up to September 2023**. We expect first 9 months are a fair representation of yearly behavior.\n",
        "- As most reviews are in English, this project **will only consider reviews in English**. Hence, insights presented here should only be applied ot reviews in English.\n",
        "\n"
      ]
    },
    {
      "attachments": {},
      "cell_type": "markdown",
      "metadata": {
        "id": "krugsqc6KN6H"
      },
      "source": [
        "# Initial Setup\n"
      ]
    },
    {
      "cell_type": "code",
      "execution_count": 1,
      "metadata": {},
      "outputs": [],
      "source": [
        "# requirements.txt includes packages needed and can be modified to add new ones as needed\n",
        "\n",
        "# !python3 -m pip install -r requirements.txt\n",
        "\n",
        "# lines below can be used to address error in import gensim >  ImportError: cannot import name 'triu' from 'scipy.linalg'\n",
        "\n",
        "# !python3 -m pip uninstall scipy --yes\n",
        "# !python3 -m pip cache purge\n",
        "# !python3 -m pip install scipy==1.12\n",
        "# import scipy\n",
        "# print(scipy.__version__)"
      ]
    },
    {
      "cell_type": "code",
      "execution_count": 592,
      "metadata": {
        "colab": {
          "base_uri": "https://localhost:8080/"
        },
        "id": "6l2feeriN0yG",
        "outputId": "1fa23a20-a2f3-42c5-cc15-091e5fdc46f1"
      },
      "outputs": [
        {
          "name": "stderr",
          "output_type": "stream",
          "text": [
            "[nltk_data] Downloading package punkt to\n",
            "[nltk_data]     /Users/rachelleperez/nltk_data...\n",
            "[nltk_data]   Package punkt is already up-to-date!\n",
            "[nltk_data] Downloading package stopwords to\n",
            "[nltk_data]     /Users/rachelleperez/nltk_data...\n",
            "[nltk_data]   Package stopwords is already up-to-date!\n",
            "[nltk_data] Downloading package wordnet to\n",
            "[nltk_data]     /Users/rachelleperez/nltk_data...\n",
            "[nltk_data]   Package wordnet is already up-to-date!\n"
          ]
        }
      ],
      "source": [
        "# Data Upload\n",
        "\n",
        "import requests\n",
        "import gzip\n",
        "import json\n",
        "import gdown\n",
        "import io\n",
        "import datetime\n",
        "\n",
        "import random\n",
        "# from google.colab import files\n",
        "\n",
        "# Data Preprocessing\n",
        "from scipy.stats import norm\n",
        "from langdetect import detect\n",
        "from imblearn.over_sampling import RandomOverSampler\n",
        "\n",
        "# EDA\n",
        "import glob\n",
        "import pandas as pd\n",
        "import numpy as np\n",
        "import datetime as dt\n",
        "import re\n",
        "import os\n",
        "import matplotlib.pyplot as plt\n",
        "import seaborn as sns\n",
        "from matplotlib import cm\n",
        "# from google.colab import drive\n",
        "from sklearn.model_selection import train_test_split\n",
        "from collections import Counter\n",
        "import seaborn as sns\n",
        "\n",
        "# Topic Modeling\n",
        "import re\n",
        "import gensim\n",
        "from gensim import corpora, models\n",
        "from nltk.tokenize import word_tokenize\n",
        "from nltk.corpus import stopwords\n",
        "from nltk.stem import WordNetLemmatizer\n",
        "import nltk\n",
        "nltk.download('punkt')\n",
        "nltk.download('stopwords')\n",
        "nltk.download('wordnet')\n",
        "\n",
        "# Logistic Regression\n",
        "from textblob import TextBlob\n",
        "from sklearn.linear_model import LogisticRegression\n",
        "from sklearn.preprocessing import StandardScaler, LabelEncoder\n",
        "from sklearn.feature_extraction.text import TfidfVectorizer\n",
        "from sklearn.pipeline import Pipeline\n",
        "from sklearn.compose import ColumnTransformer\n",
        "from sklearn.metrics import roc_auc_score, accuracy_score, confusion_matrix, classification_report, f1_score\n",
        "import xgboost as xgb\n",
        "from sklearn.dummy import DummyClassifier\n",
        "from sklearn.model_selection import GridSearchCV\n",
        "from sklearn.ensemble import RandomForestClassifier\n",
        "import sklearn.metrics as metrics\n",
        "from xgboost import XGBClassifier\n",
        "\n"
      ]
    },
    {
      "cell_type": "code",
      "execution_count": 3,
      "metadata": {
        "id": "R6TpwHBUN53G"
      },
      "outputs": [],
      "source": [
        "# %%capture\n",
        "\n",
        "# !apt install libkrb5-dev\n",
        "# !wget https://downloads.apache.org/spark/spark-3.1.2/spark-3.1.2-bin-hadoop3.2.tgz\n",
        "# !tar xf spark-3.1.2-bin-hadoop3.2.tgz\n",
        "# !pip install findspark\n",
        "# !pip install sparkmagic\n",
        "# !pip install pyspark\n",
        "# ! pip install pyspark --user\n",
        "# ! pip install seaborn --user\n",
        "# ! pip install plotly --user\n",
        "# ! pip install imageio --user\n",
        "# ! pip install folium --user"
      ]
    },
    {
      "cell_type": "code",
      "execution_count": 4,
      "metadata": {
        "id": "vLBeaMNPN9sW"
      },
      "outputs": [],
      "source": [
        "# import pyspark\n",
        "# from pyspark.sql import SQLContext\n",
        "# from pyspark.sql import SparkSession\n",
        "# from pyspark.sql.types import *\n",
        "# import pyspark.sql.functions as F\n",
        "\n",
        "# spark = SparkSession.builder.getOrCreate()\n",
        "# sqlContext = SQLContext(spark)"
      ]
    },
    {
      "cell_type": "code",
      "execution_count": 5,
      "metadata": {
        "id": "lsFaWe3XOAGl"
      },
      "outputs": [],
      "source": [
        "# %load_ext sparkmagic.magics"
      ]
    },
    {
      "cell_type": "code",
      "execution_count": 6,
      "metadata": {
        "id": "hSXk3pzNOFCu"
      },
      "outputs": [],
      "source": [
        "# # SQLite RDBMS\n",
        "# import sqlite3\n",
        "\n",
        "# import os\n",
        "# os.environ['SPARK_HOME'] = '/content/spark-3.1.2-bin-hadoop3.2'\n",
        "# os.environ[\"JAVA_HOME\"] = \"/usr/lib/jvm/java-8-openjdk-amd64\""
      ]
    },
    {
      "attachments": {},
      "cell_type": "markdown",
      "metadata": {
        "id": "SQQq1vTlKEHi"
      },
      "source": [
        "# Data Upload and Preview\n",
        "\n",
        "In this section, we will:\n",
        "\n",
        "\n",
        "*   Upload a sample of the reviews data\n",
        "*   Preview data to confirm it looks as expected, pending closer review in next section\n",
        "\n"
      ]
    },
    {
      "attachments": {},
      "cell_type": "markdown",
      "metadata": {
        "id": "ahPvYOWEkYBZ"
      },
      "source": [
        "The data, originally sourced from [THIS SITE](https://amazon-reviews-2023.github.io/) as described above, was saved in a Google Drive folder and given public access. It can now be retrieved with [THIS LINK](https://drive.google.com/file/d/1-ImOUcxWCSgsd1w01s7DdLXl35Tr9dcl/view) which will be used below.\n",
        "\n",
        "**NOTE:** If automated download based on the linked data does not work (could happen if file used often), save data `.gz` file (Home and Kitchen Reviews) locally in same directory. This file can be downloaded by clicking [HERE](https://datarepo.eng.ucsd.edu/mcauley_group/data/amazon_2023/raw/review_categories/Home_and_Kitchen.jsonl.gz)"
      ]
    },
    {
      "cell_type": "code",
      "execution_count": 7,
      "metadata": {
        "colab": {
          "base_uri": "https://localhost:8080/",
          "height": 56
        },
        "id": "fljC_qB4jiH9",
        "outputId": "9225c589-4ffb-401a-dfb2-466ef81b8c3d"
      },
      "outputs": [
        {
          "name": "stdout",
          "output_type": "stream",
          "text": [
            "Attempt File Intake via GDown\n"
          ]
        },
        {
          "name": "stderr",
          "output_type": "stream",
          "text": [
            "Downloading...\n",
            "From (original): https://drive.google.com/uc?id=1-ImOUcxWCSgsd1w01s7DdLXl35Tr9dcl\n",
            "From (redirected): https://drive.google.com/uc?id=1-ImOUcxWCSgsd1w01s7DdLXl35Tr9dcl&confirm=t&uuid=ca2e7c09-fb8c-4607-931a-68b15d9c9974\n",
            "To: /Users/rachelleperez/Desktop/cis_545_project/Home_and_Kitchen.jsonl.gz\n",
            "100%|██████████| 8.42G/8.42G [01:53<00:00, 74.2MB/s]"
          ]
        },
        {
          "name": "stdout",
          "output_type": "stream",
          "text": [
            "File Intake via GDown Success\n"
          ]
        },
        {
          "name": "stderr",
          "output_type": "stream",
          "text": [
            "\n"
          ]
        }
      ],
      "source": [
        "# download from public link file using gdown\n",
        "try:\n",
        "  print('Attempt File Intake via GDown')\n",
        "  # link for .gz file in Google Drive link: https://drive.google.com/file/d/1-ImOUcxWCSgsd1w01s7DdLXl35Tr9dcl/view?usp=sharing (shared with anyone with a link)\n",
        "  file_id = '1-ImOUcxWCSgsd1w01s7DdLXl35Tr9dcl'\n",
        "  url = f'https://drive.google.com/uc?id={file_id}'\n",
        "  output_file = 'Home_and_Kitchen.jsonl.gz'\n",
        "  gdown.download(url, output_file, quiet=False)\n",
        "  print('File Intake via GDown Success')\n",
        "\n",
        "# if you can't use web version, upload from local file\n",
        "except:\n",
        "  print('Unable in injest from GDown')\n",
        "  output_file = '/Home_and_Kitchen.jsonl.gz' # expects local execution with file in same folder"
      ]
    },
    {
      "attachments": {},
      "cell_type": "markdown",
      "metadata": {
        "id": "GVFLT28epfS0"
      },
      "source": [
        "Let's now extract the data needed. The data (in `.gz` file) just downloaded includes all the **Home and Kitchen** Amazon Reviews in the data sourced but we only want to **keep the 2023 data**.\n",
        "\n",
        "Hence below, we will extract all the data for 2023. The date is in unix (as per the data dictionary section above). To convert it into a year, we can use the function [datetime.fromtimestamp](https://docs.python.org/3/library/datetime.html#datetime.date.fromtimestamp) which expects the input in the unit seconds to turn into a date and then extract the year.\n",
        "\n",
        "<!-- **NOTE (Limitation)**: Ingesting all 2023 reviews to then make a random sample of them would have been the best course of action, but due to RAM limitations, we will ingest only up to the sample_size desired. The code for the former will be available below for reference but commented. There is a potential risk in the data being ordered in a way that introduces bias. -->"
      ]
    },
    {
      "cell_type": "code",
      "execution_count": 8,
      "metadata": {
        "id": "ao8kGeHRfuOV"
      },
      "outputs": [],
      "source": [
        "# try-except-else to confirm the file downloaded is in the format expected\n",
        "try:\n",
        "    with gzip.open(output_file, 'rb') as f:\n",
        "        f.read(1) # try to read first byte\n",
        "        f.seek(0) # rewinds file pointer for next stage\n",
        "except IOError:\n",
        "    print(f\"File '{output_file}' not in gzip format needed.\")\n",
        "else:\n",
        "    # if reached, file in correct format, attemp data load into JSON\n",
        "    json_reviews = {}\n",
        "    with gzip.open(output_file, 'rb') as f: # with format, closes file upon finished\n",
        "        i = 0\n",
        "        for line in io.TextIOWrapper(f, encoding='utf-8'):\n",
        "            json_data = json.loads(line.strip())\n",
        "            # print(json_data)\n",
        "            # print('timestamp' in json_reviews)\n",
        "\n",
        "            # extract the year of the review\n",
        "            if 'timestamp' in json_data:\n",
        "              # extract year\n",
        "              timestamp_s = json_data['timestamp'] / 1000 # converts to seconds\n",
        "              review_date = datetime.datetime.fromtimestamp(timestamp_s)\n",
        "              review_year = review_date.year\n",
        "\n",
        "              # print(timestamp_s)\n",
        "              # print(review_date)\n",
        "              # print(review_year)\n",
        "\n",
        "              # save 2023 year only\n",
        "              if review_year == 2023:\n",
        "                json_data['date'] = review_date # saved the date for future use\n",
        "                json_reviews[i] = json_data\n",
        "                i += 1\n"
      ]
    },
    {
      "cell_type": "code",
      "execution_count": 9,
      "metadata": {
        "id": "1pPI6Qe44pwS"
      },
      "outputs": [
        {
          "data": {
            "text/plain": [
              "{'rating': 1.0,\n",
              " 'title': 'Received Used & scratched item! Purchased new!',\n",
              " 'text': 'Livid.  Once again received an obviously used item that has food on it & scratches. I purchased this new!!  Pics not loading rn. Will add them later. Disgusted.',\n",
              " 'images': [],\n",
              " 'asin': 'B007WQ9YNO',\n",
              " 'parent_asin': 'B09XWYG6X1',\n",
              " 'user_id': 'AFKZENTNBQ7A7V7UXW5JJI6UGRYQ',\n",
              " 'timestamp': 1677373409298,\n",
              " 'helpful_vote': 1,\n",
              " 'verified_purchase': True,\n",
              " 'date': datetime.datetime(2023, 2, 25, 20, 3, 29, 298000)}"
            ]
          },
          "execution_count": 9,
          "metadata": {},
          "output_type": "execute_result"
        }
      ],
      "source": [
        "json_reviews[0]"
      ]
    },
    {
      "cell_type": "code",
      "execution_count": 10,
      "metadata": {
        "id": "jy09RpCC5jga"
      },
      "outputs": [
        {
          "data": {
            "text/plain": [
              "3993946"
            ]
          },
          "execution_count": 10,
          "metadata": {},
          "output_type": "execute_result"
        }
      ],
      "source": [
        "len(json_reviews)"
      ]
    },
    {
      "attachments": {},
      "cell_type": "markdown",
      "metadata": {
        "id": "yoG-QUuREhNZ"
      },
      "source": [
        "**Sample Size**: This review set is way too large, so we will generate a random sample of 100,000 elements below. We picked 100K elements as we want at least 50K records after preprocessing for robust analysis and expect some dropoff along the way. For randomization, we will use Python's [random.seed](https://docs.python.org/3/library/random.html) so that upon this note's reproductions, the same elements are selected."
      ]
    },
    {
      "cell_type": "code",
      "execution_count": 11,
      "metadata": {
        "id": "ngLJc0XaGmoG"
      },
      "outputs": [],
      "source": [
        "# what data size to keep?\n",
        "sample_size = 100000"
      ]
    },
    {
      "cell_type": "code",
      "execution_count": 12,
      "metadata": {
        "id": "1bk3fI1M79mT"
      },
      "outputs": [],
      "source": [
        "# sets the random seed described above\n",
        "random.seed(5450)"
      ]
    },
    {
      "cell_type": "code",
      "execution_count": 13,
      "metadata": {
        "id": "AUCDadbX79uI"
      },
      "outputs": [],
      "source": [
        "# extract keys\n",
        "json_reviews_keys = list(json_reviews.keys()) # expect range(0, len(json_reviews)-1)"
      ]
    },
    {
      "cell_type": "code",
      "execution_count": 14,
      "metadata": {
        "id": "gbwUJvcm8Kpb"
      },
      "outputs": [],
      "source": [
        "json_reviews_keys_random = random.sample(json_reviews_keys, sample_size)"
      ]
    },
    {
      "cell_type": "code",
      "execution_count": 15,
      "metadata": {
        "id": "BEJGYcV88evw"
      },
      "outputs": [],
      "source": [
        "# new dictionary with just the sample\n",
        "json_reviews_sample = {key: json_reviews[key] for key in json_reviews_keys_random }"
      ]
    },
    {
      "cell_type": "code",
      "execution_count": 16,
      "metadata": {
        "id": "_ChpRIEq8jZY"
      },
      "outputs": [
        {
          "data": {
            "text/plain": [
              "100000"
            ]
          },
          "execution_count": 16,
          "metadata": {},
          "output_type": "execute_result"
        }
      ],
      "source": [
        "len(json_reviews_sample)"
      ]
    },
    {
      "cell_type": "code",
      "execution_count": 17,
      "metadata": {
        "id": "XvW4opi8shCK"
      },
      "outputs": [
        {
          "data": {
            "text/plain": [
              "{'rating': 5.0,\n",
              " 'title': 'Best genshin cloak ever!!',\n",
              " 'text': \"I got the klee set and it was PERFECT! Nothing could be called wrong. The cloak is so sturdy and thick and fluffy and soft! The print is amazing, it fits well, and im American size 2x, so surprised it's so nice! The dodoco tales book it came with was also superior quality, and makes a cute decor or a lovely pillow, it had a very slight smell to it but it aired out overnight and is very good now.  Plus it came with a cute little vision and a klee keychain and i got a random nehida bookmark, which is holographic and also well made. Well worth the price, and it arrived earlier than expected!!\",\n",
              " 'images': [],\n",
              " 'asin': 'B09ZGD2GLK',\n",
              " 'parent_asin': 'B09ZG666VM',\n",
              " 'user_id': 'AHUYIA6NT7CE3UZZJL6QZLFDUW4A',\n",
              " 'timestamp': 1692302206126,\n",
              " 'helpful_vote': 0,\n",
              " 'verified_purchase': True,\n",
              " 'date': datetime.datetime(2023, 8, 17, 15, 56, 46, 126000)}"
            ]
          },
          "execution_count": 17,
          "metadata": {},
          "output_type": "execute_result"
        }
      ],
      "source": [
        "# preview an element\n",
        "\n",
        "json_reviews_sample[list(json_reviews_sample.keys())[0]] # may no longer have key of 0 so extracting keys as a list and picking 1"
      ]
    },
    {
      "attachments": {},
      "cell_type": "markdown",
      "metadata": {
        "id": "bh2gJqeqFeZT"
      },
      "source": [
        "Now, that the desired data is saved in the dictionary `json_reviews_sample`, we can format this data as a dataframe. Once the dataframe is ready, we can discard the helper dictionaries `json_reviews` and `json_reviews_sample` used in this section as they won't be needed in future sections"
      ]
    },
    {
      "cell_type": "code",
      "execution_count": 18,
      "metadata": {
        "id": "dkStDT-VfuRd"
      },
      "outputs": [
        {
          "data": {
            "text/html": [
              "<div>\n",
              "<style scoped>\n",
              "    .dataframe tbody tr th:only-of-type {\n",
              "        vertical-align: middle;\n",
              "    }\n",
              "\n",
              "    .dataframe tbody tr th {\n",
              "        vertical-align: top;\n",
              "    }\n",
              "\n",
              "    .dataframe thead th {\n",
              "        text-align: right;\n",
              "    }\n",
              "</style>\n",
              "<table border=\"1\" class=\"dataframe\">\n",
              "  <thead>\n",
              "    <tr style=\"text-align: right;\">\n",
              "      <th></th>\n",
              "      <th>rating</th>\n",
              "      <th>title</th>\n",
              "      <th>text</th>\n",
              "      <th>images</th>\n",
              "      <th>asin</th>\n",
              "      <th>parent_asin</th>\n",
              "      <th>user_id</th>\n",
              "      <th>timestamp</th>\n",
              "      <th>helpful_vote</th>\n",
              "      <th>verified_purchase</th>\n",
              "      <th>date</th>\n",
              "    </tr>\n",
              "  </thead>\n",
              "  <tbody>\n",
              "    <tr>\n",
              "      <th>0</th>\n",
              "      <td>5.0</td>\n",
              "      <td>Best genshin cloak ever!!</td>\n",
              "      <td>I got the klee set and it was PERFECT! Nothing...</td>\n",
              "      <td>[]</td>\n",
              "      <td>B09ZGD2GLK</td>\n",
              "      <td>B09ZG666VM</td>\n",
              "      <td>AHUYIA6NT7CE3UZZJL6QZLFDUW4A</td>\n",
              "      <td>1692302206126</td>\n",
              "      <td>0</td>\n",
              "      <td>True</td>\n",
              "      <td>2023-08-17 15:56:46.126</td>\n",
              "    </tr>\n",
              "    <tr>\n",
              "      <th>1</th>\n",
              "      <td>5.0</td>\n",
              "      <td>Awesome!</td>\n",
              "      <td>Great quality, perfect packaging and beautiful...</td>\n",
              "      <td>[{'small_image_url': 'https://m.media-amazon.c...</td>\n",
              "      <td>B0B5TL3VPJ</td>\n",
              "      <td>B0C9R1K7KX</td>\n",
              "      <td>AG2YS4TLOV34BNM57IKDLV4GGUHQ</td>\n",
              "      <td>1676241778198</td>\n",
              "      <td>1</td>\n",
              "      <td>True</td>\n",
              "      <td>2023-02-12 17:42:58.198</td>\n",
              "    </tr>\n",
              "  </tbody>\n",
              "</table>\n",
              "</div>"
            ],
            "text/plain": [
              "   rating                      title  \\\n",
              "0     5.0  Best genshin cloak ever!!   \n",
              "1     5.0                   Awesome!   \n",
              "\n",
              "                                                text  \\\n",
              "0  I got the klee set and it was PERFECT! Nothing...   \n",
              "1  Great quality, perfect packaging and beautiful...   \n",
              "\n",
              "                                              images        asin parent_asin  \\\n",
              "0                                                 []  B09ZGD2GLK  B09ZG666VM   \n",
              "1  [{'small_image_url': 'https://m.media-amazon.c...  B0B5TL3VPJ  B0C9R1K7KX   \n",
              "\n",
              "                        user_id      timestamp  helpful_vote  \\\n",
              "0  AHUYIA6NT7CE3UZZJL6QZLFDUW4A  1692302206126             0   \n",
              "1  AG2YS4TLOV34BNM57IKDLV4GGUHQ  1676241778198             1   \n",
              "\n",
              "   verified_purchase                    date  \n",
              "0               True 2023-08-17 15:56:46.126  \n",
              "1               True 2023-02-12 17:42:58.198  "
            ]
          },
          "execution_count": 18,
          "metadata": {},
          "output_type": "execute_result"
        }
      ],
      "source": [
        "raw_reviews = pd.DataFrame.from_dict(json_reviews_sample, orient='index')\n",
        "raw_reviews.reset_index(drop=True, inplace=True) # update to 0 indexing, instead of the keys in the json\n",
        "\n",
        "# preview data\n",
        "raw_reviews.head(2)"
      ]
    },
    {
      "cell_type": "code",
      "execution_count": 19,
      "metadata": {
        "id": "DwIcUkIQHleB"
      },
      "outputs": [],
      "source": [
        "# delete uneeded resources\n",
        "del json_reviews\n",
        "del json_reviews_sample"
      ]
    },
    {
      "cell_type": "code",
      "execution_count": 20,
      "metadata": {
        "id": "slksJdo2ICDM"
      },
      "outputs": [],
      "source": [
        "# raise Exception(\"Stop: End of Data Upload\")"
      ]
    },
    {
      "attachments": {},
      "cell_type": "markdown",
      "metadata": {
        "id": "OHvMuVooG43-"
      },
      "source": [
        "We have reached the conclusion of data input, a dataframe with the sample reviews we were looking for"
      ]
    },
    {
      "attachments": {},
      "cell_type": "markdown",
      "metadata": {
        "id": "BUni6M3wKH-J"
      },
      "source": [
        "# Data Preprocessing\n",
        "\n",
        "In this section, we will proprocess our reviews dataset with checks for: **nulls, wrong data types**, and any else that may come up. This area will contain the first steps in feature engineering.\n"
      ]
    },
    {
      "cell_type": "code",
      "execution_count": 204,
      "metadata": {
        "id": "i5gPcoeYVn-i"
      },
      "outputs": [],
      "source": [
        "# input raw_reviews from data upload\n",
        "# output here: reviews = a dataframe ready for EDA\n",
        "\n",
        "# start with copying raw_reviews from section above. This new df will undergo changes\n",
        "reviews = raw_reviews.copy()"
      ]
    },
    {
      "cell_type": "code",
      "execution_count": 205,
      "metadata": {
        "id": "JlzUYM4TI9PE"
      },
      "outputs": [
        {
          "data": {
            "text/html": [
              "<div>\n",
              "<style scoped>\n",
              "    .dataframe tbody tr th:only-of-type {\n",
              "        vertical-align: middle;\n",
              "    }\n",
              "\n",
              "    .dataframe tbody tr th {\n",
              "        vertical-align: top;\n",
              "    }\n",
              "\n",
              "    .dataframe thead th {\n",
              "        text-align: right;\n",
              "    }\n",
              "</style>\n",
              "<table border=\"1\" class=\"dataframe\">\n",
              "  <thead>\n",
              "    <tr style=\"text-align: right;\">\n",
              "      <th></th>\n",
              "      <th>rating</th>\n",
              "      <th>title</th>\n",
              "      <th>text</th>\n",
              "      <th>images</th>\n",
              "      <th>asin</th>\n",
              "      <th>parent_asin</th>\n",
              "      <th>user_id</th>\n",
              "      <th>timestamp</th>\n",
              "      <th>helpful_vote</th>\n",
              "      <th>verified_purchase</th>\n",
              "      <th>date</th>\n",
              "    </tr>\n",
              "  </thead>\n",
              "  <tbody>\n",
              "    <tr>\n",
              "      <th>0</th>\n",
              "      <td>5.0</td>\n",
              "      <td>Best genshin cloak ever!!</td>\n",
              "      <td>I got the klee set and it was PERFECT! Nothing...</td>\n",
              "      <td>[]</td>\n",
              "      <td>B09ZGD2GLK</td>\n",
              "      <td>B09ZG666VM</td>\n",
              "      <td>AHUYIA6NT7CE3UZZJL6QZLFDUW4A</td>\n",
              "      <td>1692302206126</td>\n",
              "      <td>0</td>\n",
              "      <td>True</td>\n",
              "      <td>2023-08-17 15:56:46.126</td>\n",
              "    </tr>\n",
              "    <tr>\n",
              "      <th>1</th>\n",
              "      <td>5.0</td>\n",
              "      <td>Awesome!</td>\n",
              "      <td>Great quality, perfect packaging and beautiful...</td>\n",
              "      <td>[{'small_image_url': 'https://m.media-amazon.c...</td>\n",
              "      <td>B0B5TL3VPJ</td>\n",
              "      <td>B0C9R1K7KX</td>\n",
              "      <td>AG2YS4TLOV34BNM57IKDLV4GGUHQ</td>\n",
              "      <td>1676241778198</td>\n",
              "      <td>1</td>\n",
              "      <td>True</td>\n",
              "      <td>2023-02-12 17:42:58.198</td>\n",
              "    </tr>\n",
              "  </tbody>\n",
              "</table>\n",
              "</div>"
            ],
            "text/plain": [
              "   rating                      title  \\\n",
              "0     5.0  Best genshin cloak ever!!   \n",
              "1     5.0                   Awesome!   \n",
              "\n",
              "                                                text  \\\n",
              "0  I got the klee set and it was PERFECT! Nothing...   \n",
              "1  Great quality, perfect packaging and beautiful...   \n",
              "\n",
              "                                              images        asin parent_asin  \\\n",
              "0                                                 []  B09ZGD2GLK  B09ZG666VM   \n",
              "1  [{'small_image_url': 'https://m.media-amazon.c...  B0B5TL3VPJ  B0C9R1K7KX   \n",
              "\n",
              "                        user_id      timestamp  helpful_vote  \\\n",
              "0  AHUYIA6NT7CE3UZZJL6QZLFDUW4A  1692302206126             0   \n",
              "1  AG2YS4TLOV34BNM57IKDLV4GGUHQ  1676241778198             1   \n",
              "\n",
              "   verified_purchase                    date  \n",
              "0               True 2023-08-17 15:56:46.126  \n",
              "1               True 2023-02-12 17:42:58.198  "
            ]
          },
          "execution_count": 205,
          "metadata": {},
          "output_type": "execute_result"
        }
      ],
      "source": [
        "reviews.head(2)"
      ]
    },
    {
      "attachments": {},
      "cell_type": "markdown",
      "metadata": {
        "id": "-vWTwgLyJcP_"
      },
      "source": [
        "Upon first glance, the data looks as expected. Let's consider nulls first"
      ]
    },
    {
      "cell_type": "code",
      "execution_count": 206,
      "metadata": {
        "id": "MZ3JTdmmKevl"
      },
      "outputs": [
        {
          "data": {
            "text/plain": [
              "rating               0\n",
              "title                0\n",
              "text                 0\n",
              "images               0\n",
              "asin                 0\n",
              "parent_asin          0\n",
              "user_id              0\n",
              "timestamp            0\n",
              "helpful_vote         0\n",
              "verified_purchase    0\n",
              "date                 0\n",
              "dtype: int64"
            ]
          },
          "execution_count": 206,
          "metadata": {},
          "output_type": "execute_result"
        }
      ],
      "source": [
        "reviews.isnull().sum()"
      ]
    },
    {
      "attachments": {},
      "cell_type": "markdown",
      "metadata": {
        "id": "KYKJHmjHKk-P"
      },
      "source": [
        "There are no nulls. Let's look at **duplicates**. As images is an array, we can't use drop_duplicates on the entire dataframe. Hence, we will base duplicate drops based on certain columns where a duplicate = the same user putting more than one review at the exact same time, down to the ms, for the exact same product."
      ]
    },
    {
      "cell_type": "code",
      "execution_count": 207,
      "metadata": {
        "id": "9Gg1WfiasqH8"
      },
      "outputs": [
        {
          "data": {
            "text/plain": [
              "99956"
            ]
          },
          "execution_count": 207,
          "metadata": {},
          "output_type": "execute_result"
        }
      ],
      "source": [
        "# how much will stay after\n",
        "duplicate_check_cols = ['user_id', 'timestamp', 'parent_asin', 'asin']\n",
        "len(reviews.drop_duplicates(subset=duplicate_check_cols))"
      ]
    },
    {
      "cell_type": "code",
      "execution_count": 208,
      "metadata": {
        "id": "medYKVAftxZ9"
      },
      "outputs": [
        {
          "data": {
            "text/plain": [
              "100000"
            ]
          },
          "execution_count": 208,
          "metadata": {},
          "output_type": "execute_result"
        }
      ],
      "source": [
        "# drop duplicates\n",
        "len(reviews)"
      ]
    },
    {
      "cell_type": "code",
      "execution_count": 209,
      "metadata": {
        "id": "6YhoSc04tIH6"
      },
      "outputs": [
        {
          "data": {
            "text/plain": [
              "99956"
            ]
          },
          "execution_count": 209,
          "metadata": {},
          "output_type": "execute_result"
        }
      ],
      "source": [
        "reviews.drop_duplicates(subset=duplicate_check_cols, inplace=True)\n",
        "len(reviews)\n"
      ]
    },
    {
      "attachments": {},
      "cell_type": "markdown",
      "metadata": {
        "id": "ng3ULAvPtIVv"
      },
      "source": [
        "We finished with duplicates. Let's look at data types now."
      ]
    },
    {
      "cell_type": "code",
      "execution_count": 210,
      "metadata": {
        "id": "V3wZVMvuI9Zn"
      },
      "outputs": [
        {
          "data": {
            "text/plain": [
              "rating                      float64\n",
              "title                        object\n",
              "text                         object\n",
              "images                       object\n",
              "asin                         object\n",
              "parent_asin                  object\n",
              "user_id                      object\n",
              "timestamp                     int64\n",
              "helpful_vote                  int64\n",
              "verified_purchase              bool\n",
              "date                 datetime64[ns]\n",
              "dtype: object"
            ]
          },
          "execution_count": 210,
          "metadata": {},
          "output_type": "execute_result"
        }
      ],
      "source": [
        "reviews.dtypes"
      ]
    },
    {
      "attachments": {},
      "cell_type": "markdown",
      "metadata": {
        "id": "P-F_axX3KT8W"
      },
      "source": [
        "The string columns are correctly identified, let's take a closer look at the numeric ones and boolean ones below."
      ]
    },
    {
      "cell_type": "code",
      "execution_count": 211,
      "metadata": {
        "id": "Rhig3e37I9eE"
      },
      "outputs": [
        {
          "data": {
            "text/plain": [
              "rating\n",
              "5.0    0.638581\n",
              "1.0    0.126886\n",
              "4.0    0.105737\n",
              "3.0    0.072642\n",
              "2.0    0.056155\n",
              "Name: proportion, dtype: float64"
            ]
          },
          "execution_count": 211,
          "metadata": {},
          "output_type": "execute_result"
        }
      ],
      "source": [
        "# Rating\n",
        "reviews['rating'].value_counts(normalize=True)"
      ]
    },
    {
      "cell_type": "code",
      "execution_count": 212,
      "metadata": {
        "id": "NW6tnGQVI9ic"
      },
      "outputs": [],
      "source": [
        "# change to integer as decimal is unecessary information\n",
        "\n",
        "reviews['rating'] = reviews['rating'].astype(int)"
      ]
    },
    {
      "cell_type": "code",
      "execution_count": 213,
      "metadata": {
        "id": "6AszUm-HI9k7"
      },
      "outputs": [
        {
          "data": {
            "text/plain": [
              "dtype('int64')"
            ]
          },
          "execution_count": 213,
          "metadata": {},
          "output_type": "execute_result"
        }
      ],
      "source": [
        "reviews['rating'].dtypes"
      ]
    },
    {
      "attachments": {},
      "cell_type": "markdown",
      "metadata": {
        "id": "DKU4s4kQLikq"
      },
      "source": [
        "For rating, we know there are not nulls and the data will be an integer 1-5. Let's now consider the `timestamp` and `date` columns. The first can be dropped right away as it is redundant. For the latter, let's break it apart into some interesting components.\n",
        "\n",
        "**NOTE**: As timestamp was in unix and we don't have each user's timezone, we will assume there is no way to know the individual local time. Hence, we will not use hour. Some of those differences would be slightly less marked in day of the week and month. *For `dt.dayofweek`, the days are denoted by 0-6 based on Monday-Sunday ([src](https://pandas.pydata.org/pandas-docs/stable/reference/api/pandas.Series.dt.dayofweek.html))*"
      ]
    },
    {
      "cell_type": "code",
      "execution_count": 214,
      "metadata": {
        "id": "B2csZHLWURIu"
      },
      "outputs": [
        {
          "data": {
            "text/plain": [
              "11"
            ]
          },
          "execution_count": 214,
          "metadata": {},
          "output_type": "execute_result"
        }
      ],
      "source": [
        "# drop timestamp\n",
        "len(reviews.columns)"
      ]
    },
    {
      "cell_type": "code",
      "execution_count": 215,
      "metadata": {
        "id": "Xsvy2xUDUuFV"
      },
      "outputs": [
        {
          "data": {
            "text/plain": [
              "10"
            ]
          },
          "execution_count": 215,
          "metadata": {},
          "output_type": "execute_result"
        }
      ],
      "source": [
        "reviews.drop(columns=['timestamp'], inplace=True)\n",
        "len(reviews.columns)"
      ]
    },
    {
      "attachments": {},
      "cell_type": "markdown",
      "metadata": {
        "id": "IvM7Aly-WeVZ"
      },
      "source": []
    },
    {
      "cell_type": "code",
      "execution_count": 216,
      "metadata": {
        "id": "RFLUkL7ZU3nC"
      },
      "outputs": [
        {
          "data": {
            "text/plain": [
              "0   2023-08-17 15:56:46.126\n",
              "1   2023-02-12 17:42:58.198\n",
              "2   2023-01-08 19:39:47.867\n",
              "3   2023-07-16 14:24:22.125\n",
              "Name: date, dtype: datetime64[ns]"
            ]
          },
          "execution_count": 216,
          "metadata": {},
          "output_type": "execute_result"
        }
      ],
      "source": [
        "# preview date\n",
        "reviews['date'].head(4)"
      ]
    },
    {
      "cell_type": "code",
      "execution_count": 217,
      "metadata": {
        "id": "N8CjJ5eNUx3Y"
      },
      "outputs": [
        {
          "data": {
            "text/plain": [
              "dow\n",
              "0    0.157249\n",
              "1    0.149496\n",
              "2    0.147485\n",
              "6    0.140962\n",
              "3    0.140842\n",
              "5    0.133109\n",
              "4    0.130858\n",
              "Name: proportion, dtype: float64"
            ]
          },
          "execution_count": 217,
          "metadata": {},
          "output_type": "execute_result"
        }
      ],
      "source": [
        "reviews['dow'] = reviews['date'].dt.dayofweek\n",
        "reviews['dow'].value_counts(normalize=True)"
      ]
    },
    {
      "cell_type": "code",
      "execution_count": 218,
      "metadata": {
        "id": "D84BuCwSWmJb"
      },
      "outputs": [
        {
          "data": {
            "text/plain": [
              "month\n",
              "1    0.264726\n",
              "3    0.226640\n",
              "2    0.202669\n",
              "4    0.126206\n",
              "5    0.070161\n",
              "6    0.045130\n",
              "7    0.036916\n",
              "8    0.025791\n",
              "9    0.001761\n",
              "Name: proportion, dtype: float64"
            ]
          },
          "execution_count": 218,
          "metadata": {},
          "output_type": "execute_result"
        }
      ],
      "source": [
        "reviews['month'] = reviews['date'].dt.month\n",
        "reviews['month'].value_counts(normalize=True)"
      ]
    },
    {
      "cell_type": "code",
      "execution_count": 219,
      "metadata": {
        "id": "6Z90nl7hyJdq"
      },
      "outputs": [
        {
          "data": {
            "image/png": "[encoded data removed]",
            "text/plain": [
              "<Figure size 640x480 with 1 Axes>"
            ]
          },
          "metadata": {},
          "output_type": "display_data"
        }
      ],
      "source": [
        "reviews['month'].value_counts(normalize=True).plot.bar().set_title('Month Frequency (%)');"
      ]
    },
    {
      "attachments": {},
      "cell_type": "markdown",
      "metadata": {
        "id": "CKqPREdhx0m8"
      },
      "source": [
        "**NOTE (Limitation):** We dont have data for all 2023. The data does not go past September 9th. We will be under the assumption the months left are representative of the patterns for the year."
      ]
    },
    {
      "cell_type": "code",
      "execution_count": 220,
      "metadata": {
        "id": "LbytvKycWtWo"
      },
      "outputs": [
        {
          "data": {
            "text/plain": [
              "12"
            ]
          },
          "execution_count": 220,
          "metadata": {},
          "output_type": "execute_result"
        }
      ],
      "source": [
        "# drop date\n",
        "len(reviews.columns)"
      ]
    },
    {
      "cell_type": "code",
      "execution_count": 221,
      "metadata": {
        "id": "_OHjxDPnWzXc"
      },
      "outputs": [
        {
          "data": {
            "text/plain": [
              "11"
            ]
          },
          "execution_count": 221,
          "metadata": {},
          "output_type": "execute_result"
        }
      ],
      "source": [
        "reviews.drop(columns=['date'], inplace=True)\n",
        "len(reviews.columns)"
      ]
    },
    {
      "attachments": {},
      "cell_type": "markdown",
      "metadata": {
        "id": "yDh85BpoURg6"
      },
      "source": [
        "The date was handled. We dont have a timestamp or date, but kept a days of week and a month columns for curiosity later.\n",
        "\n",
        "Let's quicksly move on to the booleans. For EDA purposes, let's make these True/False instead of integer (to be changed later for modeling)"
      ]
    },
    {
      "cell_type": "code",
      "execution_count": 222,
      "metadata": {
        "id": "1DpiaDPmMNHU"
      },
      "outputs": [
        {
          "data": {
            "text/plain": [
              "verified_purchase\n",
              "True     0.868662\n",
              "False    0.131338\n",
              "Name: proportion, dtype: float64"
            ]
          },
          "execution_count": 222,
          "metadata": {},
          "output_type": "execute_result"
        }
      ],
      "source": [
        "# verified purchase\n",
        "reviews['verified_purchase'].value_counts(normalize=True)"
      ]
    },
    {
      "cell_type": "code",
      "execution_count": 223,
      "metadata": {
        "id": "i9BirEYgNFiU"
      },
      "outputs": [
        {
          "data": {
            "text/plain": [
              "65"
            ]
          },
          "execution_count": 223,
          "metadata": {},
          "output_type": "execute_result"
        }
      ],
      "source": [
        "# helpful_vote\n",
        "reviews['helpful_vote'].nunique()"
      ]
    },
    {
      "cell_type": "code",
      "execution_count": 224,
      "metadata": {
        "id": "SJXB8DLeMxkM"
      },
      "outputs": [
        {
          "data": {
            "text/plain": [
              "helpful_vote\n",
              "0     0.809896\n",
              "1     0.119252\n",
              "2     0.034355\n",
              "3     0.013956\n",
              "4     0.007353\n",
              "5     0.004512\n",
              "6     0.002741\n",
              "7     0.001671\n",
              "8     0.001221\n",
              "9     0.000970\n",
              "10    0.000650\n",
              "11    0.000550\n",
              "12    0.000330\n",
              "13    0.000320\n",
              "14    0.000280\n",
              "15    0.000250\n",
              "17    0.000190\n",
              "19    0.000150\n",
              "16    0.000150\n",
              "21    0.000120\n",
              "Name: proportion, dtype: float64"
            ]
          },
          "execution_count": 224,
          "metadata": {},
          "output_type": "execute_result"
        }
      ],
      "source": [
        "# What is the distribution\n",
        "reviews['helpful_vote'].value_counts(normalize=True).head(20)"
      ]
    },
    {
      "cell_type": "code",
      "execution_count": 225,
      "metadata": {
        "id": "mv3xYG7_N9B7"
      },
      "outputs": [
        {
          "data": {
            "text/plain": [
              "0.9635039417343632"
            ]
          },
          "execution_count": 225,
          "metadata": {},
          "output_type": "execute_result"
        }
      ],
      "source": [
        "reviews['helpful_vote'].value_counts(normalize=True).head(3).sum()"
      ]
    },
    {
      "cell_type": "code",
      "execution_count": 226,
      "metadata": {
        "id": "Et1iQpmaN6Yr"
      },
      "outputs": [
        {
          "data": {
            "image/png": "[encoded data removed]",
            "text/plain": [
              "<Figure size 640x480 with 1 Axes>"
            ]
          },
          "metadata": {},
          "output_type": "display_data"
        }
      ],
      "source": [
        "sns.boxplot(x=reviews['helpful_vote'])\n",
        "plt.xlabel('Number of Helpful Votes')\n",
        "plt.title('Boxplot - Helpful Vote');"
      ]
    },
    {
      "attachments": {},
      "cell_type": "markdown",
      "metadata": {
        "id": "M0igpPjLNcmu"
      },
      "source": [
        "For `helpful_vote`, it is important to note this field is highly skewed. With **~80% of reviews having 0 votes** as a helpful review and **~96% reviews having 3 or less**. We can see via the boxplot above, this data has outliers.\n",
        "\n",
        "To improve usability, let's extract a boolean of being marked at all helpful vs and consider outliers based z-test with a 95% confidence interval.\n",
        "\n",
        "\n",
        "<!-- For **extracting outliers**, we will use a simple process based on z-scores on a 95% confidence interval. -->"
      ]
    },
    {
      "cell_type": "code",
      "execution_count": 227,
      "metadata": {
        "id": "OV-ZzM7rNE6k"
      },
      "outputs": [
        {
          "data": {
            "text/plain": [
              "is_helpful\n",
              "False    0.809896\n",
              "True     0.190104\n",
              "Name: proportion, dtype: float64"
            ]
          },
          "execution_count": 227,
          "metadata": {},
          "output_type": "execute_result"
        }
      ],
      "source": [
        "reviews['is_helpful'] = reviews['helpful_vote'] > 0\n",
        "reviews['is_helpful'].value_counts(normalize=True)"
      ]
    },
    {
      "cell_type": "code",
      "execution_count": 228,
      "metadata": {
        "id": "jxOhff6TQE5W"
      },
      "outputs": [
        {
          "data": {
            "text/plain": [
              "1.5186682140141663"
            ]
          },
          "execution_count": 228,
          "metadata": {},
          "output_type": "execute_result"
        }
      ],
      "source": [
        "# Look for outliers based on 95% confidence interval.\n",
        "\n",
        "confidence_level = 0.95\n",
        "z_score = norm.ppf((1 + confidence_level) / 2)\n",
        "\n",
        "helpful_vote_mean = reviews['helpful_vote'].mean()\n",
        "helpful_vote_std = reviews['helpful_vote'].std()\n",
        "\n",
        "lower_bound = helpful_vote_mean - z_score * helpful_vote_std\n",
        "upper_bound = helpful_vote_mean + z_score * helpful_vote_std\n",
        "\n",
        "# identify outliers\n",
        "\n",
        "outliers = reviews[(reviews['helpful_vote'] < lower_bound) | (reviews['helpful_vote'] > upper_bound)].index\n",
        "perc_outliers = len(outliers) / len(reviews) * 100\n",
        "perc_outliers"
      ]
    },
    {
      "cell_type": "code",
      "execution_count": 229,
      "metadata": {
        "id": "RWzDkZB-Qsh3"
      },
      "outputs": [
        {
          "data": {
            "text/plain": [
              "1518"
            ]
          },
          "execution_count": 229,
          "metadata": {},
          "output_type": "execute_result"
        }
      ],
      "source": [
        "len(outliers)"
      ]
    },
    {
      "cell_type": "code",
      "execution_count": 230,
      "metadata": {
        "id": "cfQhrkMWTe02"
      },
      "outputs": [
        {
          "data": {
            "text/plain": [
              "0.07988632775497316"
            ]
          },
          "execution_count": 230,
          "metadata": {},
          "output_type": "execute_result"
        }
      ],
      "source": [
        "# Assuming all outliers in True, how much of the True would be dropped?\n",
        "len(outliers) / len(reviews.loc[reviews['is_helpful'] == True])"
      ]
    },
    {
      "attachments": {},
      "cell_type": "markdown",
      "metadata": {
        "id": "aJapWq7cPI0V"
      },
      "source": [
        "Although there are outliers, we will keep them as the data is unbalanced and they are all in our minority class, corresponding to 7.5% of it.\n",
        "\n",
        "\n",
        "We have extracted our possible target is_helpful. For now, we will keep is_helpful and helpful_vote for EDA but the latter must be removed before any modeling to avoid data leakage.\n",
        "\n",
        "Now. let's get a glimpse on our string columns: title, text, images, asin, parent_asin, user_id"
      ]
    },
    {
      "cell_type": "code",
      "execution_count": 231,
      "metadata": {
        "id": "OXaYJJ3NXcJr"
      },
      "outputs": [
        {
          "data": {
            "text/plain": [
              "0    Best genshin cloak ever!!\n",
              "1                     Awesome!\n",
              "Name: title, dtype: object"
            ]
          },
          "execution_count": 231,
          "metadata": {},
          "output_type": "execute_result"
        }
      ],
      "source": [
        "reviews['title'].head(2)"
      ]
    },
    {
      "cell_type": "code",
      "execution_count": 232,
      "metadata": {
        "id": "CJ-jd51bXcL8"
      },
      "outputs": [
        {
          "data": {
            "text/plain": [
              "0    25\n",
              "1     8\n",
              "2    16\n",
              "3     9\n",
              "4    11\n",
              "Name: title_length, dtype: int64"
            ]
          },
          "execution_count": 232,
          "metadata": {},
          "output_type": "execute_result"
        }
      ],
      "source": [
        "reviews['title_length'] = reviews['title'].str.strip().str.len() # remove leading and trailing spaces before\n",
        "reviews['title_length'].head(5)"
      ]
    },
    {
      "cell_type": "code",
      "execution_count": 233,
      "metadata": {
        "id": "lDBPMTKWXcOF"
      },
      "outputs": [
        {
          "data": {
            "text/plain": [
              "0"
            ]
          },
          "execution_count": 233,
          "metadata": {},
          "output_type": "execute_result"
        }
      ],
      "source": [
        "# any reviews without a title once .strip() applied? No\n",
        "len(reviews.loc[reviews['title_length'] == 0])"
      ]
    },
    {
      "cell_type": "code",
      "execution_count": 234,
      "metadata": {
        "id": "zU4po5A2XcQO"
      },
      "outputs": [
        {
          "data": {
            "text/plain": [
              "title_length\n",
              "12     5046\n",
              "9      4669\n",
              "13     4602\n",
              "11     4541\n",
              "10     4346\n",
              "       ... \n",
              "94       31\n",
              "92       31\n",
              "98       29\n",
              "100      28\n",
              "93       27\n",
              "Name: count, Length: 100, dtype: int64"
            ]
          },
          "execution_count": 234,
          "metadata": {},
          "output_type": "execute_result"
        }
      ],
      "source": [
        "reviews['title_length'].value_counts()"
      ]
    },
    {
      "cell_type": "code",
      "execution_count": 235,
      "metadata": {
        "id": "wFTRafsCacGz"
      },
      "outputs": [
        {
          "data": {
            "text/plain": [
              "0    I got the klee set and it was PERFECT! Nothing...\n",
              "1    Great quality, perfect packaging and beautiful...\n",
              "Name: text, dtype: object"
            ]
          },
          "execution_count": 235,
          "metadata": {},
          "output_type": "execute_result"
        }
      ],
      "source": [
        "reviews['text'].head(2)"
      ]
    },
    {
      "cell_type": "code",
      "execution_count": 236,
      "metadata": {
        "id": "Cu_5saAiab5B"
      },
      "outputs": [
        {
          "data": {
            "text/plain": [
              "0    596\n",
              "1     81\n",
              "2     56\n",
              "3     99\n",
              "4     24\n",
              "Name: text_length, dtype: int64"
            ]
          },
          "execution_count": 236,
          "metadata": {},
          "output_type": "execute_result"
        }
      ],
      "source": [
        "#reviews['text_length'] = reviews['text'].str.strip().str.len() # remove leading and trailing spaces before\n",
        "reviews['text_length'] = reviews['text'].str.strip().str.len() # remove leading and trailing spaces before\n",
        "reviews['text_length'].head(5)"
      ]
    },
    {
      "cell_type": "code",
      "execution_count": 237,
      "metadata": {
        "id": "OwgW0fiLbU77"
      },
      "outputs": [
        {
          "data": {
            "text/plain": [
              "556"
            ]
          },
          "execution_count": 237,
          "metadata": {},
          "output_type": "execute_result"
        }
      ],
      "source": [
        "# any reviews without a text once .strip() applied? No\n",
        "len(reviews.loc[reviews['text_length'] == 0])"
      ]
    },
    {
      "cell_type": "code",
      "execution_count": 238,
      "metadata": {
        "id": "TqWq1qs5bcVS"
      },
      "outputs": [
        {
          "data": {
            "text/plain": [
              "is_blank_review\n",
              "False    0.994438\n",
              "True     0.005562\n",
              "Name: proportion, dtype: float64"
            ]
          },
          "execution_count": 238,
          "metadata": {},
          "output_type": "execute_result"
        }
      ],
      "source": [
        "reviews['is_blank_review'] = reviews['text_length'] == 0\n",
        "reviews['is_blank_review'].value_counts(normalize=True)"
      ]
    },
    {
      "attachments": {},
      "cell_type": "markdown",
      "metadata": {
        "id": "4XD5LESJckWq"
      },
      "source": [
        "We have reviewed the columns for title and text. Let's consider what to do with the rest.\n",
        "\n",
        "For user_id, let's extract a column indicating repeat reviewers but otherwise remove it.\n",
        "\n",
        "**NOTE:** An analysis looking at the review patters of reviewers could be a great next step for this analysis."
      ]
    },
    {
      "cell_type": "code",
      "execution_count": 239,
      "metadata": {
        "id": "60HixZpab-SB"
      },
      "outputs": [
        {
          "data": {
            "text/plain": [
              "95076"
            ]
          },
          "execution_count": 239,
          "metadata": {},
          "output_type": "execute_result"
        }
      ],
      "source": [
        "# any repeat reviewers?\n",
        "reviews['user_id'].nunique()"
      ]
    },
    {
      "cell_type": "code",
      "execution_count": 240,
      "metadata": {
        "id": "2LCtMrU-cZhB"
      },
      "outputs": [
        {
          "data": {
            "text/plain": [
              "reviews_per_user\n",
              "1     91406\n",
              "2      5762\n",
              "3      1635\n",
              "4       596\n",
              "5       265\n",
              "6       156\n",
              "7        63\n",
              "9        36\n",
              "21       21\n",
              "8        16\n",
              "Name: count, dtype: int64"
            ]
          },
          "execution_count": 240,
          "metadata": {},
          "output_type": "execute_result"
        }
      ],
      "source": [
        "# most users are one time reviewers, but about 9% review more than once\n",
        "\n",
        "reviews['reviews_per_user'] = reviews.groupby('user_id')['user_id'].transform('count')\n",
        "reviews['reviews_per_user'].value_counts()"
      ]
    },
    {
      "cell_type": "code",
      "execution_count": 241,
      "metadata": {
        "id": "aH0Lpu4_cZoJ"
      },
      "outputs": [
        {
          "data": {
            "text/plain": [
              "16"
            ]
          },
          "execution_count": 241,
          "metadata": {},
          "output_type": "execute_result"
        }
      ],
      "source": [
        "# drop user_id\n",
        "len(reviews.columns)"
      ]
    },
    {
      "cell_type": "code",
      "execution_count": 242,
      "metadata": {
        "id": "4-MpM8ood4cE"
      },
      "outputs": [
        {
          "data": {
            "text/plain": [
              "15"
            ]
          },
          "execution_count": 242,
          "metadata": {},
          "output_type": "execute_result"
        }
      ],
      "source": [
        "reviews.drop(columns=['user_id'], inplace=True)\n",
        "len(reviews.columns)"
      ]
    },
    {
      "attachments": {},
      "cell_type": "markdown",
      "metadata": {
        "id": "9k-7-_p3f4V3"
      },
      "source": [
        "We are done with user_id. Now, what is an \"ASIN\". As per [Amazon's website](https://developer.amazon.com/docs/mobile-associates/mas-finding-product-id.html), an ASIN is Amazon's equivalent for a product id. For the ASIN columns, we know that each `parent_asin` value has multiple children `asin` when there are variaties of the product. Let's extract the reviews for products with reviews for different variants."
      ]
    },
    {
      "cell_type": "code",
      "execution_count": 243,
      "metadata": {
        "id": "opNbaj6reeQz"
      },
      "outputs": [
        {
          "data": {
            "text/plain": [
              "has_variant_reviews\n",
              "False    0.689533\n",
              "True     0.310467\n",
              "Name: proportion, dtype: float64"
            ]
          },
          "execution_count": 243,
          "metadata": {},
          "output_type": "execute_result"
        }
      ],
      "source": [
        "reviews['has_variant_reviews'] = reviews.groupby('parent_asin')['asin'].transform(lambda x: len(x.unique()) > 1)\n",
        "reviews['has_variant_reviews'].value_counts(normalize=True)"
      ]
    },
    {
      "attachments": {},
      "cell_type": "markdown",
      "metadata": {
        "id": "ykC2NSjqiUI0"
      },
      "source": [
        "Within this project scope, we will not ingest product metadata to focus on the review features themselves. We will keep `asin` for a future section but can remove `parent_asin`"
      ]
    },
    {
      "cell_type": "code",
      "execution_count": 244,
      "metadata": {
        "id": "hlBR2mRHi1sI"
      },
      "outputs": [
        {
          "data": {
            "text/plain": [
              "16"
            ]
          },
          "execution_count": 244,
          "metadata": {},
          "output_type": "execute_result"
        }
      ],
      "source": [
        "# drop parent_asin, asin\n",
        "len(reviews.columns)"
      ]
    },
    {
      "cell_type": "code",
      "execution_count": 245,
      "metadata": {
        "id": "CR7dRIigi8RP"
      },
      "outputs": [
        {
          "data": {
            "text/plain": [
              "15"
            ]
          },
          "execution_count": 245,
          "metadata": {},
          "output_type": "execute_result"
        }
      ],
      "source": [
        "reviews.drop(columns=['parent_asin'], inplace=True)\n",
        "len(reviews.columns)"
      ]
    },
    {
      "attachments": {},
      "cell_type": "markdown",
      "metadata": {
        "id": "rRkXfc19jP6u"
      },
      "source": [
        "Let's finally consider image"
      ]
    },
    {
      "cell_type": "code",
      "execution_count": 246,
      "metadata": {
        "id": "SNw6K89ZjoXE"
      },
      "outputs": [
        {
          "data": {
            "text/plain": [
              "0                                                   []\n",
              "1    [{'small_image_url': 'https://m.media-amazon.c...\n",
              "Name: images, dtype: object"
            ]
          },
          "execution_count": 246,
          "metadata": {},
          "output_type": "execute_result"
        }
      ],
      "source": [
        "reviews['images'].head(2)"
      ]
    },
    {
      "cell_type": "code",
      "execution_count": 247,
      "metadata": {
        "id": "4YWFxin9jCMC"
      },
      "outputs": [
        {
          "data": {
            "text/plain": [
              "has_image\n",
              "False    0.851285\n",
              "True     0.148715\n",
              "Name: proportion, dtype: float64"
            ]
          },
          "execution_count": 247,
          "metadata": {},
          "output_type": "execute_result"
        }
      ],
      "source": [
        "#images\n",
        "reviews['has_image'] = reviews['images'].str.len() > 0\n",
        "reviews['has_image'].value_counts(normalize=True)"
      ]
    },
    {
      "cell_type": "code",
      "execution_count": 248,
      "metadata": {
        "id": "Clif96lhkYsO"
      },
      "outputs": [
        {
          "data": {
            "text/plain": [
              "1    [{'small_image_url': 'https://m.media-amazon.c...\n",
              "Name: images, dtype: object"
            ]
          },
          "execution_count": 248,
          "metadata": {},
          "output_type": "execute_result"
        }
      ],
      "source": [
        "reviews.loc[reviews['has_image'] == True]['images'].head(1)"
      ]
    },
    {
      "cell_type": "code",
      "execution_count": 249,
      "metadata": {
        "id": "vuWkZqPok6ws"
      },
      "outputs": [
        {
          "name": "stdout",
          "output_type": "stream",
          "text": [
            "[{'small_image_url': 'https://m.media-amazon.com/images/I/71h7PbPM5mL._SL256_.jpg', 'medium_image_url': 'https://m.media-amazon.com/images/I/71h7PbPM5mL._SL800_.jpg', 'large_image_url': 'https://m.media-amazon.com/images/I/71h7PbPM5mL._SL1600_.jpg', 'attachment_type': 'IMAGE'}]\n",
            "[{'small_image_url': 'https://m.media-amazon.com/images/I/71QpE7WWdQL._SL256_.jpg', 'medium_image_url': 'https://m.media-amazon.com/images/I/71QpE7WWdQL._SL800_.jpg', 'large_image_url': 'https://m.media-amazon.com/images/I/71QpE7WWdQL._SL1600_.jpg', 'attachment_type': 'IMAGE'}]\n",
            "[{'small_image_url': 'https://m.media-amazon.com/images/I/81BLjrj2uWL._SL256_.jpg', 'medium_image_url': 'https://m.media-amazon.com/images/I/81BLjrj2uWL._SL800_.jpg', 'large_image_url': 'https://m.media-amazon.com/images/I/81BLjrj2uWL._SL1600_.jpg', 'attachment_type': 'IMAGE'}]\n",
            "[{'small_image_url': 'https://m.media-amazon.com/images/I/61eC81bPpQL._SL256_.jpg', 'medium_image_url': 'https://m.media-amazon.com/images/I/61eC81bPpQL._SL800_.jpg', 'large_image_url': 'https://m.media-amazon.com/images/I/61eC81bPpQL._SL1600_.jpg', 'attachment_type': 'IMAGE'}]\n",
            "[{'small_image_url': 'https://m.media-amazon.com/images/I/51BpZEvGOXL._SL256_.jpg', 'medium_image_url': 'https://m.media-amazon.com/images/I/51BpZEvGOXL._SL800_.jpg', 'large_image_url': 'https://m.media-amazon.com/images/I/51BpZEvGOXL._SL1600_.jpg', 'attachment_type': 'IMAGE'}, {'small_image_url': 'https://m.media-amazon.com/images/I/61JVlXvIgiL._SL256_.jpg', 'medium_image_url': 'https://m.media-amazon.com/images/I/61JVlXvIgiL._SL800_.jpg', 'large_image_url': 'https://m.media-amazon.com/images/I/61JVlXvIgiL._SL1600_.jpg', 'attachment_type': 'IMAGE'}, {'small_image_url': 'https://m.media-amazon.com/images/I/61McCqhdtgL._SL256_.jpg', 'medium_image_url': 'https://m.media-amazon.com/images/I/61McCqhdtgL._SL800_.jpg', 'large_image_url': 'https://m.media-amazon.com/images/I/61McCqhdtgL._SL1600_.jpg', 'attachment_type': 'IMAGE'}]\n"
          ]
        }
      ],
      "source": [
        "# preview\n",
        "for x in reviews.loc[reviews['has_image'] == True]['images'].head(5):\n",
        "  print(x)"
      ]
    },
    {
      "cell_type": "code",
      "execution_count": 250,
      "metadata": {
        "id": "0qNFoYpRnBlt"
      },
      "outputs": [
        {
          "data": {
            "text/plain": [
              "num_images\n",
              "0    0.851285\n",
              "1    0.089569\n",
              "2    0.032664\n",
              "3    0.014726\n",
              "4    0.005733\n",
              "5    0.002711\n",
              "6    0.001381\n",
              "7    0.000590\n",
              "9    0.000420\n",
              "8    0.000380\n",
              "Name: proportion, dtype: float64"
            ]
          },
          "execution_count": 250,
          "metadata": {},
          "output_type": "execute_result"
        }
      ],
      "source": [
        "reviews['num_images'] = reviews['images'].apply(len)\n",
        "reviews['num_images'].value_counts(normalize=True).head(10)\n"
      ]
    },
    {
      "cell_type": "code",
      "execution_count": 251,
      "metadata": {
        "id": "mMmA5IDnms51"
      },
      "outputs": [],
      "source": [
        "# reviews['images_dict'] = reviews['images'].apply(lambda lst: lst[0] if lst else {})\n",
        "# reviews['images_dict']"
      ]
    },
    {
      "cell_type": "code",
      "execution_count": 252,
      "metadata": {
        "id": "a7oZ1_renosa"
      },
      "outputs": [
        {
          "data": {
            "text/plain": [
              "has_non_image_attachment\n",
              "False    99956\n",
              "Name: count, dtype: int64"
            ]
          },
          "execution_count": 252,
          "metadata": {},
          "output_type": "execute_result"
        }
      ],
      "source": [
        "# any with a value outside of image in attachment_type\n",
        "reviews['has_non_image_attachment'] = reviews['images'].apply(lambda lst: any('attachment_type' in img and img['attachment_type'] != 'IMAGE' for img in lst))\n",
        "reviews['has_non_image_attachment'].value_counts()"
      ]
    },
    {
      "cell_type": "code",
      "execution_count": 253,
      "metadata": {
        "id": "8OMgt6c2nv6i"
      },
      "outputs": [],
      "source": [
        "del reviews['has_non_image_attachment']"
      ]
    },
    {
      "cell_type": "code",
      "execution_count": 254,
      "metadata": {
        "id": "RHxlM7XIovVk"
      },
      "outputs": [
        {
          "data": {
            "text/plain": [
              "17"
            ]
          },
          "execution_count": 254,
          "metadata": {},
          "output_type": "execute_result"
        }
      ],
      "source": [
        "# drop images\n",
        "len(reviews.columns)"
      ]
    },
    {
      "cell_type": "code",
      "execution_count": 255,
      "metadata": {
        "id": "7RqqMc1lo13T"
      },
      "outputs": [
        {
          "data": {
            "text/plain": [
              "16"
            ]
          },
          "execution_count": 255,
          "metadata": {},
          "output_type": "execute_result"
        }
      ],
      "source": [
        "reviews.drop(columns=['images'], inplace=True)\n",
        "len(reviews.columns)"
      ]
    },
    {
      "cell_type": "code",
      "execution_count": 256,
      "metadata": {
        "id": "7hZJQjhkqgzJ"
      },
      "outputs": [
        {
          "data": {
            "text/plain": [
              "True"
            ]
          },
          "execution_count": 256,
          "metadata": {},
          "output_type": "execute_result"
        }
      ],
      "source": [
        "# is has_image now redundant??? if num_images === 0 is the same, then yes\n",
        "len(reviews.loc[reviews['has_image'] == False]) == len(reviews.loc[reviews['num_images'] == 0])"
      ]
    },
    {
      "cell_type": "code",
      "execution_count": 257,
      "metadata": {
        "id": "x24Xq4znqzpw"
      },
      "outputs": [
        {
          "data": {
            "text/plain": [
              "16"
            ]
          },
          "execution_count": 257,
          "metadata": {},
          "output_type": "execute_result"
        }
      ],
      "source": [
        "# drop has_image\n",
        "len(reviews.columns)"
      ]
    },
    {
      "cell_type": "code",
      "execution_count": 258,
      "metadata": {
        "id": "E-8sRoThq2Up"
      },
      "outputs": [
        {
          "data": {
            "text/plain": [
              "15"
            ]
          },
          "execution_count": 258,
          "metadata": {},
          "output_type": "execute_result"
        }
      ],
      "source": [
        "reviews.drop(columns=['has_image'], inplace=True)\n",
        "len(reviews.columns)"
      ]
    },
    {
      "attachments": {},
      "cell_type": "markdown",
      "metadata": {
        "id": "8keJzGIl0u1w"
      },
      "source": [
        "A big portion of our project is based on text, but we are not told the language of a given review. Hence, we will have to implement a way to detect (as accurately as possible) the **text is in English**.\n",
        "\n",
        "Fortunately, we can leverage the existing [langdetect](https://pypi.org/project/langdetect/) library which is a \"direct port of Google's [language-detection library](https://code.google.com/archive/p/language-detection/) from Java to Python\".\n",
        "\n",
        "**NOTE (Limitation)**: Insights applicable for English-language reviews only"
      ]
    },
    {
      "cell_type": "code",
      "execution_count": 259,
      "metadata": {
        "id": "f45PovIe0b4L"
      },
      "outputs": [
        {
          "data": {
            "text/plain": [
              "is_english\n",
              "True     0.945196\n",
              "False    0.053514\n",
              "N/A      0.001291\n",
              "Name: proportion, dtype: float64"
            ]
          },
          "execution_count": 259,
          "metadata": {},
          "output_type": "execute_result"
        }
      ],
      "source": [
        "def detect_english(text):\n",
        "    if len(text) < 3:\n",
        "        return 'N/A'\n",
        "    try:\n",
        "        return detect(text) == 'en'\n",
        "    except:\n",
        "        return 'N/A'\n",
        "\n",
        "reviews['is_english'] = np.where(reviews['is_blank_review'], True, reviews['text'].apply(detect_english))\n",
        "reviews['is_english'].value_counts(normalize=True)"
      ]
    },
    {
      "cell_type": "code",
      "execution_count": 260,
      "metadata": {
        "id": "4wi8RY9l0b88"
      },
      "outputs": [
        {
          "data": {
            "text/plain": [
              "is_english\n",
              "True     94478\n",
              "False     5349\n",
              "N/A        129\n",
              "Name: count, dtype: int64"
            ]
          },
          "execution_count": 260,
          "metadata": {},
          "output_type": "execute_result"
        }
      ],
      "source": [
        "reviews['is_english'].value_counts()"
      ]
    },
    {
      "cell_type": "code",
      "execution_count": 261,
      "metadata": {
        "id": "zcLVITMk6glI"
      },
      "outputs": [
        {
          "data": {
            "text/plain": [
              "99956"
            ]
          },
          "execution_count": 261,
          "metadata": {},
          "output_type": "execute_result"
        }
      ],
      "source": [
        "# drop non-English\n",
        "len(reviews)"
      ]
    },
    {
      "cell_type": "code",
      "execution_count": 262,
      "metadata": {
        "id": "8gOrDO_V6QUP"
      },
      "outputs": [
        {
          "data": {
            "text/plain": [
              "94478"
            ]
          },
          "execution_count": 262,
          "metadata": {},
          "output_type": "execute_result"
        }
      ],
      "source": [
        "reviews = reviews.loc[reviews['is_english'] == True]\n",
        "len(reviews)"
      ]
    },
    {
      "cell_type": "code",
      "execution_count": 263,
      "metadata": {
        "id": "z2Ep_s5m60Nu"
      },
      "outputs": [
        {
          "data": {
            "text/plain": [
              "16"
            ]
          },
          "execution_count": 263,
          "metadata": {},
          "output_type": "execute_result"
        }
      ],
      "source": [
        "# drop extra is_english column no longer needed\n",
        "len(reviews.columns)"
      ]
    },
    {
      "cell_type": "code",
      "execution_count": 264,
      "metadata": {
        "id": "6kMkvkXv68Hh"
      },
      "outputs": [
        {
          "data": {
            "text/plain": [
              "15"
            ]
          },
          "execution_count": 264,
          "metadata": {},
          "output_type": "execute_result"
        }
      ],
      "source": [
        "reviews.drop(columns=['is_english'], inplace=True)\n",
        "len(reviews.columns)"
      ]
    },
    {
      "attachments": {},
      "cell_type": "markdown",
      "metadata": {
        "id": "2NsIMreKrA9_"
      },
      "source": [
        "We were able to identify over 90% of the reviews are with some certainly in English and the rest are either not or we don't know. Non-English reviews were dropped\n",
        "\n",
        "We have now reached the end of data preprocessing. We have checked for nulls, fixed data types, added features while removing excess info, and did a sanity check on the data seen."
      ]
    },
    {
      "cell_type": "code",
      "execution_count": 265,
      "metadata": {
        "id": "Qg3vqMXGpEJT"
      },
      "outputs": [
        {
          "name": "stdout",
          "output_type": "stream",
          "text": [
            "<class 'pandas.core.frame.DataFrame'>\n",
            "Index: 94478 entries, 0 to 99999\n",
            "Data columns (total 15 columns):\n",
            " #   Column               Non-Null Count  Dtype \n",
            "---  ------               --------------  ----- \n",
            " 0   rating               94478 non-null  int64 \n",
            " 1   title                94478 non-null  object\n",
            " 2   text                 94478 non-null  object\n",
            " 3   asin                 94478 non-null  object\n",
            " 4   helpful_vote         94478 non-null  int64 \n",
            " 5   verified_purchase    94478 non-null  bool  \n",
            " 6   dow                  94478 non-null  int32 \n",
            " 7   month                94478 non-null  int32 \n",
            " 8   is_helpful           94478 non-null  bool  \n",
            " 9   title_length         94478 non-null  int64 \n",
            " 10  text_length          94478 non-null  int64 \n",
            " 11  is_blank_review      94478 non-null  bool  \n",
            " 12  reviews_per_user     94478 non-null  int64 \n",
            " 13  has_variant_reviews  94478 non-null  bool  \n",
            " 14  num_images           94478 non-null  int64 \n",
            "dtypes: bool(4), int32(2), int64(6), object(3)\n",
            "memory usage: 8.3+ MB\n"
          ]
        }
      ],
      "source": [
        "reviews.info()"
      ]
    },
    {
      "attachments": {},
      "cell_type": "markdown",
      "metadata": {
        "id": "PhoqAxVEq-k2"
      },
      "source": [
        "Save a local copy if needed\n"
      ]
    },
    {
      "cell_type": "code",
      "execution_count": 266,
      "metadata": {
        "id": "HRGKQjaQtNBf"
      },
      "outputs": [],
      "source": [
        "# create folter if needed\n",
        "file_name = 'reviews_out.csv'\n",
        "reviews.to_csv(file_name, index=False)"
      ]
    },
    {
      "cell_type": "code",
      "execution_count": 267,
      "metadata": {
        "id": "oVXMvQMSUMGa"
      },
      "outputs": [],
      "source": [
        "# raise Exception(\"Stop: End of Data Preprocessing\")"
      ]
    },
    {
      "attachments": {},
      "cell_type": "markdown",
      "metadata": {
        "id": "LkiOBqroKSAo"
      },
      "source": [
        "# Exploratory Data Analysis"
      ]
    },
    {
      "cell_type": "code",
      "execution_count": 268,
      "metadata": {
        "id": "T_TrUdEpcRSO"
      },
      "outputs": [
        {
          "name": "stdout",
          "output_type": "stream",
          "text": [
            "<class 'pandas.core.frame.DataFrame'>\n",
            "Index: 94478 entries, 0 to 99999\n",
            "Data columns (total 15 columns):\n",
            " #   Column               Non-Null Count  Dtype \n",
            "---  ------               --------------  ----- \n",
            " 0   rating               94478 non-null  int64 \n",
            " 1   title                94478 non-null  object\n",
            " 2   text                 94478 non-null  object\n",
            " 3   asin                 94478 non-null  object\n",
            " 4   helpful_vote         94478 non-null  int64 \n",
            " 5   verified_purchase    94478 non-null  bool  \n",
            " 6   dow                  94478 non-null  int32 \n",
            " 7   month                94478 non-null  int32 \n",
            " 8   is_helpful           94478 non-null  bool  \n",
            " 9   title_length         94478 non-null  int64 \n",
            " 10  text_length          94478 non-null  int64 \n",
            " 11  is_blank_review      94478 non-null  bool  \n",
            " 12  reviews_per_user     94478 non-null  int64 \n",
            " 13  has_variant_reviews  94478 non-null  bool  \n",
            " 14  num_images           94478 non-null  int64 \n",
            "dtypes: bool(4), int32(2), int64(6), object(3)\n",
            "memory usage: 8.3+ MB\n"
          ]
        }
      ],
      "source": [
        "# expect a dataframe called reviews with multiple fields. end stage could include additional preprocessing based on insights\n",
        "reviews.info()"
      ]
    },
    {
      "cell_type": "code",
      "execution_count": 269,
      "metadata": {
        "id": "ewk9gDBjTVpX"
      },
      "outputs": [
        {
          "data": {
            "text/html": [
              "<div>\n",
              "<style scoped>\n",
              "    .dataframe tbody tr th:only-of-type {\n",
              "        vertical-align: middle;\n",
              "    }\n",
              "\n",
              "    .dataframe tbody tr th {\n",
              "        vertical-align: top;\n",
              "    }\n",
              "\n",
              "    .dataframe thead th {\n",
              "        text-align: right;\n",
              "    }\n",
              "</style>\n",
              "<table border=\"1\" class=\"dataframe\">\n",
              "  <thead>\n",
              "    <tr style=\"text-align: right;\">\n",
              "      <th></th>\n",
              "      <th>rating</th>\n",
              "      <th>title</th>\n",
              "      <th>text</th>\n",
              "      <th>asin</th>\n",
              "      <th>helpful_vote</th>\n",
              "      <th>verified_purchase</th>\n",
              "      <th>dow</th>\n",
              "      <th>month</th>\n",
              "      <th>is_helpful</th>\n",
              "      <th>title_length</th>\n",
              "      <th>text_length</th>\n",
              "      <th>is_blank_review</th>\n",
              "      <th>reviews_per_user</th>\n",
              "      <th>has_variant_reviews</th>\n",
              "      <th>num_images</th>\n",
              "    </tr>\n",
              "  </thead>\n",
              "  <tbody>\n",
              "    <tr>\n",
              "      <th>0</th>\n",
              "      <td>5</td>\n",
              "      <td>Best genshin cloak ever!!</td>\n",
              "      <td>I got the klee set and it was PERFECT! Nothing...</td>\n",
              "      <td>B09ZGD2GLK</td>\n",
              "      <td>0</td>\n",
              "      <td>True</td>\n",
              "      <td>3</td>\n",
              "      <td>8</td>\n",
              "      <td>False</td>\n",
              "      <td>25</td>\n",
              "      <td>596</td>\n",
              "      <td>False</td>\n",
              "      <td>1</td>\n",
              "      <td>False</td>\n",
              "      <td>0</td>\n",
              "    </tr>\n",
              "    <tr>\n",
              "      <th>1</th>\n",
              "      <td>5</td>\n",
              "      <td>Awesome!</td>\n",
              "      <td>Great quality, perfect packaging and beautiful...</td>\n",
              "      <td>B0B5TL3VPJ</td>\n",
              "      <td>1</td>\n",
              "      <td>True</td>\n",
              "      <td>6</td>\n",
              "      <td>2</td>\n",
              "      <td>True</td>\n",
              "      <td>8</td>\n",
              "      <td>81</td>\n",
              "      <td>False</td>\n",
              "      <td>1</td>\n",
              "      <td>False</td>\n",
              "      <td>1</td>\n",
              "    </tr>\n",
              "  </tbody>\n",
              "</table>\n",
              "</div>"
            ],
            "text/plain": [
              "   rating                      title  \\\n",
              "0       5  Best genshin cloak ever!!   \n",
              "1       5                   Awesome!   \n",
              "\n",
              "                                                text        asin  \\\n",
              "0  I got the klee set and it was PERFECT! Nothing...  B09ZGD2GLK   \n",
              "1  Great quality, perfect packaging and beautiful...  B0B5TL3VPJ   \n",
              "\n",
              "   helpful_vote  verified_purchase  dow  month  is_helpful  title_length  \\\n",
              "0             0               True    3      8       False            25   \n",
              "1             1               True    6      2        True             8   \n",
              "\n",
              "   text_length  is_blank_review  reviews_per_user  has_variant_reviews  \\\n",
              "0          596            False                 1                False   \n",
              "1           81            False                 1                False   \n",
              "\n",
              "   num_images  \n",
              "0           0  \n",
              "1           1  "
            ]
          },
          "execution_count": 269,
          "metadata": {},
          "output_type": "execute_result"
        }
      ],
      "source": [
        "reviews.head(2)"
      ]
    },
    {
      "cell_type": "code",
      "execution_count": 270,
      "metadata": {
        "id": "6lhm6k1OQ2iU"
      },
      "outputs": [],
      "source": [
        "# TODO: add EDA"
      ]
    },
    {
      "attachments": {},
      "cell_type": "markdown",
      "metadata": {
        "id": "XPptr74CKlCB"
      },
      "source": [
        "# Modeling: Introduction\n",
        "\n",
        "We will be implementing **model stacking** where the output of text processing models will be used as input for our classifier models. \n",
        "\n",
        "As we build up towards the resolution in predicting if review is helpful, we will apply the following Machine Learning tools:\n",
        "- Topic Modeling, using GENSIM's [Latent Dirichlet Allocation](https://radimrehurek.com/gensim/models/ldamulticore.html) (LDA)\n",
        "- Sentiment Analysis, using [TextBlob's sentiment.polarity](https://textblob.readthedocs.io/en/dev/quickstart.html)\n",
        "- Logistic Regression\n",
        "  - scikit-learn's [Logistic Regression](https://scikit-learn.org/stable/modules/generated/sklearn.linear_model.LogisticRegression.html)\n",
        "  - Gradient Boosting (a gradient-boosted decision tree) via [XGBoost](https://xgboost.readthedocs.io/en/stable/)\n",
        "\n",
        "*This is in addition to applying [langdetect](https://pypi.org/project/langdetect/) to determine if a review was in English during Data Preprocessing.*"
      ]
    },
    {
      "cell_type": "code",
      "execution_count": 404,
      "metadata": {
        "id": "54JEXBU1Rycs"
      },
      "outputs": [],
      "source": [
        "# base data\n",
        "\n",
        "df = reviews.copy()"
      ]
    },
    {
      "attachments": {},
      "cell_type": "markdown",
      "metadata": {
        "id": "oyuIhQaNRcVI"
      },
      "source": [
        "# Topic Modeling\n",
        "\n",
        "As stated above, we will apply Topic Modeling using GENSIM's [Latent Dirichlet Allocation](https://radimrehurek.com/gensim/models/ldamulticore.html) (LDA). Topic Modeling will output clusters of similar word groups. For each cluster identied, the LDA model will output the probabily this review belongs to the given topic (which we will use as a feature in our classifiers)"
      ]
    },
    {
      "cell_type": "code",
      "execution_count": 405,
      "metadata": {
        "id": "KY9rZIMYRhPU"
      },
      "outputs": [
        {
          "name": "stdout",
          "output_type": "stream",
          "text": [
            "Topic: 0 \n",
            "Words: 0.022*\"easy\" + 0.015*\"use\" + 0.012*\"great\" + 0.009*\"love\" + 0.009*\"size\" + 0.008*\"clean\" + 0.008*\"perfect\" + 0.008*\"would\" + 0.008*\"small\" + 0.008*\"like\"\n",
            "Topic: 1 \n",
            "Words: 0.017*\"one\" + 0.012*\"work\" + 0.012*\"use\" + 0.011*\"time\" + 0.010*\"like\" + 0.010*\"get\" + 0.008*\"well\" + 0.008*\"would\" + 0.007*\"dont\" + 0.006*\"water\"\n",
            "Topic: 2 \n",
            "Words: 0.031*\"great\" + 0.022*\"quality\" + 0.018*\"good\" + 0.014*\"product\" + 0.014*\"love\" + 0.013*\"well\" + 0.012*\"gift\" + 0.011*\"work\" + 0.011*\"one\" + 0.011*\"nice\"\n",
            "Topic: 3 \n",
            "Words: 0.021*\"love\" + 0.016*\"great\" + 0.014*\"like\" + 0.013*\"look\" + 0.012*\"color\" + 0.012*\"soft\" + 0.009*\"perfect\" + 0.009*\"nice\" + 0.008*\"really\" + 0.008*\"chair\"\n",
            "Topic: 4 \n",
            "Words: 0.012*\"like\" + 0.011*\"look\" + 0.010*\"one\" + 0.009*\"put\" + 0.008*\"product\" + 0.007*\"would\" + 0.007*\"together\" + 0.007*\"back\" + 0.006*\"made\" + 0.006*\"love\"\n"
          ]
        }
      ],
      "source": [
        "# expect  a dataframe called df with multiple fields including df['text'] for this section.\n",
        "# for output, update df to drop text column and add topical (numerical) ones intead.\n",
        "\n",
        "def clean_text(text):\n",
        "    # Remove HTML tags\n",
        "\n",
        "    text = str(text)\n",
        "\n",
        "    text = re.sub(r'<[^>]+>', '', text)\n",
        "    # Remove punctuation and special characters, and numbers\n",
        "    text = re.sub(r'[^a-zA-Z\\s]', '', text)\n",
        "    # Tokenize the text into words\n",
        "    tokens = word_tokenize(text)\n",
        "    # Lowercase the words\n",
        "    tokens = [word.lower() for word in tokens]\n",
        "    # Remove stopwords\n",
        "    stop_words = set(stopwords.words('english'))\n",
        "    tokens = [word for word in tokens if word not in stop_words]\n",
        "    # Lemmatize the words\n",
        "    lemmatizer = WordNetLemmatizer()\n",
        "    tokens = [lemmatizer.lemmatize(word) for word in tokens]\n",
        "\n",
        "    return tokens\n",
        "\n",
        "\n",
        "reviews_txt = df['text']\n",
        "\n",
        "processed_reviews = [clean_text(review) for review in reviews_txt]\n",
        "\n",
        "# Create a dictionary representation of the reviews\n",
        "dictionary = corpora.Dictionary(processed_reviews)\n",
        "\n",
        "# Filter out words that appear in less than 20 documents or more than 50% of the documents\n",
        "dictionary.filter_extremes(no_below=50, no_above=0.7)\n",
        "\n",
        "# Convert the reviews to a bag-of-words representation\n",
        "bow_corpus = [dictionary.doc2bow(review) for review in processed_reviews]\n",
        "\n",
        "# Train the LDA (Latent Dirichlet Allocation) model\n",
        "lda_model = models.LdaMulticore(bow_corpus, num_topics=5, id2word=dictionary, passes=10,workers=24)\n",
        "\n",
        "# Print the topics\n",
        "for idx, topic in lda_model.print_topics(-1):\n",
        "    print('Topic: {} \\nWords: {}'.format(idx, topic))\n",
        "\n"
      ]
    },
    {
      "cell_type": "code",
      "execution_count": 406,
      "metadata": {
        "id": "riv7TqSRRhR0"
      },
      "outputs": [
        {
          "name": "stdout",
          "output_type": "stream",
          "text": [
            "Topic: 0 \n",
            "Words: 0.084*\"easy\" + 0.069*\"clean\" + 0.065*\"one\" + 0.057*\"like\" + 0.052*\"well\" + 0.052*\"enough\" + 0.051*\"perfect\" + 0.045*\"made\" + 0.044*\"use\" + 0.041*\"get\"\n",
            "Topic: 1 \n",
            "Words: 0.086*\"use\" + 0.062*\"great\" + 0.062*\"work\" + 0.049*\"even\" + 0.048*\"get\" + 0.038*\"well\" + 0.036*\"easy\" + 0.036*\"would\" + 0.035*\"need\" + 0.030*\"used\"\n",
            "Topic: 2 \n",
            "Words: 0.123*\"one\" + 0.066*\"im\" + 0.062*\"two\" + 0.055*\"ive\" + 0.042*\"time\" + 0.034*\"also\" + 0.033*\"year\" + 0.026*\"keep\" + 0.026*\"day\" + 0.023*\"could\"\n",
            "Topic: 3 \n",
            "Words: 0.070*\"thing\" + 0.062*\"dont\" + 0.055*\"make\" + 0.053*\"get\" + 0.052*\"doesnt\" + 0.044*\"like\" + 0.041*\"much\" + 0.034*\"would\" + 0.034*\"little\" + 0.032*\"also\"\n",
            "Topic: 4 \n",
            "Words: 0.057*\"product\" + 0.056*\"one\" + 0.053*\"would\" + 0.048*\"back\" + 0.048*\"like\" + 0.038*\"good\" + 0.036*\"put\" + 0.035*\"review\" + 0.033*\"time\" + 0.032*\"love\"\n"
          ]
        }
      ],
      "source": [
        "# topic modeling for helpful reviews\n",
        "helpful_mask = df['helpful_vote'] >=10\n",
        "helpful_reviews = reviews_txt[helpful_mask]\n",
        "\n",
        "processed_reviews = [clean_text(review) for review in helpful_reviews]\n",
        "\n",
        "# Create a dictionary representation of the reviews\n",
        "dictionary = corpora.Dictionary(processed_reviews)\n",
        "\n",
        "# Filter out words that appear in less than 20 documents or more than 50% of the documents\n",
        "dictionary.filter_extremes(no_below=50, no_above=0.7)\n",
        "\n",
        "# Convert the reviews to a bag-of-words representation\n",
        "bow_corpus = [dictionary.doc2bow(review) for review in processed_reviews]\n",
        "\n",
        "# Train the LDA (Latent Dirichlet Allocation) model\n",
        "lda_model = models.LdaMulticore(bow_corpus, num_topics=5, id2word=dictionary, passes=10,workers=24)\n",
        "\n",
        "# Print the topics\n",
        "for idx, topic in lda_model.print_topics(-1):\n",
        "    print('Topic: {} \\nWords: {}'.format(idx, topic))"
      ]
    },
    {
      "cell_type": "code",
      "execution_count": 407,
      "metadata": {
        "id": "AlJPYUjXRhUg"
      },
      "outputs": [
        {
          "name": "stdout",
          "output_type": "stream",
          "text": [
            "Topic: 0 \n",
            "Words: 0.016*\"like\" + 0.014*\"product\" + 0.013*\"money\" + 0.013*\"get\" + 0.012*\"one\" + 0.012*\"would\" + 0.012*\"cheap\" + 0.011*\"look\" + 0.010*\"back\" + 0.009*\"dont\"\n",
            "Topic: 1 \n",
            "Words: 0.016*\"return\" + 0.012*\"product\" + 0.012*\"working\" + 0.012*\"month\" + 0.011*\"one\" + 0.011*\"use\" + 0.010*\"even\" + 0.010*\"amazon\" + 0.009*\"stopped\" + 0.009*\"dont\"\n",
            "Topic: 2 \n",
            "Words: 0.014*\"would\" + 0.014*\"like\" + 0.013*\"small\" + 0.011*\"size\" + 0.010*\"use\" + 0.008*\"sheet\" + 0.008*\"color\" + 0.008*\"fit\" + 0.008*\"didnt\" + 0.008*\"one\"\n",
            "Topic: 3 \n",
            "Words: 0.027*\"time\" + 0.019*\"one\" + 0.014*\"work\" + 0.013*\"would\" + 0.012*\"like\" + 0.012*\"get\" + 0.011*\"first\" + 0.011*\"used\" + 0.010*\"bought\" + 0.008*\"use\"\n",
            "Topic: 4 \n",
            "Words: 0.019*\"one\" + 0.013*\"piece\" + 0.012*\"use\" + 0.012*\"broken\" + 0.011*\"water\" + 0.011*\"product\" + 0.011*\"box\" + 0.010*\"item\" + 0.010*\"came\" + 0.008*\"month\"\n"
          ]
        }
      ],
      "source": [
        "# topic modeling for 1 star reviews\n",
        "low_rating_mask = df['rating'] <=2\n",
        "\n",
        "low_reviews = reviews_txt[low_rating_mask]\n",
        "\n",
        "processed_reviews = [clean_text(review) for review in low_reviews]\n",
        "\n",
        "# Create a dictionary representation of the reviews\n",
        "dictionary = corpora.Dictionary(processed_reviews)\n",
        "\n",
        "# Filter out words that appear in less than 20 documents or more than 50% of the documents\n",
        "dictionary.filter_extremes(no_below=50, no_above=0.7)\n",
        "\n",
        "# Convert the reviews to a bag-of-words representation\n",
        "bow_corpus = [dictionary.doc2bow(review) for review in processed_reviews]\n",
        "\n",
        "# Train the LDA (Latent Dirichlet Allocation) model\n",
        "lda_model = models.LdaMulticore(bow_corpus, num_topics=5, id2word=dictionary, passes=10,workers=24)\n",
        "\n",
        "# Print the topics\n",
        "for idx, topic in lda_model.print_topics(-1):\n",
        "    print('Topic: {} \\nWords: {}'.format(idx, topic))"
      ]
    },
    {
      "cell_type": "code",
      "execution_count": 408,
      "metadata": {
        "id": "zmn6hM9ZRhW5"
      },
      "outputs": [
        {
          "name": "stdout",
          "output_type": "stream",
          "text": [
            "Topic: 0 \n",
            "Words: 0.026*\"easy\" + 0.019*\"use\" + 0.010*\"clean\" + 0.010*\"one\" + 0.009*\"like\" + 0.009*\"great\" + 0.009*\"put\" + 0.009*\"well\" + 0.008*\"hold\" + 0.008*\"perfect\"\n",
            "Topic: 1 \n",
            "Words: 0.035*\"love\" + 0.022*\"perfect\" + 0.019*\"look\" + 0.014*\"nice\" + 0.013*\"like\" + 0.011*\"color\" + 0.009*\"room\" + 0.009*\"sturdy\" + 0.009*\"great\" + 0.009*\"easy\"\n",
            "Topic: 2 \n",
            "Words: 0.013*\"pillow\" + 0.013*\"love\" + 0.010*\"fit\" + 0.009*\"time\" + 0.009*\"one\" + 0.009*\"like\" + 0.009*\"recommend\" + 0.008*\"keep\" + 0.008*\"air\" + 0.007*\"use\"\n",
            "Topic: 3 \n",
            "Words: 0.050*\"great\" + 0.026*\"good\" + 0.024*\"work\" + 0.021*\"product\" + 0.017*\"quality\" + 0.016*\"well\" + 0.014*\"love\" + 0.014*\"easy\" + 0.013*\"price\" + 0.012*\"nice\"\n",
            "Topic: 4 \n",
            "Words: 0.020*\"one\" + 0.015*\"great\" + 0.012*\"well\" + 0.012*\"set\" + 0.011*\"would\" + 0.011*\"quality\" + 0.011*\"love\" + 0.010*\"bought\" + 0.010*\"color\" + 0.009*\"buy\"\n"
          ]
        }
      ],
      "source": [
        "# topic modeling for 5 star reviews\n",
        "high_rating_mask = df['rating'] ==5\n",
        "\n",
        "high_reviews = reviews_txt[high_rating_mask]\n",
        "\n",
        "processed_reviews = [clean_text(review) for review in high_reviews]\n",
        "\n",
        "# Create a dictionary representation of the reviews\n",
        "dictionary = corpora.Dictionary(processed_reviews)\n",
        "\n",
        "# Filter out words that appear in less than 20 documents or more than 50% of the documents\n",
        "dictionary.filter_extremes(no_below=50, no_above=0.7)\n",
        "\n",
        "# Convert the reviews to a bag-of-words representation\n",
        "bow_corpus = [dictionary.doc2bow(review) for review in processed_reviews]\n",
        "\n",
        "# Train the LDA (Latent Dirichlet Allocation) model\n",
        "lda_model = models.LdaMulticore(bow_corpus, num_topics=5, id2word=dictionary, passes=10,workers=24)\n",
        "\n",
        "# Print the topics\n",
        "for idx, topic in lda_model.print_topics(-1):\n",
        "    print('Topic: {} \\nWords: {}'.format(idx, topic))"
      ]
    },
    {
      "cell_type": "code",
      "execution_count": 409,
      "metadata": {
        "id": "WZi-OhjfgfYe"
      },
      "outputs": [],
      "source": [
        "# Final Topic Modeling \n",
        "\n",
        "clean_reviews = df['text'].apply(clean_text)\n",
        "\n",
        "# Create dictionary and corpus needed for Topic Modeling\n",
        "dictionary = corpora.Dictionary(clean_reviews)\n",
        "dictionary.filter_extremes(no_below=20, no_above=0.5)\n",
        "corpus = [dictionary.doc2bow(text) for text in clean_reviews]\n",
        "\n",
        "# LDA Model\n",
        "lda_model = models.LdaMulticore(corpus, num_topics=5, id2word=dictionary, passes=10, workers=4)\n",
        "\n",
        "# Getting the document-topic distribution for each document\n",
        "topic_distributions = [lda_model.get_document_topics(bow) for bow in corpus]\n",
        "\n",
        "# Convert the topic distributions to a more usable format like a DataFrame\n",
        "topic_probs = []\n",
        "\n",
        "for dist in topic_distributions:\n",
        "    doc_probs = {f'topic_{i}': 0.0 for i in range(lda_model.num_topics)} \n",
        "    for topic_num, prob in dist:\n",
        "        doc_probs[f'topic_{topic_num}'] = prob\n",
        "    topic_probs.append(doc_probs)\n",
        "\n",
        "topic_df = pd.DataFrame(topic_probs)"
      ]
    },
    {
      "cell_type": "code",
      "execution_count": 410,
      "metadata": {},
      "outputs": [
        {
          "data": {
            "text/html": [
              "<div>\n",
              "<style scoped>\n",
              "    .dataframe tbody tr th:only-of-type {\n",
              "        vertical-align: middle;\n",
              "    }\n",
              "\n",
              "    .dataframe tbody tr th {\n",
              "        vertical-align: top;\n",
              "    }\n",
              "\n",
              "    .dataframe thead th {\n",
              "        text-align: right;\n",
              "    }\n",
              "</style>\n",
              "<table border=\"1\" class=\"dataframe\">\n",
              "  <thead>\n",
              "    <tr style=\"text-align: right;\">\n",
              "      <th></th>\n",
              "      <th>topic_0</th>\n",
              "      <th>topic_1</th>\n",
              "      <th>topic_2</th>\n",
              "      <th>topic_3</th>\n",
              "      <th>topic_4</th>\n",
              "    </tr>\n",
              "  </thead>\n",
              "  <tbody>\n",
              "    <tr>\n",
              "      <th>count</th>\n",
              "      <td>94478.000000</td>\n",
              "      <td>94478.000000</td>\n",
              "      <td>94478.000000</td>\n",
              "      <td>94478.000000</td>\n",
              "      <td>94478.000000</td>\n",
              "    </tr>\n",
              "    <tr>\n",
              "      <th>mean</th>\n",
              "      <td>0.207467</td>\n",
              "      <td>0.161641</td>\n",
              "      <td>0.182577</td>\n",
              "      <td>0.162615</td>\n",
              "      <td>0.281083</td>\n",
              "    </tr>\n",
              "    <tr>\n",
              "      <th>std</th>\n",
              "      <td>0.278322</td>\n",
              "      <td>0.247731</td>\n",
              "      <td>0.254788</td>\n",
              "      <td>0.250263</td>\n",
              "      <td>0.311062</td>\n",
              "    </tr>\n",
              "    <tr>\n",
              "      <th>min</th>\n",
              "      <td>0.000000</td>\n",
              "      <td>0.000000</td>\n",
              "      <td>0.000000</td>\n",
              "      <td>0.000000</td>\n",
              "      <td>0.000000</td>\n",
              "    </tr>\n",
              "    <tr>\n",
              "      <th>25%</th>\n",
              "      <td>0.017024</td>\n",
              "      <td>0.013654</td>\n",
              "      <td>0.015975</td>\n",
              "      <td>0.013659</td>\n",
              "      <td>0.017137</td>\n",
              "    </tr>\n",
              "    <tr>\n",
              "      <th>50%</th>\n",
              "      <td>0.041162</td>\n",
              "      <td>0.033417</td>\n",
              "      <td>0.040245</td>\n",
              "      <td>0.033527</td>\n",
              "      <td>0.132677</td>\n",
              "    </tr>\n",
              "    <tr>\n",
              "      <th>75%</th>\n",
              "      <td>0.342168</td>\n",
              "      <td>0.217259</td>\n",
              "      <td>0.283962</td>\n",
              "      <td>0.212757</td>\n",
              "      <td>0.527622</td>\n",
              "    </tr>\n",
              "    <tr>\n",
              "      <th>max</th>\n",
              "      <td>0.995925</td>\n",
              "      <td>0.989095</td>\n",
              "      <td>0.993107</td>\n",
              "      <td>0.992755</td>\n",
              "      <td>0.983483</td>\n",
              "    </tr>\n",
              "  </tbody>\n",
              "</table>\n",
              "</div>"
            ],
            "text/plain": [
              "            topic_0       topic_1       topic_2       topic_3       topic_4\n",
              "count  94478.000000  94478.000000  94478.000000  94478.000000  94478.000000\n",
              "mean       0.207467      0.161641      0.182577      0.162615      0.281083\n",
              "std        0.278322      0.247731      0.254788      0.250263      0.311062\n",
              "min        0.000000      0.000000      0.000000      0.000000      0.000000\n",
              "25%        0.017024      0.013654      0.015975      0.013659      0.017137\n",
              "50%        0.041162      0.033417      0.040245      0.033527      0.132677\n",
              "75%        0.342168      0.217259      0.283962      0.212757      0.527622\n",
              "max        0.995925      0.989095      0.993107      0.992755      0.983483"
            ]
          },
          "execution_count": 410,
          "metadata": {},
          "output_type": "execute_result"
        }
      ],
      "source": [
        "topic_df.describe()"
      ]
    },
    {
      "cell_type": "code",
      "execution_count": 411,
      "metadata": {},
      "outputs": [
        {
          "data": {
            "text/plain": [
              "topic_0    float64\n",
              "topic_1    float64\n",
              "topic_2    float64\n",
              "topic_3    float64\n",
              "topic_4    float64\n",
              "dtype: object"
            ]
          },
          "execution_count": 411,
          "metadata": {},
          "output_type": "execute_result"
        }
      ],
      "source": [
        "topic_df.dtypes"
      ]
    },
    {
      "cell_type": "code",
      "execution_count": 412,
      "metadata": {},
      "outputs": [
        {
          "data": {
            "text/plain": [
              "94478"
            ]
          },
          "execution_count": 412,
          "metadata": {},
          "output_type": "execute_result"
        }
      ],
      "source": [
        "# output length of topic_df\n",
        "len(topic_df)"
      ]
    },
    {
      "cell_type": "code",
      "execution_count": 413,
      "metadata": {
        "id": "-v1YtnBWQZE_"
      },
      "outputs": [
        {
          "data": {
            "text/plain": [
              "94478"
            ]
          },
          "execution_count": 413,
          "metadata": {},
          "output_type": "execute_result"
        }
      ],
      "source": [
        "# output length of df before changing it\n",
        "len(df)"
      ]
    },
    {
      "cell_type": "code",
      "execution_count": 414,
      "metadata": {
        "id": "eAHFrAiUggyj"
      },
      "outputs": [],
      "source": [
        "# Merge topic modeling results back to the main dataframe (confirming sizes are the same first)\n",
        "if len(df) == len(topic_df):\n",
        "    df = pd.concat([df, topic_df], axis=1)\n",
        "    # Fill NaN values in topic columns with 0\n",
        "    df[[f'topic_{i}' for i in range(5)]] = df[[f'topic_{i}' for i in range(5)]].fillna(0.0)\n",
        "else:\n",
        "    raise Exception('Error in Topic Modeling')"
      ]
    },
    {
      "cell_type": "code",
      "execution_count": 415,
      "metadata": {},
      "outputs": [
        {
          "data": {
            "text/plain": [
              "rating                 5205\n",
              "title                  5205\n",
              "text                   5205\n",
              "asin                   5205\n",
              "helpful_vote           5205\n",
              "verified_purchase      5205\n",
              "dow                    5205\n",
              "month                  5205\n",
              "is_helpful             5205\n",
              "title_length           5205\n",
              "text_length            5205\n",
              "is_blank_review        5205\n",
              "reviews_per_user       5205\n",
              "has_variant_reviews    5205\n",
              "num_images             5205\n",
              "topic_0                   0\n",
              "topic_1                   0\n",
              "topic_2                   0\n",
              "topic_3                   0\n",
              "topic_4                   0\n",
              "dtype: int64"
            ]
          },
          "execution_count": 415,
          "metadata": {},
          "output_type": "execute_result"
        }
      ],
      "source": [
        "df.isnull().sum()"
      ]
    },
    {
      "cell_type": "code",
      "execution_count": 416,
      "metadata": {
        "id": "yJFXbXv5PxTA"
      },
      "outputs": [
        {
          "name": "stdout",
          "output_type": "stream",
          "text": [
            "Rows before dropping nulls:  99683\n",
            "Rows after dropping nulls:  94478\n"
          ]
        }
      ],
      "source": [
        "# Topic Modeling introduced extra rows where only topic_x fields are not null\n",
        "\n",
        "nulls_in_df = df.isnull().any().any()\n",
        "\n",
        "if nulls_in_df:\n",
        "    print('Rows before dropping nulls: ', len(df))\n",
        "    df.dropna(inplace=True)\n",
        "    print('Rows after dropping nulls: ', len(df))"
      ]
    },
    {
      "cell_type": "code",
      "execution_count": 417,
      "metadata": {
        "id": "E8k0jmmKRhcX"
      },
      "outputs": [],
      "source": [
        "# raise Exception(\"End of Topic Modeling\")\n"
      ]
    },
    {
      "attachments": {},
      "cell_type": "markdown",
      "metadata": {
        "id": "eSDxWIW9KVxP"
      },
      "source": [
        "# Feature Engineering\n",
        "\n",
        "\n",
        "In this section, we will update values in preparation for modeling\n",
        "- turning booleans to integers\n",
        "- turn categorical data into a numerical one\n",
        "- generate additional features of interest\n",
        "- add sentiment analysis\n",
        "- train-test split\n",
        "\n",
        "In addition, we will run a correlation matrix top get a glimpse of features correlated with the target."
      ]
    },
    {
      "cell_type": "code",
      "execution_count": 418,
      "metadata": {},
      "outputs": [],
      "source": [
        "# save df copy (if needed)\n",
        "df_copy = df.copy()"
      ]
    },
    {
      "cell_type": "code",
      "execution_count": 499,
      "metadata": {},
      "outputs": [],
      "source": [
        "# Reset opportunity\n",
        "# df = df_copy"
      ]
    },
    {
      "cell_type": "code",
      "execution_count": 500,
      "metadata": {
        "id": "HBMc6M0-OjMH"
      },
      "outputs": [
        {
          "name": "stdout",
          "output_type": "stream",
          "text": [
            "<class 'pandas.core.frame.DataFrame'>\n",
            "Index: 94478 entries, 0 to 99999\n",
            "Data columns (total 20 columns):\n",
            " #   Column               Non-Null Count  Dtype  \n",
            "---  ------               --------------  -----  \n",
            " 0   rating               94478 non-null  float64\n",
            " 1   title                94478 non-null  object \n",
            " 2   text                 94478 non-null  object \n",
            " 3   asin                 94478 non-null  object \n",
            " 4   helpful_vote         94478 non-null  float64\n",
            " 5   verified_purchase    94478 non-null  int64  \n",
            " 6   dow                  94478 non-null  float64\n",
            " 7   month                94478 non-null  float64\n",
            " 8   is_helpful           94478 non-null  int64  \n",
            " 9   title_length         94478 non-null  float64\n",
            " 10  text_length          94478 non-null  float64\n",
            " 11  is_blank_review      94478 non-null  int64  \n",
            " 12  reviews_per_user     94478 non-null  float64\n",
            " 13  has_variant_reviews  94478 non-null  int64  \n",
            " 14  num_images           94478 non-null  float64\n",
            " 15  topic_0              94478 non-null  float64\n",
            " 16  topic_1              94478 non-null  float64\n",
            " 17  topic_2              94478 non-null  float64\n",
            " 18  topic_3              94478 non-null  float64\n",
            " 19  topic_4              94478 non-null  float64\n",
            "dtypes: float64(13), int64(4), object(3)\n",
            "memory usage: 15.1+ MB\n"
          ]
        }
      ],
      "source": [
        "# output here: df = a model ready dataframe from reviews, EXCEPT it has text (as is) as it will be processed in topic modeling section\n",
        "\n",
        "df.info()"
      ]
    },
    {
      "cell_type": "code",
      "execution_count": 501,
      "metadata": {
        "id": "7n44V4b9qHHA"
      },
      "outputs": [
        {
          "data": {
            "text/plain": [
              "rating                 float64\n",
              "title                   object\n",
              "text                    object\n",
              "asin                    object\n",
              "helpful_vote           float64\n",
              "verified_purchase        int64\n",
              "dow                    float64\n",
              "month                  float64\n",
              "is_helpful               int64\n",
              "title_length           float64\n",
              "text_length            float64\n",
              "is_blank_review          int64\n",
              "reviews_per_user       float64\n",
              "has_variant_reviews      int64\n",
              "num_images             float64\n",
              "topic_0                float64\n",
              "topic_1                float64\n",
              "topic_2                float64\n",
              "topic_3                float64\n",
              "topic_4                float64\n",
              "dtype: object"
            ]
          },
          "execution_count": 501,
          "metadata": {},
          "output_type": "execute_result"
        }
      ],
      "source": [
        "# change boolean to 0,1\n",
        "bool_cols = ['verified_purchase', 'is_helpful', 'has_variant_reviews', 'is_blank_review']\n",
        "df[bool_cols] = df[bool_cols].astype(int)\n",
        "df.dtypes\n"
      ]
    },
    {
      "attachments": {},
      "cell_type": "markdown",
      "metadata": {
        "id": "6nDMKsRcxLxQ"
      },
      "source": [
        "Month is expressed as a number but it really is categorical data as the numbers dont have numerical value. One way to address this is by using **One-Hot Encoding** on this field.\n",
        "\n",
        "The same applies to days of the week (`dow`). One One-Hot Encoding is done, we can drop th original columns"
      ]
    },
    {
      "cell_type": "code",
      "execution_count": 502,
      "metadata": {
        "id": "k_u1yt_7wSRR"
      },
      "outputs": [
        {
          "data": {
            "text/html": [
              "<div>\n",
              "<style scoped>\n",
              "    .dataframe tbody tr th:only-of-type {\n",
              "        vertical-align: middle;\n",
              "    }\n",
              "\n",
              "    .dataframe tbody tr th {\n",
              "        vertical-align: top;\n",
              "    }\n",
              "\n",
              "    .dataframe thead th {\n",
              "        text-align: right;\n",
              "    }\n",
              "</style>\n",
              "<table border=\"1\" class=\"dataframe\">\n",
              "  <thead>\n",
              "    <tr style=\"text-align: right;\">\n",
              "      <th></th>\n",
              "      <th>month_1.0</th>\n",
              "      <th>month_2.0</th>\n",
              "      <th>month_3.0</th>\n",
              "      <th>month_4.0</th>\n",
              "      <th>month_5.0</th>\n",
              "      <th>month_6.0</th>\n",
              "      <th>month_7.0</th>\n",
              "      <th>month_8.0</th>\n",
              "      <th>month_9.0</th>\n",
              "    </tr>\n",
              "  </thead>\n",
              "  <tbody>\n",
              "    <tr>\n",
              "      <th>0</th>\n",
              "      <td>0</td>\n",
              "      <td>0</td>\n",
              "      <td>0</td>\n",
              "      <td>0</td>\n",
              "      <td>0</td>\n",
              "      <td>0</td>\n",
              "      <td>0</td>\n",
              "      <td>1</td>\n",
              "      <td>0</td>\n",
              "    </tr>\n",
              "    <tr>\n",
              "      <th>1</th>\n",
              "      <td>0</td>\n",
              "      <td>1</td>\n",
              "      <td>0</td>\n",
              "      <td>0</td>\n",
              "      <td>0</td>\n",
              "      <td>0</td>\n",
              "      <td>0</td>\n",
              "      <td>0</td>\n",
              "      <td>0</td>\n",
              "    </tr>\n",
              "  </tbody>\n",
              "</table>\n",
              "</div>"
            ],
            "text/plain": [
              "   month_1.0  month_2.0  month_3.0  month_4.0  month_5.0  month_6.0  \\\n",
              "0          0          0          0          0          0          0   \n",
              "1          0          1          0          0          0          0   \n",
              "\n",
              "   month_7.0  month_8.0  month_9.0  \n",
              "0          0          1          0  \n",
              "1          0          0          0  "
            ]
          },
          "execution_count": 502,
          "metadata": {},
          "output_type": "execute_result"
        }
      ],
      "source": [
        "month_ohe = pd.get_dummies(df['month'], prefix='month', dtype=int).astype(int)\n",
        "month_ohe.head(2)"
      ]
    },
    {
      "cell_type": "code",
      "execution_count": 503,
      "metadata": {
        "id": "7JdBAluLwkvA"
      },
      "outputs": [
        {
          "data": {
            "text/plain": [
              "rating                 float64\n",
              "title                   object\n",
              "text                    object\n",
              "asin                    object\n",
              "helpful_vote           float64\n",
              "verified_purchase        int64\n",
              "dow                    float64\n",
              "month                  float64\n",
              "is_helpful               int64\n",
              "title_length           float64\n",
              "text_length            float64\n",
              "is_blank_review          int64\n",
              "reviews_per_user       float64\n",
              "has_variant_reviews      int64\n",
              "num_images             float64\n",
              "topic_0                float64\n",
              "topic_1                float64\n",
              "topic_2                float64\n",
              "topic_3                float64\n",
              "topic_4                float64\n",
              "month_1.0                int64\n",
              "month_2.0                int64\n",
              "month_3.0                int64\n",
              "month_4.0                int64\n",
              "month_5.0                int64\n",
              "month_6.0                int64\n",
              "month_7.0                int64\n",
              "month_8.0                int64\n",
              "month_9.0                int64\n",
              "dtype: object"
            ]
          },
          "execution_count": 503,
          "metadata": {},
          "output_type": "execute_result"
        }
      ],
      "source": [
        "df = pd.concat([df, month_ohe], axis=1)\n",
        "df.dtypes"
      ]
    },
    {
      "cell_type": "code",
      "execution_count": 504,
      "metadata": {
        "id": "7adGRFJdwkxL"
      },
      "outputs": [
        {
          "data": {
            "text/html": [
              "<div>\n",
              "<style scoped>\n",
              "    .dataframe tbody tr th:only-of-type {\n",
              "        vertical-align: middle;\n",
              "    }\n",
              "\n",
              "    .dataframe tbody tr th {\n",
              "        vertical-align: top;\n",
              "    }\n",
              "\n",
              "    .dataframe thead th {\n",
              "        text-align: right;\n",
              "    }\n",
              "</style>\n",
              "<table border=\"1\" class=\"dataframe\">\n",
              "  <thead>\n",
              "    <tr style=\"text-align: right;\">\n",
              "      <th></th>\n",
              "      <th>dow_0.0</th>\n",
              "      <th>dow_1.0</th>\n",
              "      <th>dow_2.0</th>\n",
              "      <th>dow_3.0</th>\n",
              "      <th>dow_4.0</th>\n",
              "      <th>dow_5.0</th>\n",
              "      <th>dow_6.0</th>\n",
              "    </tr>\n",
              "  </thead>\n",
              "  <tbody>\n",
              "    <tr>\n",
              "      <th>0</th>\n",
              "      <td>0</td>\n",
              "      <td>0</td>\n",
              "      <td>0</td>\n",
              "      <td>1</td>\n",
              "      <td>0</td>\n",
              "      <td>0</td>\n",
              "      <td>0</td>\n",
              "    </tr>\n",
              "    <tr>\n",
              "      <th>1</th>\n",
              "      <td>0</td>\n",
              "      <td>0</td>\n",
              "      <td>0</td>\n",
              "      <td>0</td>\n",
              "      <td>0</td>\n",
              "      <td>0</td>\n",
              "      <td>1</td>\n",
              "    </tr>\n",
              "  </tbody>\n",
              "</table>\n",
              "</div>"
            ],
            "text/plain": [
              "   dow_0.0  dow_1.0  dow_2.0  dow_3.0  dow_4.0  dow_5.0  dow_6.0\n",
              "0        0        0        0        1        0        0        0\n",
              "1        0        0        0        0        0        0        1"
            ]
          },
          "execution_count": 504,
          "metadata": {},
          "output_type": "execute_result"
        }
      ],
      "source": [
        "dow_ohe = pd.get_dummies(df['dow'], prefix='dow', dtype=int).astype(int)\n",
        "dow_ohe.head(2)"
      ]
    },
    {
      "cell_type": "code",
      "execution_count": 505,
      "metadata": {
        "id": "GJs-zohQzAmC"
      },
      "outputs": [
        {
          "data": {
            "text/plain": [
              "rating                 float64\n",
              "title                   object\n",
              "text                    object\n",
              "asin                    object\n",
              "helpful_vote           float64\n",
              "verified_purchase        int64\n",
              "dow                    float64\n",
              "month                  float64\n",
              "is_helpful               int64\n",
              "title_length           float64\n",
              "text_length            float64\n",
              "is_blank_review          int64\n",
              "reviews_per_user       float64\n",
              "has_variant_reviews      int64\n",
              "num_images             float64\n",
              "topic_0                float64\n",
              "topic_1                float64\n",
              "topic_2                float64\n",
              "topic_3                float64\n",
              "topic_4                float64\n",
              "month_1.0                int64\n",
              "month_2.0                int64\n",
              "month_3.0                int64\n",
              "month_4.0                int64\n",
              "month_5.0                int64\n",
              "month_6.0                int64\n",
              "month_7.0                int64\n",
              "month_8.0                int64\n",
              "month_9.0                int64\n",
              "dow_0.0                  int64\n",
              "dow_1.0                  int64\n",
              "dow_2.0                  int64\n",
              "dow_3.0                  int64\n",
              "dow_4.0                  int64\n",
              "dow_5.0                  int64\n",
              "dow_6.0                  int64\n",
              "dtype: object"
            ]
          },
          "execution_count": 505,
          "metadata": {},
          "output_type": "execute_result"
        }
      ],
      "source": [
        "df = pd.concat([df, dow_ohe], axis=1)\n",
        "df.dtypes"
      ]
    },
    {
      "cell_type": "code",
      "execution_count": 506,
      "metadata": {
        "id": "YAd1yzB3zV_m"
      },
      "outputs": [
        {
          "data": {
            "text/plain": [
              "36"
            ]
          },
          "execution_count": 506,
          "metadata": {},
          "output_type": "execute_result"
        }
      ],
      "source": [
        "# drop month and dow\n",
        "len(df.columns)"
      ]
    },
    {
      "cell_type": "code",
      "execution_count": 507,
      "metadata": {
        "id": "IzbDKBUkzU0D"
      },
      "outputs": [
        {
          "data": {
            "text/plain": [
              "34"
            ]
          },
          "execution_count": 507,
          "metadata": {},
          "output_type": "execute_result"
        }
      ],
      "source": [
        "df.drop(columns=['month', 'dow'], inplace=True)\n",
        "len(df.columns)"
      ]
    },
    {
      "attachments": {},
      "cell_type": "markdown",
      "metadata": {
        "id": "oep-PR4hHer_"
      },
      "source": [
        "In the future, the feature `helpful_vote` with the number of helpful vote must be removed as it would lead to **data leakage** against the target `is_helpful`"
      ]
    },
    {
      "cell_type": "code",
      "execution_count": 508,
      "metadata": {
        "id": "FrouVtudzekJ"
      },
      "outputs": [
        {
          "data": {
            "text/plain": [
              "rating                 float64\n",
              "title                   object\n",
              "text                    object\n",
              "asin                    object\n",
              "helpful_vote           float64\n",
              "verified_purchase        int64\n",
              "is_helpful               int64\n",
              "title_length           float64\n",
              "text_length            float64\n",
              "is_blank_review          int64\n",
              "reviews_per_user       float64\n",
              "has_variant_reviews      int64\n",
              "num_images             float64\n",
              "topic_0                float64\n",
              "topic_1                float64\n",
              "topic_2                float64\n",
              "topic_3                float64\n",
              "topic_4                float64\n",
              "month_1.0                int64\n",
              "month_2.0                int64\n",
              "month_3.0                int64\n",
              "month_4.0                int64\n",
              "month_5.0                int64\n",
              "month_6.0                int64\n",
              "month_7.0                int64\n",
              "month_8.0                int64\n",
              "month_9.0                int64\n",
              "dow_0.0                  int64\n",
              "dow_1.0                  int64\n",
              "dow_2.0                  int64\n",
              "dow_3.0                  int64\n",
              "dow_4.0                  int64\n",
              "dow_5.0                  int64\n",
              "dow_6.0                  int64\n",
              "dtype: object"
            ]
          },
          "execution_count": 508,
          "metadata": {},
          "output_type": "execute_result"
        }
      ],
      "source": [
        "df.dtypes"
      ]
    },
    {
      "cell_type": "code",
      "execution_count": 509,
      "metadata": {},
      "outputs": [
        {
          "data": {
            "text/plain": [
              "Index(['rating', 'title', 'text', 'asin', 'helpful_vote', 'verified_purchase',\n",
              "       'is_helpful', 'title_length', 'text_length', 'is_blank_review',\n",
              "       'reviews_per_user', 'has_variant_reviews', 'num_images', 'topic_0',\n",
              "       'topic_1', 'topic_2', 'topic_3', 'topic_4', 'month_1.0', 'month_2.0',\n",
              "       'month_3.0', 'month_4.0', 'month_5.0', 'month_6.0', 'month_7.0',\n",
              "       'month_8.0', 'month_9.0', 'dow_0.0', 'dow_1.0', 'dow_2.0', 'dow_3.0',\n",
              "       'dow_4.0', 'dow_5.0', 'dow_6.0'],\n",
              "      dtype='object')"
            ]
          },
          "execution_count": 509,
          "metadata": {},
          "output_type": "execute_result"
        }
      ],
      "source": [
        "df.columns"
      ]
    },
    {
      "attachments": {},
      "cell_type": "markdown",
      "metadata": {
        "id": "Hu31gWttavzc"
      },
      "source": [
        "### Additional Features\n",
        "\n",
        "Below are some additional features that could be helpful in determining if a review is helpful. We will use scikit-learn's [LabelEncoder](https://scikit-learn.org/stable/modules/generated/sklearn.preprocessing.LabelEncoder.html) to encode and return labels related to classification data."
      ]
    },
    {
      "cell_type": "code",
      "execution_count": 510,
      "metadata": {
        "id": "arZZF-Tbax63"
      },
      "outputs": [],
      "source": [
        "df['product_category'] = df['asin'].apply(lambda x: x[:3])\n",
        "df['brand'] = df['asin'].apply(lambda x: x[-3:])\n",
        "df['exclamations'] = df['text'].apply(lambda x: x.count('!'))\n",
        "df['capital_letters'] = df['text'].apply(lambda x: sum(1 for c in x if c.isupper()))\n",
        "\n",
        "label_encoder = LabelEncoder()\n",
        "df['product_category'] = label_encoder.fit_transform(df['product_category'])\n",
        "df['brand'] = label_encoder.fit_transform(df['brand'])"
      ]
    },
    {
      "cell_type": "code",
      "execution_count": 511,
      "metadata": {},
      "outputs": [
        {
          "name": "stdout",
          "output_type": "stream",
          "text": [
            "Cols Pre Drop:  38\n",
            "Cols Post Drop:  37\n"
          ]
        }
      ],
      "source": [
        "# drop unused field moving forward\n",
        "print('Cols Pre Drop: ', len(df.columns))\n",
        "df.drop(columns=['asin'], inplace=True)\n",
        "print('Cols Post Drop: ', len(df.columns))"
      ]
    },
    {
      "attachments": {},
      "cell_type": "markdown",
      "metadata": {
        "id": "zWNKxjgXbYAx"
      },
      "source": [
        "### Sentiment Analysis\n",
        "\n",
        "Lastly, we suspect extreme views will be found more helpful. Hence, we will apply **sentiment analysis** and particularly **polarity** via the [TextBlob](https://textblob.readthedocs.io/en/dev/quickstart.html) library and in particular its's sentiment property (`sentiment.polarity`). The polarity will be a float in the range -1.0 to 1.0.\n",
        "\n",
        "We will leverage the same `clean_text` function from Token Modeling but not it returns tokens."
      ]
    },
    {
      "cell_type": "code",
      "execution_count": 512,
      "metadata": {
        "id": "20ABL1CqbW35"
      },
      "outputs": [],
      "source": [
        "# TextBlob Sentiment\n",
        "# df['sentiment_polarity'] = df['text'].apply(lambda x: TextBlob(x).sentiment.polarity)\n",
        "df['sentiment_polarity'] = df['text'].apply(clean_text).str.join(' ')\n",
        "df['sentiment_polarity'] = df['sentiment_polarity'].apply(lambda x: TextBlob(x).sentiment.polarity)\n"
      ]
    },
    {
      "cell_type": "code",
      "execution_count": 513,
      "metadata": {},
      "outputs": [
        {
          "data": {
            "text/plain": [
              "0    0.188447\n",
              "1    0.662500\n",
              "Name: sentiment_polarity, dtype: float64"
            ]
          },
          "execution_count": 513,
          "metadata": {},
          "output_type": "execute_result"
        }
      ],
      "source": [
        "df['sentiment_polarity'].head(2)"
      ]
    },
    {
      "cell_type": "code",
      "execution_count": 514,
      "metadata": {
        "id": "A_HqvztKfPkZ"
      },
      "outputs": [
        {
          "data": {
            "image/png": "[encoded data removed]",
            "text/plain": [
              "<Figure size 800x600 with 1 Axes>"
            ]
          },
          "metadata": {},
          "output_type": "display_data"
        }
      ],
      "source": [
        "plt.figure(figsize=(8, 6))\n",
        "plt.hist(df['sentiment_polarity'], bins=10, color='#00008B', alpha=0.7)\n",
        "plt.xlabel('Polarity Score')\n",
        "plt.ylabel('Frequency')\n",
        "plt.title('Polarity Score Distribution')\n",
        "\n",
        "plt.grid(axis='y');"
      ]
    },
    {
      "cell_type": "code",
      "execution_count": 515,
      "metadata": {},
      "outputs": [
        {
          "name": "stdout",
          "output_type": "stream",
          "text": [
            "Cols Pre Drop:  38\n",
            "Cols Post Drop:  37\n"
          ]
        }
      ],
      "source": [
        "# drop unused field moving forward\n",
        "print('Cols Pre Drop: ', len(df.columns))\n",
        "df.drop(columns=['title'], inplace=True)\n",
        "print('Cols Post Drop: ', len(df.columns))"
      ]
    },
    {
      "attachments": {},
      "cell_type": "markdown",
      "metadata": {},
      "source": [
        "From sentiment analysis, we can see reviews were determined likely be **neutral to positive**. Surprisigly, there isn't a negative peak on the negative side as expected."
      ]
    },
    {
      "attachments": {},
      "cell_type": "markdown",
      "metadata": {
        "id": "aYAbifmMMesY"
      },
      "source": [
        "### Correlation Matrix\n",
        "\n",
        "Now that all values are numeric (except `text`), let's output a correlation matrix for the target.\n",
        "\n",
        "We will first start by dropping `df['helpful_vote']` as that will likely lead to **data leakage**.\n"
      ]
    },
    {
      "cell_type": "code",
      "execution_count": 516,
      "metadata": {},
      "outputs": [],
      "source": [
        "# drop redundant (leaky)\n",
        "del df['helpful_vote']"
      ]
    },
    {
      "cell_type": "code",
      "execution_count": 517,
      "metadata": {},
      "outputs": [
        {
          "data": {
            "text/plain": [
              "rating                 float64\n",
              "text                    object\n",
              "verified_purchase        int64\n",
              "is_helpful               int64\n",
              "title_length           float64\n",
              "text_length            float64\n",
              "is_blank_review          int64\n",
              "reviews_per_user       float64\n",
              "has_variant_reviews      int64\n",
              "num_images             float64\n",
              "topic_0                float64\n",
              "topic_1                float64\n",
              "topic_2                float64\n",
              "topic_3                float64\n",
              "topic_4                float64\n",
              "month_1.0                int64\n",
              "month_2.0                int64\n",
              "month_3.0                int64\n",
              "month_4.0                int64\n",
              "month_5.0                int64\n",
              "month_6.0                int64\n",
              "month_7.0                int64\n",
              "month_8.0                int64\n",
              "month_9.0                int64\n",
              "dow_0.0                  int64\n",
              "dow_1.0                  int64\n",
              "dow_2.0                  int64\n",
              "dow_3.0                  int64\n",
              "dow_4.0                  int64\n",
              "dow_5.0                  int64\n",
              "dow_6.0                  int64\n",
              "product_category         int64\n",
              "brand                    int64\n",
              "exclamations             int64\n",
              "capital_letters          int64\n",
              "sentiment_polarity     float64\n",
              "dtype: object"
            ]
          },
          "execution_count": 517,
          "metadata": {},
          "output_type": "execute_result"
        }
      ],
      "source": [
        "df.dtypes"
      ]
    },
    {
      "cell_type": "code",
      "execution_count": 518,
      "metadata": {
        "id": "q23zHQ1JGWWr"
      },
      "outputs": [
        {
          "data": {
            "image/png": "[encoded data removed]",
            "text/plain": [
              "<Figure size 1600x100 with 2 Axes>"
            ]
          },
          "metadata": {},
          "output_type": "display_data"
        },
        {
          "data": {
            "text/plain": [
              "''"
            ]
          },
          "execution_count": 518,
          "metadata": {},
          "output_type": "execute_result"
        }
      ],
      "source": [
        "# output correlation matrix\n",
        "\n",
        "corr = df.drop('text', axis=1).corr() # exclude 'text'\n",
        "corr_row = corr.loc[['is_helpful']]\n",
        "\n",
        "plt.figure(figsize=(16, 1))\n",
        "sns.heatmap(corr_row, vmin=-1, vmax=1, annot=True, cmap='coolwarm', fmt=\".2f\")\n",
        "plt.title('Correlation Matrix')\n",
        "plt.show()\n",
        ";"
      ]
    },
    {
      "attachments": {},
      "cell_type": "markdown",
      "metadata": {
        "id": "9VUzFEUcJxg5"
      },
      "source": [
        "By using a correlation matrix, no feature seens to have a  strong correlation with the target.\n",
        "\n",
        "### Test-Train Split and Handling Imbalance\n",
        "\n",
        "Now, we must address our **imbalance issue** identified early on (shown below). We will proceed by **upsampling** the minority class. Any subtler imbalanced will also be addressed via the `class_weight` parameters in the Regression section below.\n",
        "\n",
        "We will also apply scikit-learn's [StandardScaler](https://scikit-learn.org/stable/modules/generated/sklearn.preprocessing.StandardScaler.html) to normalize our features in preparation for Machine Learning.\n"
      ]
    },
    {
      "cell_type": "code",
      "execution_count": 519,
      "metadata": {
        "id": "nrsPqQ_zJRFZ"
      },
      "outputs": [
        {
          "data": {
            "image/png": "[encoded data removed]",
            "text/plain": [
              "<Figure size 640x480 with 1 Axes>"
            ]
          },
          "metadata": {},
          "output_type": "display_data"
        }
      ],
      "source": [
        "df['is_helpful'].value_counts(normalize=True).plot.bar().set_title('Frequency of adding Helpful vote');"
      ]
    },
    {
      "cell_type": "code",
      "execution_count": 520,
      "metadata": {
        "id": "SoUTj7FWkuhy"
      },
      "outputs": [],
      "source": [
        "# Feature set preparation - features  drop target and text\n",
        "\n",
        "X = df.drop(['is_helpful', 'text'], axis=1)\n",
        "y = df['is_helpful']\n",
        "\n",
        "ros = RandomOverSampler(random_state=42)\n",
        "X_resampled, y_resampled = ros.fit_resample(X, y)\n",
        "\n",
        "scaler = StandardScaler()\n",
        "X_scaled = scaler.fit_transform(X_resampled)\n",
        "\n",
        "X_train, X_test, y_train, y_test = train_test_split(X_scaled, y_resampled, test_size=0.2, random_state=5450)"
      ]
    },
    {
      "cell_type": "code",
      "execution_count": 535,
      "metadata": {},
      "outputs": [],
      "source": [
        "# version with Text - features only drop target. Adding txt suffix. In this version, features are not scaled\n",
        "\n",
        "X_txt = df.drop('is_helpful', axis=1)\n",
        "\n",
        "X_resampled_txt, y_resampled_txt = ros.fit_resample(X_txt, y)\n",
        "\n",
        "X_train_txt, X_test_txt, y_train_txt, y_test_txt = train_test_split(X_resampled_txt, y_resampled_txt, test_size=0.2, random_state=5450) # expect same as above due to seed"
      ]
    },
    {
      "attachments": {},
      "cell_type": "markdown",
      "metadata": {
        "id": "AJJ7IV1Rzoo_"
      },
      "source": [
        "We have reached the end of this section as our main dataframe is ready for modeling, outside text processing which will be done in the next sections.\n",
        "\n",
        "At this point, we've extracted some possible features."
      ]
    },
    {
      "cell_type": "code",
      "execution_count": 527,
      "metadata": {
        "id": "IbsA_niFHWLP"
      },
      "outputs": [],
      "source": [
        "# save df copy (if needed)\n",
        "df_copy2 = df.copy()"
      ]
    },
    {
      "cell_type": "code",
      "execution_count": 528,
      "metadata": {
        "id": "5JNHelqQeY61"
      },
      "outputs": [],
      "source": [
        "# raise Exception(\"End of Feature Engineering Section\")"
      ]
    },
    {
      "attachments": {},
      "cell_type": "markdown",
      "metadata": {
        "id": "UlZJd6JPKsj4"
      },
      "source": [
        "# Logistic Regression Modeling\n",
        "\n",
        "Below, we will try a sequence of classifiers to form a perspective on which might be a better approach in the challenge on predicting if a review will be voted as helpful at least once\n",
        "\n",
        "For **hyperparameter tuning**, we will leverage scikit-learn's [GridSearchCV](https://scikit-learn.org/stable/modules/generated/sklearn.model_selection.GridSearchCV.html) which uses a cross-validated grid-search over a parameter grid based on user input. The inputted parameters to consider will be in the `parameters` map for each model while `.best_params_` property of each model will return the best parameters from the selection.\n",
        "\n",
        "## Model Training\n"
      ]
    },
    {
      "cell_type": "code",
      "execution_count": 600,
      "metadata": {},
      "outputs": [],
      "source": [
        "# EVALUATION FUNCTION \n",
        "\n",
        "def evaluate_model(model_name, model, train_features, train_target, test_features, test_target):\n",
        "    eval_stats = {}\n",
        "    \n",
        "    fig, ax = plt.subplots()\n",
        "    \n",
        "    for type, features, target in (('train', train_features, train_target), ('test', test_features, test_target)):\n",
        "        eval_stats[type] = {}\n",
        "    \n",
        "        pred_proba = model.predict_proba(features)[:, 1]\n",
        "             \n",
        "        # ROC\n",
        "        fpr, tpr, roc_thresholds = metrics.roc_curve(target, pred_proba)\n",
        "        roc_auc = metrics.roc_auc_score(target, pred_proba)    \n",
        "        eval_stats[type]['ROC AUC'] = roc_auc\n",
        "\n",
        "        if type == 'train':\n",
        "            color = 'blue'\n",
        "        else:\n",
        "            color = 'green'\n",
        "\n",
        "        # ROC  \n",
        "        ax.plot(fpr, tpr, color=color, label=f'{type}, ROC AUC={roc_auc:.2f}')\n",
        "        # setting crosses for some thresholds\n",
        "        for threshold in (0.2, 0.4, 0.5, 0.6, 0.8):\n",
        "            closest_value_idx = np.argmin(np.abs(roc_thresholds-threshold))\n",
        "            marker_color = 'orange' if threshold != 0.5 else 'red'            \n",
        "            ax.plot(fpr[closest_value_idx], tpr[closest_value_idx], color=marker_color, marker='X', markersize=7)\n",
        "        ax.plot([0, 1], [0, 1], color='grey', linestyle='--')\n",
        "        ax.set_xlim([-0.02, 1.02])    \n",
        "        ax.set_ylim([-0.02, 1.02])\n",
        "        ax.set_xlabel('FPR')\n",
        "        ax.set_ylabel('TPR')\n",
        "        ax.legend(loc='lower center')        \n",
        "        ax.set_title(f'ROC Curve: ' + model_name)\n",
        "        \n",
        "        pred_target = model.predict(features)\n",
        "        accuracy = metrics.accuracy_score(target, pred_target)\n",
        "        eval_stats[type]['Accuracy'] = accuracy\n",
        "\n",
        "    df_eval_stats = pd.DataFrame(eval_stats).round(2)\n",
        "    df_eval_stats = df_eval_stats.reindex(index=('ROC AUC', 'Accuracy'))\n",
        "    \n",
        "    print(df_eval_stats)\n",
        "    print()\n",
        "\n",
        "    print('Confusion Matrix:')\n",
        "    print(confusion_matrix(test_target, model.predict(test_features)))\n",
        "\n",
        "    print('Classification Report:')\n",
        "    print(classification_report(test_target, model.predict(test_features)))\n",
        "    \n",
        "    return model_name, round(roc_auc, 2), round(accuracy, 2)"
      ]
    },
    {
      "attachments": {},
      "cell_type": "markdown",
      "metadata": {},
      "source": [
        "### Dummy Classiffier\n",
        "\n",
        "We start with a dummy classifier (scikit-learn's [DummyClassifier](https://scikit-learn.org/stable/modules/generated/sklearn.dummy.DummyClassifier.html)) as a sanity check, expecting every model should do better. With `strategy` as `most_frequent`, this classifier is just retuning the most frequent value across all. In other words, it will likely always \"predict\" the target is negative, as it's the majority class."
      ]
    },
    {
      "cell_type": "code",
      "execution_count": 529,
      "metadata": {},
      "outputs": [
        {
          "name": "stdout",
          "output_type": "stream",
          "text": [
            "CPU times: user 226 ms, sys: 34.2 ms, total: 260 ms\n",
            "Wall time: 271 ms\n"
          ]
        },
        {
          "data": {
            "text/html": [
              "<style>#sk-container-id-9 {\n",
              "  /* Definition of color scheme common for light and dark mode */\n",
              "  --sklearn-color-text: black;\n",
              "  --sklearn-color-line: gray;\n",
              "  /* Definition of color scheme for unfitted estimators */\n",
              "  --sklearn-color-unfitted-level-0: #fff5e6;\n",
              "  --sklearn-color-unfitted-level-1: #f6e4d2;\n",
              "  --sklearn-color-unfitted-level-2: #ffe0b3;\n",
              "  --sklearn-color-unfitted-level-3: chocolate;\n",
              "  /* Definition of color scheme for fitted estimators */\n",
              "  --sklearn-color-fitted-level-0: #f0f8ff;\n",
              "  --sklearn-color-fitted-level-1: #d4ebff;\n",
              "  --sklearn-color-fitted-level-2: #b3dbfd;\n",
              "  --sklearn-color-fitted-level-3: cornflowerblue;\n",
              "\n",
              "  /* Specific color for light theme */\n",
              "  --sklearn-color-text-on-default-background: var(--sg-text-color, var(--theme-code-foreground, var(--jp-content-font-color1, black)));\n",
              "  --sklearn-color-background: var(--sg-background-color, var(--theme-background, var(--jp-layout-color0, white)));\n",
              "  --sklearn-color-border-box: var(--sg-text-color, var(--theme-code-foreground, var(--jp-content-font-color1, black)));\n",
              "  --sklearn-color-icon: #696969;\n",
              "\n",
              "  @media (prefers-color-scheme: dark) {\n",
              "    /* Redefinition of color scheme for dark theme */\n",
              "    --sklearn-color-text-on-default-background: var(--sg-text-color, var(--theme-code-foreground, var(--jp-content-font-color1, white)));\n",
              "    --sklearn-color-background: var(--sg-background-color, var(--theme-background, var(--jp-layout-color0, #111)));\n",
              "    --sklearn-color-border-box: var(--sg-text-color, var(--theme-code-foreground, var(--jp-content-font-color1, white)));\n",
              "    --sklearn-color-icon: #878787;\n",
              "  }\n",
              "}\n",
              "\n",
              "#sk-container-id-9 {\n",
              "  color: var(--sklearn-color-text);\n",
              "}\n",
              "\n",
              "#sk-container-id-9 pre {\n",
              "  padding: 0;\n",
              "}\n",
              "\n",
              "#sk-container-id-9 input.sk-hidden--visually {\n",
              "  border: 0;\n",
              "  clip: rect(1px 1px 1px 1px);\n",
              "  clip: rect(1px, 1px, 1px, 1px);\n",
              "  height: 1px;\n",
              "  margin: -1px;\n",
              "  overflow: hidden;\n",
              "  padding: 0;\n",
              "  position: absolute;\n",
              "  width: 1px;\n",
              "}\n",
              "\n",
              "#sk-container-id-9 div.sk-dashed-wrapped {\n",
              "  border: 1px dashed var(--sklearn-color-line);\n",
              "  margin: 0 0.4em 0.5em 0.4em;\n",
              "  box-sizing: border-box;\n",
              "  padding-bottom: 0.4em;\n",
              "  background-color: var(--sklearn-color-background);\n",
              "}\n",
              "\n",
              "#sk-container-id-9 div.sk-container {\n",
              "  /* jupyter's `normalize.less` sets `[hidden] { display: none; }`\n",
              "     but bootstrap.min.css set `[hidden] { display: none !important; }`\n",
              "     so we also need the `!important` here to be able to override the\n",
              "     default hidden behavior on the sphinx rendered scikit-learn.org.\n",
              "     See: https://github.com/scikit-learn/scikit-learn/issues/21755 */\n",
              "  display: inline-block !important;\n",
              "  position: relative;\n",
              "}\n",
              "\n",
              "#sk-container-id-9 div.sk-text-repr-fallback {\n",
              "  display: none;\n",
              "}\n",
              "\n",
              "div.sk-parallel-item,\n",
              "div.sk-serial,\n",
              "div.sk-item {\n",
              "  /* draw centered vertical line to link estimators */\n",
              "  background-image: linear-gradient(var(--sklearn-color-text-on-default-background), var(--sklearn-color-text-on-default-background));\n",
              "  background-size: 2px 100%;\n",
              "  background-repeat: no-repeat;\n",
              "  background-position: center center;\n",
              "}\n",
              "\n",
              "/* Parallel-specific style estimator block */\n",
              "\n",
              "#sk-container-id-9 div.sk-parallel-item::after {\n",
              "  content: \"\";\n",
              "  width: 100%;\n",
              "  border-bottom: 2px solid var(--sklearn-color-text-on-default-background);\n",
              "  flex-grow: 1;\n",
              "}\n",
              "\n",
              "#sk-container-id-9 div.sk-parallel {\n",
              "  display: flex;\n",
              "  align-items: stretch;\n",
              "  justify-content: center;\n",
              "  background-color: var(--sklearn-color-background);\n",
              "  position: relative;\n",
              "}\n",
              "\n",
              "#sk-container-id-9 div.sk-parallel-item {\n",
              "  display: flex;\n",
              "  flex-direction: column;\n",
              "}\n",
              "\n",
              "#sk-container-id-9 div.sk-parallel-item:first-child::after {\n",
              "  align-self: flex-end;\n",
              "  width: 50%;\n",
              "}\n",
              "\n",
              "#sk-container-id-9 div.sk-parallel-item:last-child::after {\n",
              "  align-self: flex-start;\n",
              "  width: 50%;\n",
              "}\n",
              "\n",
              "#sk-container-id-9 div.sk-parallel-item:only-child::after {\n",
              "  width: 0;\n",
              "}\n",
              "\n",
              "/* Serial-specific style estimator block */\n",
              "\n",
              "#sk-container-id-9 div.sk-serial {\n",
              "  display: flex;\n",
              "  flex-direction: column;\n",
              "  align-items: center;\n",
              "  background-color: var(--sklearn-color-background);\n",
              "  padding-right: 1em;\n",
              "  padding-left: 1em;\n",
              "}\n",
              "\n",
              "\n",
              "/* Toggleable style: style used for estimator/Pipeline/ColumnTransformer box that is\n",
              "clickable and can be expanded/collapsed.\n",
              "- Pipeline and ColumnTransformer use this feature and define the default style\n",
              "- Estimators will overwrite some part of the style using the `sk-estimator` class\n",
              "*/\n",
              "\n",
              "/* Pipeline and ColumnTransformer style (default) */\n",
              "\n",
              "#sk-container-id-9 div.sk-toggleable {\n",
              "  /* Default theme specific background. It is overwritten whether we have a\n",
              "  specific estimator or a Pipeline/ColumnTransformer */\n",
              "  background-color: var(--sklearn-color-background);\n",
              "}\n",
              "\n",
              "/* Toggleable label */\n",
              "#sk-container-id-9 label.sk-toggleable__label {\n",
              "  cursor: pointer;\n",
              "  display: block;\n",
              "  width: 100%;\n",
              "  margin-bottom: 0;\n",
              "  padding: 0.5em;\n",
              "  box-sizing: border-box;\n",
              "  text-align: center;\n",
              "}\n",
              "\n",
              "#sk-container-id-9 label.sk-toggleable__label-arrow:before {\n",
              "  /* Arrow on the left of the label */\n",
              "  content: \"▸\";\n",
              "  float: left;\n",
              "  margin-right: 0.25em;\n",
              "  color: var(--sklearn-color-icon);\n",
              "}\n",
              "\n",
              "#sk-container-id-9 label.sk-toggleable__label-arrow:hover:before {\n",
              "  color: var(--sklearn-color-text);\n",
              "}\n",
              "\n",
              "/* Toggleable content - dropdown */\n",
              "\n",
              "#sk-container-id-9 div.sk-toggleable__content {\n",
              "  max-height: 0;\n",
              "  max-width: 0;\n",
              "  overflow: hidden;\n",
              "  text-align: left;\n",
              "  /* unfitted */\n",
              "  background-color: var(--sklearn-color-unfitted-level-0);\n",
              "}\n",
              "\n",
              "#sk-container-id-9 div.sk-toggleable__content.fitted {\n",
              "  /* fitted */\n",
              "  background-color: var(--sklearn-color-fitted-level-0);\n",
              "}\n",
              "\n",
              "#sk-container-id-9 div.sk-toggleable__content pre {\n",
              "  margin: 0.2em;\n",
              "  border-radius: 0.25em;\n",
              "  color: var(--sklearn-color-text);\n",
              "  /* unfitted */\n",
              "  background-color: var(--sklearn-color-unfitted-level-0);\n",
              "}\n",
              "\n",
              "#sk-container-id-9 div.sk-toggleable__content.fitted pre {\n",
              "  /* unfitted */\n",
              "  background-color: var(--sklearn-color-fitted-level-0);\n",
              "}\n",
              "\n",
              "#sk-container-id-9 input.sk-toggleable__control:checked~div.sk-toggleable__content {\n",
              "  /* Expand drop-down */\n",
              "  max-height: 200px;\n",
              "  max-width: 100%;\n",
              "  overflow: auto;\n",
              "}\n",
              "\n",
              "#sk-container-id-9 input.sk-toggleable__control:checked~label.sk-toggleable__label-arrow:before {\n",
              "  content: \"▾\";\n",
              "}\n",
              "\n",
              "/* Pipeline/ColumnTransformer-specific style */\n",
              "\n",
              "#sk-container-id-9 div.sk-label input.sk-toggleable__control:checked~label.sk-toggleable__label {\n",
              "  color: var(--sklearn-color-text);\n",
              "  background-color: var(--sklearn-color-unfitted-level-2);\n",
              "}\n",
              "\n",
              "#sk-container-id-9 div.sk-label.fitted input.sk-toggleable__control:checked~label.sk-toggleable__label {\n",
              "  background-color: var(--sklearn-color-fitted-level-2);\n",
              "}\n",
              "\n",
              "/* Estimator-specific style */\n",
              "\n",
              "/* Colorize estimator box */\n",
              "#sk-container-id-9 div.sk-estimator input.sk-toggleable__control:checked~label.sk-toggleable__label {\n",
              "  /* unfitted */\n",
              "  background-color: var(--sklearn-color-unfitted-level-2);\n",
              "}\n",
              "\n",
              "#sk-container-id-9 div.sk-estimator.fitted input.sk-toggleable__control:checked~label.sk-toggleable__label {\n",
              "  /* fitted */\n",
              "  background-color: var(--sklearn-color-fitted-level-2);\n",
              "}\n",
              "\n",
              "#sk-container-id-9 div.sk-label label.sk-toggleable__label,\n",
              "#sk-container-id-9 div.sk-label label {\n",
              "  /* The background is the default theme color */\n",
              "  color: var(--sklearn-color-text-on-default-background);\n",
              "}\n",
              "\n",
              "/* On hover, darken the color of the background */\n",
              "#sk-container-id-9 div.sk-label:hover label.sk-toggleable__label {\n",
              "  color: var(--sklearn-color-text);\n",
              "  background-color: var(--sklearn-color-unfitted-level-2);\n",
              "}\n",
              "\n",
              "/* Label box, darken color on hover, fitted */\n",
              "#sk-container-id-9 div.sk-label.fitted:hover label.sk-toggleable__label.fitted {\n",
              "  color: var(--sklearn-color-text);\n",
              "  background-color: var(--sklearn-color-fitted-level-2);\n",
              "}\n",
              "\n",
              "/* Estimator label */\n",
              "\n",
              "#sk-container-id-9 div.sk-label label {\n",
              "  font-family: monospace;\n",
              "  font-weight: bold;\n",
              "  display: inline-block;\n",
              "  line-height: 1.2em;\n",
              "}\n",
              "\n",
              "#sk-container-id-9 div.sk-label-container {\n",
              "  text-align: center;\n",
              "}\n",
              "\n",
              "/* Estimator-specific */\n",
              "#sk-container-id-9 div.sk-estimator {\n",
              "  font-family: monospace;\n",
              "  border: 1px dotted var(--sklearn-color-border-box);\n",
              "  border-radius: 0.25em;\n",
              "  box-sizing: border-box;\n",
              "  margin-bottom: 0.5em;\n",
              "  /* unfitted */\n",
              "  background-color: var(--sklearn-color-unfitted-level-0);\n",
              "}\n",
              "\n",
              "#sk-container-id-9 div.sk-estimator.fitted {\n",
              "  /* fitted */\n",
              "  background-color: var(--sklearn-color-fitted-level-0);\n",
              "}\n",
              "\n",
              "/* on hover */\n",
              "#sk-container-id-9 div.sk-estimator:hover {\n",
              "  /* unfitted */\n",
              "  background-color: var(--sklearn-color-unfitted-level-2);\n",
              "}\n",
              "\n",
              "#sk-container-id-9 div.sk-estimator.fitted:hover {\n",
              "  /* fitted */\n",
              "  background-color: var(--sklearn-color-fitted-level-2);\n",
              "}\n",
              "\n",
              "/* Specification for estimator info (e.g. \"i\" and \"?\") */\n",
              "\n",
              "/* Common style for \"i\" and \"?\" */\n",
              "\n",
              ".sk-estimator-doc-link,\n",
              "a:link.sk-estimator-doc-link,\n",
              "a:visited.sk-estimator-doc-link {\n",
              "  float: right;\n",
              "  font-size: smaller;\n",
              "  line-height: 1em;\n",
              "  font-family: monospace;\n",
              "  background-color: var(--sklearn-color-background);\n",
              "  border-radius: 1em;\n",
              "  height: 1em;\n",
              "  width: 1em;\n",
              "  text-decoration: none !important;\n",
              "  margin-left: 1ex;\n",
              "  /* unfitted */\n",
              "  border: var(--sklearn-color-unfitted-level-1) 1pt solid;\n",
              "  color: var(--sklearn-color-unfitted-level-1);\n",
              "}\n",
              "\n",
              ".sk-estimator-doc-link.fitted,\n",
              "a:link.sk-estimator-doc-link.fitted,\n",
              "a:visited.sk-estimator-doc-link.fitted {\n",
              "  /* fitted */\n",
              "  border: var(--sklearn-color-fitted-level-1) 1pt solid;\n",
              "  color: var(--sklearn-color-fitted-level-1);\n",
              "}\n",
              "\n",
              "/* On hover */\n",
              "div.sk-estimator:hover .sk-estimator-doc-link:hover,\n",
              ".sk-estimator-doc-link:hover,\n",
              "div.sk-label-container:hover .sk-estimator-doc-link:hover,\n",
              ".sk-estimator-doc-link:hover {\n",
              "  /* unfitted */\n",
              "  background-color: var(--sklearn-color-unfitted-level-3);\n",
              "  color: var(--sklearn-color-background);\n",
              "  text-decoration: none;\n",
              "}\n",
              "\n",
              "div.sk-estimator.fitted:hover .sk-estimator-doc-link.fitted:hover,\n",
              ".sk-estimator-doc-link.fitted:hover,\n",
              "div.sk-label-container:hover .sk-estimator-doc-link.fitted:hover,\n",
              ".sk-estimator-doc-link.fitted:hover {\n",
              "  /* fitted */\n",
              "  background-color: var(--sklearn-color-fitted-level-3);\n",
              "  color: var(--sklearn-color-background);\n",
              "  text-decoration: none;\n",
              "}\n",
              "\n",
              "/* Span, style for the box shown on hovering the info icon */\n",
              ".sk-estimator-doc-link span {\n",
              "  display: none;\n",
              "  z-index: 9999;\n",
              "  position: relative;\n",
              "  font-weight: normal;\n",
              "  right: .2ex;\n",
              "  padding: .5ex;\n",
              "  margin: .5ex;\n",
              "  width: min-content;\n",
              "  min-width: 20ex;\n",
              "  max-width: 50ex;\n",
              "  color: var(--sklearn-color-text);\n",
              "  box-shadow: 2pt 2pt 4pt #999;\n",
              "  /* unfitted */\n",
              "  background: var(--sklearn-color-unfitted-level-0);\n",
              "  border: .5pt solid var(--sklearn-color-unfitted-level-3);\n",
              "}\n",
              "\n",
              ".sk-estimator-doc-link.fitted span {\n",
              "  /* fitted */\n",
              "  background: var(--sklearn-color-fitted-level-0);\n",
              "  border: var(--sklearn-color-fitted-level-3);\n",
              "}\n",
              "\n",
              ".sk-estimator-doc-link:hover span {\n",
              "  display: block;\n",
              "}\n",
              "\n",
              "/* \"?\"-specific style due to the `<a>` HTML tag */\n",
              "\n",
              "#sk-container-id-9 a.estimator_doc_link {\n",
              "  float: right;\n",
              "  font-size: 1rem;\n",
              "  line-height: 1em;\n",
              "  font-family: monospace;\n",
              "  background-color: var(--sklearn-color-background);\n",
              "  border-radius: 1rem;\n",
              "  height: 1rem;\n",
              "  width: 1rem;\n",
              "  text-decoration: none;\n",
              "  /* unfitted */\n",
              "  color: var(--sklearn-color-unfitted-level-1);\n",
              "  border: var(--sklearn-color-unfitted-level-1) 1pt solid;\n",
              "}\n",
              "\n",
              "#sk-container-id-9 a.estimator_doc_link.fitted {\n",
              "  /* fitted */\n",
              "  border: var(--sklearn-color-fitted-level-1) 1pt solid;\n",
              "  color: var(--sklearn-color-fitted-level-1);\n",
              "}\n",
              "\n",
              "/* On hover */\n",
              "#sk-container-id-9 a.estimator_doc_link:hover {\n",
              "  /* unfitted */\n",
              "  background-color: var(--sklearn-color-unfitted-level-3);\n",
              "  color: var(--sklearn-color-background);\n",
              "  text-decoration: none;\n",
              "}\n",
              "\n",
              "#sk-container-id-9 a.estimator_doc_link.fitted:hover {\n",
              "  /* fitted */\n",
              "  background-color: var(--sklearn-color-fitted-level-3);\n",
              "}\n",
              "</style><div id=\"sk-container-id-9\" class=\"sk-top-container\"><div class=\"sk-text-repr-fallback\"><pre>GridSearchCV(estimator=DummyClassifier(random_state=5450),\n",
              "             param_grid={&#x27;strategy&#x27;: (&#x27;most_frequent&#x27;, &#x27;stratified&#x27;, &#x27;uniform&#x27;,\n",
              "                                      &#x27;prior&#x27;)},\n",
              "             scoring=&#x27;roc_auc&#x27;)</pre><b>In a Jupyter environment, please rerun this cell to show the HTML representation or trust the notebook. <br />On GitHub, the HTML representation is unable to render, please try loading this page with nbviewer.org.</b></div><div class=\"sk-container\" hidden><div class=\"sk-item sk-dashed-wrapped\"><div class=\"sk-label-container\"><div class=\"sk-label fitted sk-toggleable\"><input class=\"sk-toggleable__control sk-hidden--visually\" id=\"sk-estimator-id-25\" type=\"checkbox\" ><label for=\"sk-estimator-id-25\" class=\"sk-toggleable__label fitted sk-toggleable__label-arrow fitted\">&nbsp;&nbsp;GridSearchCV<a class=\"sk-estimator-doc-link fitted\" rel=\"noreferrer\" target=\"_blank\" href=\"https://scikit-learn.org/1.4/modules/generated/sklearn.model_selection.GridSearchCV.html\">?<span>Documentation for GridSearchCV</span></a><span class=\"sk-estimator-doc-link fitted\">i<span>Fitted</span></span></label><div class=\"sk-toggleable__content fitted\"><pre>GridSearchCV(estimator=DummyClassifier(random_state=5450),\n",
              "             param_grid={&#x27;strategy&#x27;: (&#x27;most_frequent&#x27;, &#x27;stratified&#x27;, &#x27;uniform&#x27;,\n",
              "                                      &#x27;prior&#x27;)},\n",
              "             scoring=&#x27;roc_auc&#x27;)</pre></div> </div></div><div class=\"sk-parallel\"><div class=\"sk-parallel-item\"><div class=\"sk-item\"><div class=\"sk-label-container\"><div class=\"sk-label fitted sk-toggleable\"><input class=\"sk-toggleable__control sk-hidden--visually\" id=\"sk-estimator-id-26\" type=\"checkbox\" ><label for=\"sk-estimator-id-26\" class=\"sk-toggleable__label fitted sk-toggleable__label-arrow fitted\">estimator: DummyClassifier</label><div class=\"sk-toggleable__content fitted\"><pre>DummyClassifier(random_state=5450)</pre></div> </div></div><div class=\"sk-serial\"><div class=\"sk-item\"><div class=\"sk-estimator fitted sk-toggleable\"><input class=\"sk-toggleable__control sk-hidden--visually\" id=\"sk-estimator-id-27\" type=\"checkbox\" ><label for=\"sk-estimator-id-27\" class=\"sk-toggleable__label fitted sk-toggleable__label-arrow fitted\">&nbsp;DummyClassifier<a class=\"sk-estimator-doc-link fitted\" rel=\"noreferrer\" target=\"_blank\" href=\"https://scikit-learn.org/1.4/modules/generated/sklearn.dummy.DummyClassifier.html\">?<span>Documentation for DummyClassifier</span></a></label><div class=\"sk-toggleable__content fitted\"><pre>DummyClassifier(random_state=5450)</pre></div> </div></div></div></div></div></div></div></div></div>"
            ],
            "text/plain": [
              "GridSearchCV(estimator=DummyClassifier(random_state=5450),\n",
              "             param_grid={'strategy': ('most_frequent', 'stratified', 'uniform',\n",
              "                                      'prior')},\n",
              "             scoring='roc_auc')"
            ]
          },
          "execution_count": 529,
          "metadata": {},
          "output_type": "execute_result"
        }
      ],
      "source": [
        "%%time\n",
        "\n",
        "dummy = DummyClassifier(random_state = 5450)\n",
        "\n",
        "#paremeters for GridSearch \n",
        "parameters = {'strategy': ('most_frequent', 'stratified', 'uniform', 'prior')}\n",
        "dummy = GridSearchCV(estimator=dummy, param_grid=parameters, scoring='roc_auc')\n",
        "\n",
        "dummy.fit(X_train, y_train)"
      ]
    },
    {
      "cell_type": "code",
      "execution_count": 530,
      "metadata": {},
      "outputs": [
        {
          "data": {
            "text/plain": [
              "{'strategy': 'most_frequent'}"
            ]
          },
          "execution_count": 530,
          "metadata": {},
          "output_type": "execute_result"
        }
      ],
      "source": [
        "#best params\n",
        "dummy.best_params_"
      ]
    },
    {
      "cell_type": "code",
      "execution_count": 601,
      "metadata": {},
      "outputs": [
        {
          "name": "stdout",
          "output_type": "stream",
          "text": [
            "          train  test\n",
            "ROC AUC     0.5   0.5\n",
            "Accuracy    0.5   0.5\n",
            "\n",
            "Confusion Matrix:\n",
            "[[15105     0]\n",
            " [15285     0]]\n",
            "Classification Report:\n",
            "              precision    recall  f1-score   support\n",
            "\n",
            "           0       0.50      1.00      0.66     15105\n",
            "           1       0.00      0.00      0.00     15285\n",
            "\n",
            "    accuracy                           0.50     30390\n",
            "   macro avg       0.25      0.50      0.33     30390\n",
            "weighted avg       0.25      0.50      0.33     30390\n",
            "\n"
          ]
        },
        {
          "name": "stderr",
          "output_type": "stream",
          "text": [
            "/Users/rachelleperez/Library/Python/3.9/lib/python/site-packages/sklearn/metrics/_classification.py:1509: UndefinedMetricWarning: Precision is ill-defined and being set to 0.0 in labels with no predicted samples. Use `zero_division` parameter to control this behavior.\n",
            "  _warn_prf(average, modifier, f\"{metric.capitalize()} is\", len(result))\n",
            "/Users/rachelleperez/Library/Python/3.9/lib/python/site-packages/sklearn/metrics/_classification.py:1509: UndefinedMetricWarning: Precision is ill-defined and being set to 0.0 in labels with no predicted samples. Use `zero_division` parameter to control this behavior.\n",
            "  _warn_prf(average, modifier, f\"{metric.capitalize()} is\", len(result))\n",
            "/Users/rachelleperez/Library/Python/3.9/lib/python/site-packages/sklearn/metrics/_classification.py:1509: UndefinedMetricWarning: Precision is ill-defined and being set to 0.0 in labels with no predicted samples. Use `zero_division` parameter to control this behavior.\n",
            "  _warn_prf(average, modifier, f\"{metric.capitalize()} is\", len(result))\n"
          ]
        },
        {
          "data": {
            "image/png": "[encoded data removed]",
            "text/plain": [
              "<Figure size 640x480 with 1 Axes>"
            ]
          },
          "metadata": {},
          "output_type": "display_data"
        }
      ],
      "source": [
        "dummy_metrics = evaluate_model(\"DummyClassifier\", dummy, X_train, y_train, X_test, y_test)"
      ]
    },
    {
      "attachments": {},
      "cell_type": "markdown",
      "metadata": {},
      "source": [
        "### Logistic Regression (Stand-alone)\n",
        "\n",
        "Let's start with the go-to classifier for this type of task: scikit-learn's [LogisticRegression](https://scikit-learn.org/stable/modules/generated/sklearn.linear_model.LogisticRegression.html)."
      ]
    },
    {
      "cell_type": "code",
      "execution_count": 531,
      "metadata": {},
      "outputs": [
        {
          "name": "stdout",
          "output_type": "stream",
          "text": [
            "CPU times: user 2min 10s, sys: 1min 14s, total: 3min 25s\n",
            "Wall time: 29.9 s\n"
          ]
        },
        {
          "data": {
            "text/html": [
              "<style>#sk-container-id-10 {\n",
              "  /* Definition of color scheme common for light and dark mode */\n",
              "  --sklearn-color-text: black;\n",
              "  --sklearn-color-line: gray;\n",
              "  /* Definition of color scheme for unfitted estimators */\n",
              "  --sklearn-color-unfitted-level-0: #fff5e6;\n",
              "  --sklearn-color-unfitted-level-1: #f6e4d2;\n",
              "  --sklearn-color-unfitted-level-2: #ffe0b3;\n",
              "  --sklearn-color-unfitted-level-3: chocolate;\n",
              "  /* Definition of color scheme for fitted estimators */\n",
              "  --sklearn-color-fitted-level-0: #f0f8ff;\n",
              "  --sklearn-color-fitted-level-1: #d4ebff;\n",
              "  --sklearn-color-fitted-level-2: #b3dbfd;\n",
              "  --sklearn-color-fitted-level-3: cornflowerblue;\n",
              "\n",
              "  /* Specific color for light theme */\n",
              "  --sklearn-color-text-on-default-background: var(--sg-text-color, var(--theme-code-foreground, var(--jp-content-font-color1, black)));\n",
              "  --sklearn-color-background: var(--sg-background-color, var(--theme-background, var(--jp-layout-color0, white)));\n",
              "  --sklearn-color-border-box: var(--sg-text-color, var(--theme-code-foreground, var(--jp-content-font-color1, black)));\n",
              "  --sklearn-color-icon: #696969;\n",
              "\n",
              "  @media (prefers-color-scheme: dark) {\n",
              "    /* Redefinition of color scheme for dark theme */\n",
              "    --sklearn-color-text-on-default-background: var(--sg-text-color, var(--theme-code-foreground, var(--jp-content-font-color1, white)));\n",
              "    --sklearn-color-background: var(--sg-background-color, var(--theme-background, var(--jp-layout-color0, #111)));\n",
              "    --sklearn-color-border-box: var(--sg-text-color, var(--theme-code-foreground, var(--jp-content-font-color1, white)));\n",
              "    --sklearn-color-icon: #878787;\n",
              "  }\n",
              "}\n",
              "\n",
              "#sk-container-id-10 {\n",
              "  color: var(--sklearn-color-text);\n",
              "}\n",
              "\n",
              "#sk-container-id-10 pre {\n",
              "  padding: 0;\n",
              "}\n",
              "\n",
              "#sk-container-id-10 input.sk-hidden--visually {\n",
              "  border: 0;\n",
              "  clip: rect(1px 1px 1px 1px);\n",
              "  clip: rect(1px, 1px, 1px, 1px);\n",
              "  height: 1px;\n",
              "  margin: -1px;\n",
              "  overflow: hidden;\n",
              "  padding: 0;\n",
              "  position: absolute;\n",
              "  width: 1px;\n",
              "}\n",
              "\n",
              "#sk-container-id-10 div.sk-dashed-wrapped {\n",
              "  border: 1px dashed var(--sklearn-color-line);\n",
              "  margin: 0 0.4em 0.5em 0.4em;\n",
              "  box-sizing: border-box;\n",
              "  padding-bottom: 0.4em;\n",
              "  background-color: var(--sklearn-color-background);\n",
              "}\n",
              "\n",
              "#sk-container-id-10 div.sk-container {\n",
              "  /* jupyter's `normalize.less` sets `[hidden] { display: none; }`\n",
              "     but bootstrap.min.css set `[hidden] { display: none !important; }`\n",
              "     so we also need the `!important` here to be able to override the\n",
              "     default hidden behavior on the sphinx rendered scikit-learn.org.\n",
              "     See: https://github.com/scikit-learn/scikit-learn/issues/21755 */\n",
              "  display: inline-block !important;\n",
              "  position: relative;\n",
              "}\n",
              "\n",
              "#sk-container-id-10 div.sk-text-repr-fallback {\n",
              "  display: none;\n",
              "}\n",
              "\n",
              "div.sk-parallel-item,\n",
              "div.sk-serial,\n",
              "div.sk-item {\n",
              "  /* draw centered vertical line to link estimators */\n",
              "  background-image: linear-gradient(var(--sklearn-color-text-on-default-background), var(--sklearn-color-text-on-default-background));\n",
              "  background-size: 2px 100%;\n",
              "  background-repeat: no-repeat;\n",
              "  background-position: center center;\n",
              "}\n",
              "\n",
              "/* Parallel-specific style estimator block */\n",
              "\n",
              "#sk-container-id-10 div.sk-parallel-item::after {\n",
              "  content: \"\";\n",
              "  width: 100%;\n",
              "  border-bottom: 2px solid var(--sklearn-color-text-on-default-background);\n",
              "  flex-grow: 1;\n",
              "}\n",
              "\n",
              "#sk-container-id-10 div.sk-parallel {\n",
              "  display: flex;\n",
              "  align-items: stretch;\n",
              "  justify-content: center;\n",
              "  background-color: var(--sklearn-color-background);\n",
              "  position: relative;\n",
              "}\n",
              "\n",
              "#sk-container-id-10 div.sk-parallel-item {\n",
              "  display: flex;\n",
              "  flex-direction: column;\n",
              "}\n",
              "\n",
              "#sk-container-id-10 div.sk-parallel-item:first-child::after {\n",
              "  align-self: flex-end;\n",
              "  width: 50%;\n",
              "}\n",
              "\n",
              "#sk-container-id-10 div.sk-parallel-item:last-child::after {\n",
              "  align-self: flex-start;\n",
              "  width: 50%;\n",
              "}\n",
              "\n",
              "#sk-container-id-10 div.sk-parallel-item:only-child::after {\n",
              "  width: 0;\n",
              "}\n",
              "\n",
              "/* Serial-specific style estimator block */\n",
              "\n",
              "#sk-container-id-10 div.sk-serial {\n",
              "  display: flex;\n",
              "  flex-direction: column;\n",
              "  align-items: center;\n",
              "  background-color: var(--sklearn-color-background);\n",
              "  padding-right: 1em;\n",
              "  padding-left: 1em;\n",
              "}\n",
              "\n",
              "\n",
              "/* Toggleable style: style used for estimator/Pipeline/ColumnTransformer box that is\n",
              "clickable and can be expanded/collapsed.\n",
              "- Pipeline and ColumnTransformer use this feature and define the default style\n",
              "- Estimators will overwrite some part of the style using the `sk-estimator` class\n",
              "*/\n",
              "\n",
              "/* Pipeline and ColumnTransformer style (default) */\n",
              "\n",
              "#sk-container-id-10 div.sk-toggleable {\n",
              "  /* Default theme specific background. It is overwritten whether we have a\n",
              "  specific estimator or a Pipeline/ColumnTransformer */\n",
              "  background-color: var(--sklearn-color-background);\n",
              "}\n",
              "\n",
              "/* Toggleable label */\n",
              "#sk-container-id-10 label.sk-toggleable__label {\n",
              "  cursor: pointer;\n",
              "  display: block;\n",
              "  width: 100%;\n",
              "  margin-bottom: 0;\n",
              "  padding: 0.5em;\n",
              "  box-sizing: border-box;\n",
              "  text-align: center;\n",
              "}\n",
              "\n",
              "#sk-container-id-10 label.sk-toggleable__label-arrow:before {\n",
              "  /* Arrow on the left of the label */\n",
              "  content: \"▸\";\n",
              "  float: left;\n",
              "  margin-right: 0.25em;\n",
              "  color: var(--sklearn-color-icon);\n",
              "}\n",
              "\n",
              "#sk-container-id-10 label.sk-toggleable__label-arrow:hover:before {\n",
              "  color: var(--sklearn-color-text);\n",
              "}\n",
              "\n",
              "/* Toggleable content - dropdown */\n",
              "\n",
              "#sk-container-id-10 div.sk-toggleable__content {\n",
              "  max-height: 0;\n",
              "  max-width: 0;\n",
              "  overflow: hidden;\n",
              "  text-align: left;\n",
              "  /* unfitted */\n",
              "  background-color: var(--sklearn-color-unfitted-level-0);\n",
              "}\n",
              "\n",
              "#sk-container-id-10 div.sk-toggleable__content.fitted {\n",
              "  /* fitted */\n",
              "  background-color: var(--sklearn-color-fitted-level-0);\n",
              "}\n",
              "\n",
              "#sk-container-id-10 div.sk-toggleable__content pre {\n",
              "  margin: 0.2em;\n",
              "  border-radius: 0.25em;\n",
              "  color: var(--sklearn-color-text);\n",
              "  /* unfitted */\n",
              "  background-color: var(--sklearn-color-unfitted-level-0);\n",
              "}\n",
              "\n",
              "#sk-container-id-10 div.sk-toggleable__content.fitted pre {\n",
              "  /* unfitted */\n",
              "  background-color: var(--sklearn-color-fitted-level-0);\n",
              "}\n",
              "\n",
              "#sk-container-id-10 input.sk-toggleable__control:checked~div.sk-toggleable__content {\n",
              "  /* Expand drop-down */\n",
              "  max-height: 200px;\n",
              "  max-width: 100%;\n",
              "  overflow: auto;\n",
              "}\n",
              "\n",
              "#sk-container-id-10 input.sk-toggleable__control:checked~label.sk-toggleable__label-arrow:before {\n",
              "  content: \"▾\";\n",
              "}\n",
              "\n",
              "/* Pipeline/ColumnTransformer-specific style */\n",
              "\n",
              "#sk-container-id-10 div.sk-label input.sk-toggleable__control:checked~label.sk-toggleable__label {\n",
              "  color: var(--sklearn-color-text);\n",
              "  background-color: var(--sklearn-color-unfitted-level-2);\n",
              "}\n",
              "\n",
              "#sk-container-id-10 div.sk-label.fitted input.sk-toggleable__control:checked~label.sk-toggleable__label {\n",
              "  background-color: var(--sklearn-color-fitted-level-2);\n",
              "}\n",
              "\n",
              "/* Estimator-specific style */\n",
              "\n",
              "/* Colorize estimator box */\n",
              "#sk-container-id-10 div.sk-estimator input.sk-toggleable__control:checked~label.sk-toggleable__label {\n",
              "  /* unfitted */\n",
              "  background-color: var(--sklearn-color-unfitted-level-2);\n",
              "}\n",
              "\n",
              "#sk-container-id-10 div.sk-estimator.fitted input.sk-toggleable__control:checked~label.sk-toggleable__label {\n",
              "  /* fitted */\n",
              "  background-color: var(--sklearn-color-fitted-level-2);\n",
              "}\n",
              "\n",
              "#sk-container-id-10 div.sk-label label.sk-toggleable__label,\n",
              "#sk-container-id-10 div.sk-label label {\n",
              "  /* The background is the default theme color */\n",
              "  color: var(--sklearn-color-text-on-default-background);\n",
              "}\n",
              "\n",
              "/* On hover, darken the color of the background */\n",
              "#sk-container-id-10 div.sk-label:hover label.sk-toggleable__label {\n",
              "  color: var(--sklearn-color-text);\n",
              "  background-color: var(--sklearn-color-unfitted-level-2);\n",
              "}\n",
              "\n",
              "/* Label box, darken color on hover, fitted */\n",
              "#sk-container-id-10 div.sk-label.fitted:hover label.sk-toggleable__label.fitted {\n",
              "  color: var(--sklearn-color-text);\n",
              "  background-color: var(--sklearn-color-fitted-level-2);\n",
              "}\n",
              "\n",
              "/* Estimator label */\n",
              "\n",
              "#sk-container-id-10 div.sk-label label {\n",
              "  font-family: monospace;\n",
              "  font-weight: bold;\n",
              "  display: inline-block;\n",
              "  line-height: 1.2em;\n",
              "}\n",
              "\n",
              "#sk-container-id-10 div.sk-label-container {\n",
              "  text-align: center;\n",
              "}\n",
              "\n",
              "/* Estimator-specific */\n",
              "#sk-container-id-10 div.sk-estimator {\n",
              "  font-family: monospace;\n",
              "  border: 1px dotted var(--sklearn-color-border-box);\n",
              "  border-radius: 0.25em;\n",
              "  box-sizing: border-box;\n",
              "  margin-bottom: 0.5em;\n",
              "  /* unfitted */\n",
              "  background-color: var(--sklearn-color-unfitted-level-0);\n",
              "}\n",
              "\n",
              "#sk-container-id-10 div.sk-estimator.fitted {\n",
              "  /* fitted */\n",
              "  background-color: var(--sklearn-color-fitted-level-0);\n",
              "}\n",
              "\n",
              "/* on hover */\n",
              "#sk-container-id-10 div.sk-estimator:hover {\n",
              "  /* unfitted */\n",
              "  background-color: var(--sklearn-color-unfitted-level-2);\n",
              "}\n",
              "\n",
              "#sk-container-id-10 div.sk-estimator.fitted:hover {\n",
              "  /* fitted */\n",
              "  background-color: var(--sklearn-color-fitted-level-2);\n",
              "}\n",
              "\n",
              "/* Specification for estimator info (e.g. \"i\" and \"?\") */\n",
              "\n",
              "/* Common style for \"i\" and \"?\" */\n",
              "\n",
              ".sk-estimator-doc-link,\n",
              "a:link.sk-estimator-doc-link,\n",
              "a:visited.sk-estimator-doc-link {\n",
              "  float: right;\n",
              "  font-size: smaller;\n",
              "  line-height: 1em;\n",
              "  font-family: monospace;\n",
              "  background-color: var(--sklearn-color-background);\n",
              "  border-radius: 1em;\n",
              "  height: 1em;\n",
              "  width: 1em;\n",
              "  text-decoration: none !important;\n",
              "  margin-left: 1ex;\n",
              "  /* unfitted */\n",
              "  border: var(--sklearn-color-unfitted-level-1) 1pt solid;\n",
              "  color: var(--sklearn-color-unfitted-level-1);\n",
              "}\n",
              "\n",
              ".sk-estimator-doc-link.fitted,\n",
              "a:link.sk-estimator-doc-link.fitted,\n",
              "a:visited.sk-estimator-doc-link.fitted {\n",
              "  /* fitted */\n",
              "  border: var(--sklearn-color-fitted-level-1) 1pt solid;\n",
              "  color: var(--sklearn-color-fitted-level-1);\n",
              "}\n",
              "\n",
              "/* On hover */\n",
              "div.sk-estimator:hover .sk-estimator-doc-link:hover,\n",
              ".sk-estimator-doc-link:hover,\n",
              "div.sk-label-container:hover .sk-estimator-doc-link:hover,\n",
              ".sk-estimator-doc-link:hover {\n",
              "  /* unfitted */\n",
              "  background-color: var(--sklearn-color-unfitted-level-3);\n",
              "  color: var(--sklearn-color-background);\n",
              "  text-decoration: none;\n",
              "}\n",
              "\n",
              "div.sk-estimator.fitted:hover .sk-estimator-doc-link.fitted:hover,\n",
              ".sk-estimator-doc-link.fitted:hover,\n",
              "div.sk-label-container:hover .sk-estimator-doc-link.fitted:hover,\n",
              ".sk-estimator-doc-link.fitted:hover {\n",
              "  /* fitted */\n",
              "  background-color: var(--sklearn-color-fitted-level-3);\n",
              "  color: var(--sklearn-color-background);\n",
              "  text-decoration: none;\n",
              "}\n",
              "\n",
              "/* Span, style for the box shown on hovering the info icon */\n",
              ".sk-estimator-doc-link span {\n",
              "  display: none;\n",
              "  z-index: 9999;\n",
              "  position: relative;\n",
              "  font-weight: normal;\n",
              "  right: .2ex;\n",
              "  padding: .5ex;\n",
              "  margin: .5ex;\n",
              "  width: min-content;\n",
              "  min-width: 20ex;\n",
              "  max-width: 50ex;\n",
              "  color: var(--sklearn-color-text);\n",
              "  box-shadow: 2pt 2pt 4pt #999;\n",
              "  /* unfitted */\n",
              "  background: var(--sklearn-color-unfitted-level-0);\n",
              "  border: .5pt solid var(--sklearn-color-unfitted-level-3);\n",
              "}\n",
              "\n",
              ".sk-estimator-doc-link.fitted span {\n",
              "  /* fitted */\n",
              "  background: var(--sklearn-color-fitted-level-0);\n",
              "  border: var(--sklearn-color-fitted-level-3);\n",
              "}\n",
              "\n",
              ".sk-estimator-doc-link:hover span {\n",
              "  display: block;\n",
              "}\n",
              "\n",
              "/* \"?\"-specific style due to the `<a>` HTML tag */\n",
              "\n",
              "#sk-container-id-10 a.estimator_doc_link {\n",
              "  float: right;\n",
              "  font-size: 1rem;\n",
              "  line-height: 1em;\n",
              "  font-family: monospace;\n",
              "  background-color: var(--sklearn-color-background);\n",
              "  border-radius: 1rem;\n",
              "  height: 1rem;\n",
              "  width: 1rem;\n",
              "  text-decoration: none;\n",
              "  /* unfitted */\n",
              "  color: var(--sklearn-color-unfitted-level-1);\n",
              "  border: var(--sklearn-color-unfitted-level-1) 1pt solid;\n",
              "}\n",
              "\n",
              "#sk-container-id-10 a.estimator_doc_link.fitted {\n",
              "  /* fitted */\n",
              "  border: var(--sklearn-color-fitted-level-1) 1pt solid;\n",
              "  color: var(--sklearn-color-fitted-level-1);\n",
              "}\n",
              "\n",
              "/* On hover */\n",
              "#sk-container-id-10 a.estimator_doc_link:hover {\n",
              "  /* unfitted */\n",
              "  background-color: var(--sklearn-color-unfitted-level-3);\n",
              "  color: var(--sklearn-color-background);\n",
              "  text-decoration: none;\n",
              "}\n",
              "\n",
              "#sk-container-id-10 a.estimator_doc_link.fitted:hover {\n",
              "  /* fitted */\n",
              "  background-color: var(--sklearn-color-fitted-level-3);\n",
              "}\n",
              "</style><div id=\"sk-container-id-10\" class=\"sk-top-container\"><div class=\"sk-text-repr-fallback\"><pre>GridSearchCV(estimator=LogisticRegression(class_weight=&#x27;balanced&#x27;,\n",
              "                                          random_state=5450),\n",
              "             param_grid={&#x27;max_iter&#x27;: [50, 100, 200], &#x27;penalty&#x27;: (None, &#x27;l2&#x27;),\n",
              "                         &#x27;solver&#x27;: (&#x27;newton-cg&#x27;, &#x27;lbfgs&#x27;, &#x27;sag&#x27;)},\n",
              "             scoring=&#x27;roc_auc&#x27;)</pre><b>In a Jupyter environment, please rerun this cell to show the HTML representation or trust the notebook. <br />On GitHub, the HTML representation is unable to render, please try loading this page with nbviewer.org.</b></div><div class=\"sk-container\" hidden><div class=\"sk-item sk-dashed-wrapped\"><div class=\"sk-label-container\"><div class=\"sk-label fitted sk-toggleable\"><input class=\"sk-toggleable__control sk-hidden--visually\" id=\"sk-estimator-id-28\" type=\"checkbox\" ><label for=\"sk-estimator-id-28\" class=\"sk-toggleable__label fitted sk-toggleable__label-arrow fitted\">&nbsp;&nbsp;GridSearchCV<a class=\"sk-estimator-doc-link fitted\" rel=\"noreferrer\" target=\"_blank\" href=\"https://scikit-learn.org/1.4/modules/generated/sklearn.model_selection.GridSearchCV.html\">?<span>Documentation for GridSearchCV</span></a><span class=\"sk-estimator-doc-link fitted\">i<span>Fitted</span></span></label><div class=\"sk-toggleable__content fitted\"><pre>GridSearchCV(estimator=LogisticRegression(class_weight=&#x27;balanced&#x27;,\n",
              "                                          random_state=5450),\n",
              "             param_grid={&#x27;max_iter&#x27;: [50, 100, 200], &#x27;penalty&#x27;: (None, &#x27;l2&#x27;),\n",
              "                         &#x27;solver&#x27;: (&#x27;newton-cg&#x27;, &#x27;lbfgs&#x27;, &#x27;sag&#x27;)},\n",
              "             scoring=&#x27;roc_auc&#x27;)</pre></div> </div></div><div class=\"sk-parallel\"><div class=\"sk-parallel-item\"><div class=\"sk-item\"><div class=\"sk-label-container\"><div class=\"sk-label fitted sk-toggleable\"><input class=\"sk-toggleable__control sk-hidden--visually\" id=\"sk-estimator-id-29\" type=\"checkbox\" ><label for=\"sk-estimator-id-29\" class=\"sk-toggleable__label fitted sk-toggleable__label-arrow fitted\">estimator: LogisticRegression</label><div class=\"sk-toggleable__content fitted\"><pre>LogisticRegression(class_weight=&#x27;balanced&#x27;, random_state=5450)</pre></div> </div></div><div class=\"sk-serial\"><div class=\"sk-item\"><div class=\"sk-estimator fitted sk-toggleable\"><input class=\"sk-toggleable__control sk-hidden--visually\" id=\"sk-estimator-id-30\" type=\"checkbox\" ><label for=\"sk-estimator-id-30\" class=\"sk-toggleable__label fitted sk-toggleable__label-arrow fitted\">&nbsp;LogisticRegression<a class=\"sk-estimator-doc-link fitted\" rel=\"noreferrer\" target=\"_blank\" href=\"https://scikit-learn.org/1.4/modules/generated/sklearn.linear_model.LogisticRegression.html\">?<span>Documentation for LogisticRegression</span></a></label><div class=\"sk-toggleable__content fitted\"><pre>LogisticRegression(class_weight=&#x27;balanced&#x27;, random_state=5450)</pre></div> </div></div></div></div></div></div></div></div></div>"
            ],
            "text/plain": [
              "GridSearchCV(estimator=LogisticRegression(class_weight='balanced',\n",
              "                                          random_state=5450),\n",
              "             param_grid={'max_iter': [50, 100, 200], 'penalty': (None, 'l2'),\n",
              "                         'solver': ('newton-cg', 'lbfgs', 'sag')},\n",
              "             scoring='roc_auc')"
            ]
          },
          "execution_count": 531,
          "metadata": {},
          "output_type": "execute_result"
        }
      ],
      "source": [
        "%%time\n",
        "\n",
        "logreg = LogisticRegression(random_state=5450, class_weight='balanced')\n",
        "\n",
        "# parameters for GridSearch (refer to documentation for allowed penalty+solver combinations) \n",
        "parameters = {'max_iter': [50, 100, 200], # default 100\n",
        "                'solver': ('newton-cg', 'lbfgs', 'sag'), # lbfgs default | if resource intensive, remove newton-cg as it's more resource intensive\n",
        "                'penalty': (None, 'l2' ) # l2 default\n",
        "             }\n",
        "\n",
        "logreg = GridSearchCV(estimator=logreg, param_grid=parameters, scoring='roc_auc')\n",
        "logreg.fit(X_train, y_train)"
      ]
    },
    {
      "cell_type": "code",
      "execution_count": 551,
      "metadata": {},
      "outputs": [
        {
          "data": {
            "text/plain": [
              "{'max_iter': 50, 'penalty': None, 'solver': 'lbfgs'}"
            ]
          },
          "execution_count": 551,
          "metadata": {},
          "output_type": "execute_result"
        }
      ],
      "source": [
        "#best params\n",
        "logreg.best_params_"
      ]
    },
    {
      "cell_type": "code",
      "execution_count": 602,
      "metadata": {},
      "outputs": [
        {
          "name": "stdout",
          "output_type": "stream",
          "text": [
            "          train  test\n",
            "ROC AUC    0.69  0.69\n",
            "Accuracy   0.64  0.64\n",
            "\n",
            "Confusion Matrix:\n",
            "[[10124  4981]\n",
            " [ 5973  9312]]\n",
            "Classification Report:\n",
            "              precision    recall  f1-score   support\n",
            "\n",
            "           0       0.63      0.67      0.65     15105\n",
            "           1       0.65      0.61      0.63     15285\n",
            "\n",
            "    accuracy                           0.64     30390\n",
            "   macro avg       0.64      0.64      0.64     30390\n",
            "weighted avg       0.64      0.64      0.64     30390\n",
            "\n"
          ]
        },
        {
          "data": {
            "image/png": "[encoded data removed]",
            "text/plain": [
              "<Figure size 640x480 with 1 Axes>"
            ]
          },
          "metadata": {},
          "output_type": "display_data"
        }
      ],
      "source": [
        "logreg_metrics = evaluate_model(\"Logistic Regression (Stand-alone)\", logreg, X_train, y_train, X_test, y_test)"
      ]
    },
    {
      "attachments": {},
      "cell_type": "markdown",
      "metadata": {},
      "source": [
        "### Logistic Regression (Pipeline)\n",
        "\n",
        "For the model below, we will do a veriation that processes the data differently: \n",
        "- Using scikit-learn's [ColumnTransformer](https://scikit-learn.org/stable/modules/generated/sklearn.compose.ColumnTransformer.html) to apply scikit-learn's [StandardSaler](https://scikit-learn.org/stable/modules/generated/sklearn.preprocessing.StandardScaler.html) scaling only to numerical features and scikit-learn's [TdidfVectorizer](https://scikit-learn.org/stable/modules/generated/sklearn.feature_extraction.text.TfidfVectorizer.html) to text. \n",
        "- Create a Pipeline with the Preprocessing from above and the classifier, which will still be the scikit-learn's [LogisticRegression](https://scikit-learn.org/stable/modules/generated/sklearn.compose.ColumnTransformer.html)\n",
        "\n",
        "*This model has a non-numeric feature so we will use the test data with suffix `_txt` denoting it includes the `text` column and it's unscaled.*"
      ]
    },
    {
      "cell_type": "code",
      "execution_count": 539,
      "metadata": {},
      "outputs": [
        {
          "data": {
            "text/plain": [
              "Index(['rating', 'text', 'verified_purchase', 'is_helpful', 'title_length',\n",
              "       'text_length', 'is_blank_review', 'reviews_per_user',\n",
              "       'has_variant_reviews', 'num_images', 'topic_0', 'topic_1', 'topic_2',\n",
              "       'topic_3', 'topic_4', 'month_1.0', 'month_2.0', 'month_3.0',\n",
              "       'month_4.0', 'month_5.0', 'month_6.0', 'month_7.0', 'month_8.0',\n",
              "       'month_9.0', 'dow_0.0', 'dow_1.0', 'dow_2.0', 'dow_3.0', 'dow_4.0',\n",
              "       'dow_5.0', 'dow_6.0', 'product_category', 'brand', 'exclamations',\n",
              "       'capital_letters', 'sentiment_polarity'],\n",
              "      dtype='object')"
            ]
          },
          "execution_count": 539,
          "metadata": {},
          "output_type": "execute_result"
        }
      ],
      "source": [
        "df.columns"
      ]
    },
    {
      "cell_type": "code",
      "execution_count": 541,
      "metadata": {},
      "outputs": [],
      "source": [
        "# Text feature extraction\n",
        "tfidf = TfidfVectorizer(max_features=5000, stop_words='english')\n",
        "\n",
        "# Preprocessing for numeric features\n",
        "numeric_features = [col for col in df.columns if col not in ['text', 'is_helpful']] # all columns except 'text'\n",
        "numeric_transformer = StandardScaler()\n",
        "\n",
        "# Combine preprocessing steps\n",
        "preprocessor = ColumnTransformer(\n",
        "    transformers=[\n",
        "        ('num', numeric_transformer, numeric_features),\n",
        "        ('txt', tfidf, 'text')\n",
        "    ])"
      ]
    },
    {
      "cell_type": "code",
      "execution_count": 548,
      "metadata": {},
      "outputs": [
        {
          "data": {
            "text/html": [
              "<style>#sk-container-id-11 {\n",
              "  /* Definition of color scheme common for light and dark mode */\n",
              "  --sklearn-color-text: black;\n",
              "  --sklearn-color-line: gray;\n",
              "  /* Definition of color scheme for unfitted estimators */\n",
              "  --sklearn-color-unfitted-level-0: #fff5e6;\n",
              "  --sklearn-color-unfitted-level-1: #f6e4d2;\n",
              "  --sklearn-color-unfitted-level-2: #ffe0b3;\n",
              "  --sklearn-color-unfitted-level-3: chocolate;\n",
              "  /* Definition of color scheme for fitted estimators */\n",
              "  --sklearn-color-fitted-level-0: #f0f8ff;\n",
              "  --sklearn-color-fitted-level-1: #d4ebff;\n",
              "  --sklearn-color-fitted-level-2: #b3dbfd;\n",
              "  --sklearn-color-fitted-level-3: cornflowerblue;\n",
              "\n",
              "  /* Specific color for light theme */\n",
              "  --sklearn-color-text-on-default-background: var(--sg-text-color, var(--theme-code-foreground, var(--jp-content-font-color1, black)));\n",
              "  --sklearn-color-background: var(--sg-background-color, var(--theme-background, var(--jp-layout-color0, white)));\n",
              "  --sklearn-color-border-box: var(--sg-text-color, var(--theme-code-foreground, var(--jp-content-font-color1, black)));\n",
              "  --sklearn-color-icon: #696969;\n",
              "\n",
              "  @media (prefers-color-scheme: dark) {\n",
              "    /* Redefinition of color scheme for dark theme */\n",
              "    --sklearn-color-text-on-default-background: var(--sg-text-color, var(--theme-code-foreground, var(--jp-content-font-color1, white)));\n",
              "    --sklearn-color-background: var(--sg-background-color, var(--theme-background, var(--jp-layout-color0, #111)));\n",
              "    --sklearn-color-border-box: var(--sg-text-color, var(--theme-code-foreground, var(--jp-content-font-color1, white)));\n",
              "    --sklearn-color-icon: #878787;\n",
              "  }\n",
              "}\n",
              "\n",
              "#sk-container-id-11 {\n",
              "  color: var(--sklearn-color-text);\n",
              "}\n",
              "\n",
              "#sk-container-id-11 pre {\n",
              "  padding: 0;\n",
              "}\n",
              "\n",
              "#sk-container-id-11 input.sk-hidden--visually {\n",
              "  border: 0;\n",
              "  clip: rect(1px 1px 1px 1px);\n",
              "  clip: rect(1px, 1px, 1px, 1px);\n",
              "  height: 1px;\n",
              "  margin: -1px;\n",
              "  overflow: hidden;\n",
              "  padding: 0;\n",
              "  position: absolute;\n",
              "  width: 1px;\n",
              "}\n",
              "\n",
              "#sk-container-id-11 div.sk-dashed-wrapped {\n",
              "  border: 1px dashed var(--sklearn-color-line);\n",
              "  margin: 0 0.4em 0.5em 0.4em;\n",
              "  box-sizing: border-box;\n",
              "  padding-bottom: 0.4em;\n",
              "  background-color: var(--sklearn-color-background);\n",
              "}\n",
              "\n",
              "#sk-container-id-11 div.sk-container {\n",
              "  /* jupyter's `normalize.less` sets `[hidden] { display: none; }`\n",
              "     but bootstrap.min.css set `[hidden] { display: none !important; }`\n",
              "     so we also need the `!important` here to be able to override the\n",
              "     default hidden behavior on the sphinx rendered scikit-learn.org.\n",
              "     See: https://github.com/scikit-learn/scikit-learn/issues/21755 */\n",
              "  display: inline-block !important;\n",
              "  position: relative;\n",
              "}\n",
              "\n",
              "#sk-container-id-11 div.sk-text-repr-fallback {\n",
              "  display: none;\n",
              "}\n",
              "\n",
              "div.sk-parallel-item,\n",
              "div.sk-serial,\n",
              "div.sk-item {\n",
              "  /* draw centered vertical line to link estimators */\n",
              "  background-image: linear-gradient(var(--sklearn-color-text-on-default-background), var(--sklearn-color-text-on-default-background));\n",
              "  background-size: 2px 100%;\n",
              "  background-repeat: no-repeat;\n",
              "  background-position: center center;\n",
              "}\n",
              "\n",
              "/* Parallel-specific style estimator block */\n",
              "\n",
              "#sk-container-id-11 div.sk-parallel-item::after {\n",
              "  content: \"\";\n",
              "  width: 100%;\n",
              "  border-bottom: 2px solid var(--sklearn-color-text-on-default-background);\n",
              "  flex-grow: 1;\n",
              "}\n",
              "\n",
              "#sk-container-id-11 div.sk-parallel {\n",
              "  display: flex;\n",
              "  align-items: stretch;\n",
              "  justify-content: center;\n",
              "  background-color: var(--sklearn-color-background);\n",
              "  position: relative;\n",
              "}\n",
              "\n",
              "#sk-container-id-11 div.sk-parallel-item {\n",
              "  display: flex;\n",
              "  flex-direction: column;\n",
              "}\n",
              "\n",
              "#sk-container-id-11 div.sk-parallel-item:first-child::after {\n",
              "  align-self: flex-end;\n",
              "  width: 50%;\n",
              "}\n",
              "\n",
              "#sk-container-id-11 div.sk-parallel-item:last-child::after {\n",
              "  align-self: flex-start;\n",
              "  width: 50%;\n",
              "}\n",
              "\n",
              "#sk-container-id-11 div.sk-parallel-item:only-child::after {\n",
              "  width: 0;\n",
              "}\n",
              "\n",
              "/* Serial-specific style estimator block */\n",
              "\n",
              "#sk-container-id-11 div.sk-serial {\n",
              "  display: flex;\n",
              "  flex-direction: column;\n",
              "  align-items: center;\n",
              "  background-color: var(--sklearn-color-background);\n",
              "  padding-right: 1em;\n",
              "  padding-left: 1em;\n",
              "}\n",
              "\n",
              "\n",
              "/* Toggleable style: style used for estimator/Pipeline/ColumnTransformer box that is\n",
              "clickable and can be expanded/collapsed.\n",
              "- Pipeline and ColumnTransformer use this feature and define the default style\n",
              "- Estimators will overwrite some part of the style using the `sk-estimator` class\n",
              "*/\n",
              "\n",
              "/* Pipeline and ColumnTransformer style (default) */\n",
              "\n",
              "#sk-container-id-11 div.sk-toggleable {\n",
              "  /* Default theme specific background. It is overwritten whether we have a\n",
              "  specific estimator or a Pipeline/ColumnTransformer */\n",
              "  background-color: var(--sklearn-color-background);\n",
              "}\n",
              "\n",
              "/* Toggleable label */\n",
              "#sk-container-id-11 label.sk-toggleable__label {\n",
              "  cursor: pointer;\n",
              "  display: block;\n",
              "  width: 100%;\n",
              "  margin-bottom: 0;\n",
              "  padding: 0.5em;\n",
              "  box-sizing: border-box;\n",
              "  text-align: center;\n",
              "}\n",
              "\n",
              "#sk-container-id-11 label.sk-toggleable__label-arrow:before {\n",
              "  /* Arrow on the left of the label */\n",
              "  content: \"▸\";\n",
              "  float: left;\n",
              "  margin-right: 0.25em;\n",
              "  color: var(--sklearn-color-icon);\n",
              "}\n",
              "\n",
              "#sk-container-id-11 label.sk-toggleable__label-arrow:hover:before {\n",
              "  color: var(--sklearn-color-text);\n",
              "}\n",
              "\n",
              "/* Toggleable content - dropdown */\n",
              "\n",
              "#sk-container-id-11 div.sk-toggleable__content {\n",
              "  max-height: 0;\n",
              "  max-width: 0;\n",
              "  overflow: hidden;\n",
              "  text-align: left;\n",
              "  /* unfitted */\n",
              "  background-color: var(--sklearn-color-unfitted-level-0);\n",
              "}\n",
              "\n",
              "#sk-container-id-11 div.sk-toggleable__content.fitted {\n",
              "  /* fitted */\n",
              "  background-color: var(--sklearn-color-fitted-level-0);\n",
              "}\n",
              "\n",
              "#sk-container-id-11 div.sk-toggleable__content pre {\n",
              "  margin: 0.2em;\n",
              "  border-radius: 0.25em;\n",
              "  color: var(--sklearn-color-text);\n",
              "  /* unfitted */\n",
              "  background-color: var(--sklearn-color-unfitted-level-0);\n",
              "}\n",
              "\n",
              "#sk-container-id-11 div.sk-toggleable__content.fitted pre {\n",
              "  /* unfitted */\n",
              "  background-color: var(--sklearn-color-fitted-level-0);\n",
              "}\n",
              "\n",
              "#sk-container-id-11 input.sk-toggleable__control:checked~div.sk-toggleable__content {\n",
              "  /* Expand drop-down */\n",
              "  max-height: 200px;\n",
              "  max-width: 100%;\n",
              "  overflow: auto;\n",
              "}\n",
              "\n",
              "#sk-container-id-11 input.sk-toggleable__control:checked~label.sk-toggleable__label-arrow:before {\n",
              "  content: \"▾\";\n",
              "}\n",
              "\n",
              "/* Pipeline/ColumnTransformer-specific style */\n",
              "\n",
              "#sk-container-id-11 div.sk-label input.sk-toggleable__control:checked~label.sk-toggleable__label {\n",
              "  color: var(--sklearn-color-text);\n",
              "  background-color: var(--sklearn-color-unfitted-level-2);\n",
              "}\n",
              "\n",
              "#sk-container-id-11 div.sk-label.fitted input.sk-toggleable__control:checked~label.sk-toggleable__label {\n",
              "  background-color: var(--sklearn-color-fitted-level-2);\n",
              "}\n",
              "\n",
              "/* Estimator-specific style */\n",
              "\n",
              "/* Colorize estimator box */\n",
              "#sk-container-id-11 div.sk-estimator input.sk-toggleable__control:checked~label.sk-toggleable__label {\n",
              "  /* unfitted */\n",
              "  background-color: var(--sklearn-color-unfitted-level-2);\n",
              "}\n",
              "\n",
              "#sk-container-id-11 div.sk-estimator.fitted input.sk-toggleable__control:checked~label.sk-toggleable__label {\n",
              "  /* fitted */\n",
              "  background-color: var(--sklearn-color-fitted-level-2);\n",
              "}\n",
              "\n",
              "#sk-container-id-11 div.sk-label label.sk-toggleable__label,\n",
              "#sk-container-id-11 div.sk-label label {\n",
              "  /* The background is the default theme color */\n",
              "  color: var(--sklearn-color-text-on-default-background);\n",
              "}\n",
              "\n",
              "/* On hover, darken the color of the background */\n",
              "#sk-container-id-11 div.sk-label:hover label.sk-toggleable__label {\n",
              "  color: var(--sklearn-color-text);\n",
              "  background-color: var(--sklearn-color-unfitted-level-2);\n",
              "}\n",
              "\n",
              "/* Label box, darken color on hover, fitted */\n",
              "#sk-container-id-11 div.sk-label.fitted:hover label.sk-toggleable__label.fitted {\n",
              "  color: var(--sklearn-color-text);\n",
              "  background-color: var(--sklearn-color-fitted-level-2);\n",
              "}\n",
              "\n",
              "/* Estimator label */\n",
              "\n",
              "#sk-container-id-11 div.sk-label label {\n",
              "  font-family: monospace;\n",
              "  font-weight: bold;\n",
              "  display: inline-block;\n",
              "  line-height: 1.2em;\n",
              "}\n",
              "\n",
              "#sk-container-id-11 div.sk-label-container {\n",
              "  text-align: center;\n",
              "}\n",
              "\n",
              "/* Estimator-specific */\n",
              "#sk-container-id-11 div.sk-estimator {\n",
              "  font-family: monospace;\n",
              "  border: 1px dotted var(--sklearn-color-border-box);\n",
              "  border-radius: 0.25em;\n",
              "  box-sizing: border-box;\n",
              "  margin-bottom: 0.5em;\n",
              "  /* unfitted */\n",
              "  background-color: var(--sklearn-color-unfitted-level-0);\n",
              "}\n",
              "\n",
              "#sk-container-id-11 div.sk-estimator.fitted {\n",
              "  /* fitted */\n",
              "  background-color: var(--sklearn-color-fitted-level-0);\n",
              "}\n",
              "\n",
              "/* on hover */\n",
              "#sk-container-id-11 div.sk-estimator:hover {\n",
              "  /* unfitted */\n",
              "  background-color: var(--sklearn-color-unfitted-level-2);\n",
              "}\n",
              "\n",
              "#sk-container-id-11 div.sk-estimator.fitted:hover {\n",
              "  /* fitted */\n",
              "  background-color: var(--sklearn-color-fitted-level-2);\n",
              "}\n",
              "\n",
              "/* Specification for estimator info (e.g. \"i\" and \"?\") */\n",
              "\n",
              "/* Common style for \"i\" and \"?\" */\n",
              "\n",
              ".sk-estimator-doc-link,\n",
              "a:link.sk-estimator-doc-link,\n",
              "a:visited.sk-estimator-doc-link {\n",
              "  float: right;\n",
              "  font-size: smaller;\n",
              "  line-height: 1em;\n",
              "  font-family: monospace;\n",
              "  background-color: var(--sklearn-color-background);\n",
              "  border-radius: 1em;\n",
              "  height: 1em;\n",
              "  width: 1em;\n",
              "  text-decoration: none !important;\n",
              "  margin-left: 1ex;\n",
              "  /* unfitted */\n",
              "  border: var(--sklearn-color-unfitted-level-1) 1pt solid;\n",
              "  color: var(--sklearn-color-unfitted-level-1);\n",
              "}\n",
              "\n",
              ".sk-estimator-doc-link.fitted,\n",
              "a:link.sk-estimator-doc-link.fitted,\n",
              "a:visited.sk-estimator-doc-link.fitted {\n",
              "  /* fitted */\n",
              "  border: var(--sklearn-color-fitted-level-1) 1pt solid;\n",
              "  color: var(--sklearn-color-fitted-level-1);\n",
              "}\n",
              "\n",
              "/* On hover */\n",
              "div.sk-estimator:hover .sk-estimator-doc-link:hover,\n",
              ".sk-estimator-doc-link:hover,\n",
              "div.sk-label-container:hover .sk-estimator-doc-link:hover,\n",
              ".sk-estimator-doc-link:hover {\n",
              "  /* unfitted */\n",
              "  background-color: var(--sklearn-color-unfitted-level-3);\n",
              "  color: var(--sklearn-color-background);\n",
              "  text-decoration: none;\n",
              "}\n",
              "\n",
              "div.sk-estimator.fitted:hover .sk-estimator-doc-link.fitted:hover,\n",
              ".sk-estimator-doc-link.fitted:hover,\n",
              "div.sk-label-container:hover .sk-estimator-doc-link.fitted:hover,\n",
              ".sk-estimator-doc-link.fitted:hover {\n",
              "  /* fitted */\n",
              "  background-color: var(--sklearn-color-fitted-level-3);\n",
              "  color: var(--sklearn-color-background);\n",
              "  text-decoration: none;\n",
              "}\n",
              "\n",
              "/* Span, style for the box shown on hovering the info icon */\n",
              ".sk-estimator-doc-link span {\n",
              "  display: none;\n",
              "  z-index: 9999;\n",
              "  position: relative;\n",
              "  font-weight: normal;\n",
              "  right: .2ex;\n",
              "  padding: .5ex;\n",
              "  margin: .5ex;\n",
              "  width: min-content;\n",
              "  min-width: 20ex;\n",
              "  max-width: 50ex;\n",
              "  color: var(--sklearn-color-text);\n",
              "  box-shadow: 2pt 2pt 4pt #999;\n",
              "  /* unfitted */\n",
              "  background: var(--sklearn-color-unfitted-level-0);\n",
              "  border: .5pt solid var(--sklearn-color-unfitted-level-3);\n",
              "}\n",
              "\n",
              ".sk-estimator-doc-link.fitted span {\n",
              "  /* fitted */\n",
              "  background: var(--sklearn-color-fitted-level-0);\n",
              "  border: var(--sklearn-color-fitted-level-3);\n",
              "}\n",
              "\n",
              ".sk-estimator-doc-link:hover span {\n",
              "  display: block;\n",
              "}\n",
              "\n",
              "/* \"?\"-specific style due to the `<a>` HTML tag */\n",
              "\n",
              "#sk-container-id-11 a.estimator_doc_link {\n",
              "  float: right;\n",
              "  font-size: 1rem;\n",
              "  line-height: 1em;\n",
              "  font-family: monospace;\n",
              "  background-color: var(--sklearn-color-background);\n",
              "  border-radius: 1rem;\n",
              "  height: 1rem;\n",
              "  width: 1rem;\n",
              "  text-decoration: none;\n",
              "  /* unfitted */\n",
              "  color: var(--sklearn-color-unfitted-level-1);\n",
              "  border: var(--sklearn-color-unfitted-level-1) 1pt solid;\n",
              "}\n",
              "\n",
              "#sk-container-id-11 a.estimator_doc_link.fitted {\n",
              "  /* fitted */\n",
              "  border: var(--sklearn-color-fitted-level-1) 1pt solid;\n",
              "  color: var(--sklearn-color-fitted-level-1);\n",
              "}\n",
              "\n",
              "/* On hover */\n",
              "#sk-container-id-11 a.estimator_doc_link:hover {\n",
              "  /* unfitted */\n",
              "  background-color: var(--sklearn-color-unfitted-level-3);\n",
              "  color: var(--sklearn-color-background);\n",
              "  text-decoration: none;\n",
              "}\n",
              "\n",
              "#sk-container-id-11 a.estimator_doc_link.fitted:hover {\n",
              "  /* fitted */\n",
              "  background-color: var(--sklearn-color-fitted-level-3);\n",
              "}\n",
              "</style><div id=\"sk-container-id-11\" class=\"sk-top-container\"><div class=\"sk-text-repr-fallback\"><pre>Pipeline(steps=[(&#x27;preprocessor&#x27;,\n",
              "                 ColumnTransformer(transformers=[(&#x27;num&#x27;, StandardScaler(),\n",
              "                                                  [&#x27;rating&#x27;,\n",
              "                                                   &#x27;verified_purchase&#x27;,\n",
              "                                                   &#x27;title_length&#x27;,\n",
              "                                                   &#x27;text_length&#x27;,\n",
              "                                                   &#x27;is_blank_review&#x27;,\n",
              "                                                   &#x27;reviews_per_user&#x27;,\n",
              "                                                   &#x27;has_variant_reviews&#x27;,\n",
              "                                                   &#x27;num_images&#x27;, &#x27;topic_0&#x27;,\n",
              "                                                   &#x27;topic_1&#x27;, &#x27;topic_2&#x27;,\n",
              "                                                   &#x27;topic_3&#x27;, &#x27;topic_4&#x27;,\n",
              "                                                   &#x27;month_1.0&#x27;, &#x27;month_2.0&#x27;,\n",
              "                                                   &#x27;month_3.0&#x27;, &#x27;month_4.0&#x27;,\n",
              "                                                   &#x27;month_5.0&#x27;, &#x27;month_6.0&#x27;,\n",
              "                                                   &#x27;month_7.0&#x27;, &#x27;month_8.0&#x27;,\n",
              "                                                   &#x27;month_9.0&#x27;, &#x27;dow_0.0&#x27;,\n",
              "                                                   &#x27;dow_1.0&#x27;, &#x27;dow_2.0&#x27;,\n",
              "                                                   &#x27;dow_3.0&#x27;, &#x27;dow_4.0&#x27;,\n",
              "                                                   &#x27;dow_5.0&#x27;, &#x27;dow_6.0&#x27;,\n",
              "                                                   &#x27;product_category&#x27;, ...]),\n",
              "                                                 (&#x27;txt&#x27;,\n",
              "                                                  TfidfVectorizer(max_features=5000,\n",
              "                                                                  stop_words=&#x27;english&#x27;),\n",
              "                                                  &#x27;text&#x27;)])),\n",
              "                (&#x27;classifier&#x27;,\n",
              "                 LogisticRegression(class_weight=&#x27;balanced&#x27;, max_iter=1000))])</pre><b>In a Jupyter environment, please rerun this cell to show the HTML representation or trust the notebook. <br />On GitHub, the HTML representation is unable to render, please try loading this page with nbviewer.org.</b></div><div class=\"sk-container\" hidden><div class=\"sk-item sk-dashed-wrapped\"><div class=\"sk-label-container\"><div class=\"sk-label fitted sk-toggleable\"><input class=\"sk-toggleable__control sk-hidden--visually\" id=\"sk-estimator-id-31\" type=\"checkbox\" ><label for=\"sk-estimator-id-31\" class=\"sk-toggleable__label fitted sk-toggleable__label-arrow fitted\">&nbsp;&nbsp;Pipeline<a class=\"sk-estimator-doc-link fitted\" rel=\"noreferrer\" target=\"_blank\" href=\"https://scikit-learn.org/1.4/modules/generated/sklearn.pipeline.Pipeline.html\">?<span>Documentation for Pipeline</span></a><span class=\"sk-estimator-doc-link fitted\">i<span>Fitted</span></span></label><div class=\"sk-toggleable__content fitted\"><pre>Pipeline(steps=[(&#x27;preprocessor&#x27;,\n",
              "                 ColumnTransformer(transformers=[(&#x27;num&#x27;, StandardScaler(),\n",
              "                                                  [&#x27;rating&#x27;,\n",
              "                                                   &#x27;verified_purchase&#x27;,\n",
              "                                                   &#x27;title_length&#x27;,\n",
              "                                                   &#x27;text_length&#x27;,\n",
              "                                                   &#x27;is_blank_review&#x27;,\n",
              "                                                   &#x27;reviews_per_user&#x27;,\n",
              "                                                   &#x27;has_variant_reviews&#x27;,\n",
              "                                                   &#x27;num_images&#x27;, &#x27;topic_0&#x27;,\n",
              "                                                   &#x27;topic_1&#x27;, &#x27;topic_2&#x27;,\n",
              "                                                   &#x27;topic_3&#x27;, &#x27;topic_4&#x27;,\n",
              "                                                   &#x27;month_1.0&#x27;, &#x27;month_2.0&#x27;,\n",
              "                                                   &#x27;month_3.0&#x27;, &#x27;month_4.0&#x27;,\n",
              "                                                   &#x27;month_5.0&#x27;, &#x27;month_6.0&#x27;,\n",
              "                                                   &#x27;month_7.0&#x27;, &#x27;month_8.0&#x27;,\n",
              "                                                   &#x27;month_9.0&#x27;, &#x27;dow_0.0&#x27;,\n",
              "                                                   &#x27;dow_1.0&#x27;, &#x27;dow_2.0&#x27;,\n",
              "                                                   &#x27;dow_3.0&#x27;, &#x27;dow_4.0&#x27;,\n",
              "                                                   &#x27;dow_5.0&#x27;, &#x27;dow_6.0&#x27;,\n",
              "                                                   &#x27;product_category&#x27;, ...]),\n",
              "                                                 (&#x27;txt&#x27;,\n",
              "                                                  TfidfVectorizer(max_features=5000,\n",
              "                                                                  stop_words=&#x27;english&#x27;),\n",
              "                                                  &#x27;text&#x27;)])),\n",
              "                (&#x27;classifier&#x27;,\n",
              "                 LogisticRegression(class_weight=&#x27;balanced&#x27;, max_iter=1000))])</pre></div> </div></div><div class=\"sk-serial\"><div class=\"sk-item sk-dashed-wrapped\"><div class=\"sk-label-container\"><div class=\"sk-label fitted sk-toggleable\"><input class=\"sk-toggleable__control sk-hidden--visually\" id=\"sk-estimator-id-32\" type=\"checkbox\" ><label for=\"sk-estimator-id-32\" class=\"sk-toggleable__label fitted sk-toggleable__label-arrow fitted\">&nbsp;preprocessor: ColumnTransformer<a class=\"sk-estimator-doc-link fitted\" rel=\"noreferrer\" target=\"_blank\" href=\"https://scikit-learn.org/1.4/modules/generated/sklearn.compose.ColumnTransformer.html\">?<span>Documentation for preprocessor: ColumnTransformer</span></a></label><div class=\"sk-toggleable__content fitted\"><pre>ColumnTransformer(transformers=[(&#x27;num&#x27;, StandardScaler(),\n",
              "                                 [&#x27;rating&#x27;, &#x27;verified_purchase&#x27;, &#x27;title_length&#x27;,\n",
              "                                  &#x27;text_length&#x27;, &#x27;is_blank_review&#x27;,\n",
              "                                  &#x27;reviews_per_user&#x27;, &#x27;has_variant_reviews&#x27;,\n",
              "                                  &#x27;num_images&#x27;, &#x27;topic_0&#x27;, &#x27;topic_1&#x27;, &#x27;topic_2&#x27;,\n",
              "                                  &#x27;topic_3&#x27;, &#x27;topic_4&#x27;, &#x27;month_1.0&#x27;,\n",
              "                                  &#x27;month_2.0&#x27;, &#x27;month_3.0&#x27;, &#x27;month_4.0&#x27;,\n",
              "                                  &#x27;month_5.0&#x27;, &#x27;month_6.0&#x27;, &#x27;month_7.0&#x27;,\n",
              "                                  &#x27;month_8.0&#x27;, &#x27;month_9.0&#x27;, &#x27;dow_0.0&#x27;,\n",
              "                                  &#x27;dow_1.0&#x27;, &#x27;dow_2.0&#x27;, &#x27;dow_3.0&#x27;, &#x27;dow_4.0&#x27;,\n",
              "                                  &#x27;dow_5.0&#x27;, &#x27;dow_6.0&#x27;, &#x27;product_category&#x27;, ...]),\n",
              "                                (&#x27;txt&#x27;,\n",
              "                                 TfidfVectorizer(max_features=5000,\n",
              "                                                 stop_words=&#x27;english&#x27;),\n",
              "                                 &#x27;text&#x27;)])</pre></div> </div></div><div class=\"sk-parallel\"><div class=\"sk-parallel-item\"><div class=\"sk-item\"><div class=\"sk-label-container\"><div class=\"sk-label fitted sk-toggleable\"><input class=\"sk-toggleable__control sk-hidden--visually\" id=\"sk-estimator-id-33\" type=\"checkbox\" ><label for=\"sk-estimator-id-33\" class=\"sk-toggleable__label fitted sk-toggleable__label-arrow fitted\">num</label><div class=\"sk-toggleable__content fitted\"><pre>[&#x27;rating&#x27;, &#x27;verified_purchase&#x27;, &#x27;title_length&#x27;, &#x27;text_length&#x27;, &#x27;is_blank_review&#x27;, &#x27;reviews_per_user&#x27;, &#x27;has_variant_reviews&#x27;, &#x27;num_images&#x27;, &#x27;topic_0&#x27;, &#x27;topic_1&#x27;, &#x27;topic_2&#x27;, &#x27;topic_3&#x27;, &#x27;topic_4&#x27;, &#x27;month_1.0&#x27;, &#x27;month_2.0&#x27;, &#x27;month_3.0&#x27;, &#x27;month_4.0&#x27;, &#x27;month_5.0&#x27;, &#x27;month_6.0&#x27;, &#x27;month_7.0&#x27;, &#x27;month_8.0&#x27;, &#x27;month_9.0&#x27;, &#x27;dow_0.0&#x27;, &#x27;dow_1.0&#x27;, &#x27;dow_2.0&#x27;, &#x27;dow_3.0&#x27;, &#x27;dow_4.0&#x27;, &#x27;dow_5.0&#x27;, &#x27;dow_6.0&#x27;, &#x27;product_category&#x27;, &#x27;brand&#x27;, &#x27;exclamations&#x27;, &#x27;capital_letters&#x27;, &#x27;sentiment_polarity&#x27;]</pre></div> </div></div><div class=\"sk-serial\"><div class=\"sk-item\"><div class=\"sk-estimator fitted sk-toggleable\"><input class=\"sk-toggleable__control sk-hidden--visually\" id=\"sk-estimator-id-34\" type=\"checkbox\" ><label for=\"sk-estimator-id-34\" class=\"sk-toggleable__label fitted sk-toggleable__label-arrow fitted\">&nbsp;StandardScaler<a class=\"sk-estimator-doc-link fitted\" rel=\"noreferrer\" target=\"_blank\" href=\"https://scikit-learn.org/1.4/modules/generated/sklearn.preprocessing.StandardScaler.html\">?<span>Documentation for StandardScaler</span></a></label><div class=\"sk-toggleable__content fitted\"><pre>StandardScaler()</pre></div> </div></div></div></div></div><div class=\"sk-parallel-item\"><div class=\"sk-item\"><div class=\"sk-label-container\"><div class=\"sk-label fitted sk-toggleable\"><input class=\"sk-toggleable__control sk-hidden--visually\" id=\"sk-estimator-id-35\" type=\"checkbox\" ><label for=\"sk-estimator-id-35\" class=\"sk-toggleable__label fitted sk-toggleable__label-arrow fitted\">txt</label><div class=\"sk-toggleable__content fitted\"><pre>text</pre></div> </div></div><div class=\"sk-serial\"><div class=\"sk-item\"><div class=\"sk-estimator fitted sk-toggleable\"><input class=\"sk-toggleable__control sk-hidden--visually\" id=\"sk-estimator-id-36\" type=\"checkbox\" ><label for=\"sk-estimator-id-36\" class=\"sk-toggleable__label fitted sk-toggleable__label-arrow fitted\">&nbsp;TfidfVectorizer<a class=\"sk-estimator-doc-link fitted\" rel=\"noreferrer\" target=\"_blank\" href=\"https://scikit-learn.org/1.4/modules/generated/sklearn.feature_extraction.text.TfidfVectorizer.html\">?<span>Documentation for TfidfVectorizer</span></a></label><div class=\"sk-toggleable__content fitted\"><pre>TfidfVectorizer(max_features=5000, stop_words=&#x27;english&#x27;)</pre></div> </div></div></div></div></div></div></div><div class=\"sk-item\"><div class=\"sk-estimator fitted sk-toggleable\"><input class=\"sk-toggleable__control sk-hidden--visually\" id=\"sk-estimator-id-37\" type=\"checkbox\" ><label for=\"sk-estimator-id-37\" class=\"sk-toggleable__label fitted sk-toggleable__label-arrow fitted\">&nbsp;LogisticRegression<a class=\"sk-estimator-doc-link fitted\" rel=\"noreferrer\" target=\"_blank\" href=\"https://scikit-learn.org/1.4/modules/generated/sklearn.linear_model.LogisticRegression.html\">?<span>Documentation for LogisticRegression</span></a></label><div class=\"sk-toggleable__content fitted\"><pre>LogisticRegression(class_weight=&#x27;balanced&#x27;, max_iter=1000)</pre></div> </div></div></div></div></div></div>"
            ],
            "text/plain": [
              "Pipeline(steps=[('preprocessor',\n",
              "                 ColumnTransformer(transformers=[('num', StandardScaler(),\n",
              "                                                  ['rating',\n",
              "                                                   'verified_purchase',\n",
              "                                                   'title_length',\n",
              "                                                   'text_length',\n",
              "                                                   'is_blank_review',\n",
              "                                                   'reviews_per_user',\n",
              "                                                   'has_variant_reviews',\n",
              "                                                   'num_images', 'topic_0',\n",
              "                                                   'topic_1', 'topic_2',\n",
              "                                                   'topic_3', 'topic_4',\n",
              "                                                   'month_1.0', 'month_2.0',\n",
              "                                                   'month_3.0', 'month_4.0',\n",
              "                                                   'month_5.0', 'month_6.0',\n",
              "                                                   'month_7.0', 'month_8.0',\n",
              "                                                   'month_9.0', 'dow_0.0',\n",
              "                                                   'dow_1.0', 'dow_2.0',\n",
              "                                                   'dow_3.0', 'dow_4.0',\n",
              "                                                   'dow_5.0', 'dow_6.0',\n",
              "                                                   'product_category', ...]),\n",
              "                                                 ('txt',\n",
              "                                                  TfidfVectorizer(max_features=5000,\n",
              "                                                                  stop_words='english'),\n",
              "                                                  'text')])),\n",
              "                ('classifier',\n",
              "                 LogisticRegression(class_weight='balanced', max_iter=1000))])"
            ]
          },
          "execution_count": 548,
          "metadata": {},
          "output_type": "execute_result"
        }
      ],
      "source": [
        "# skipping tuning\n",
        "# logreg_pipe = LogisticRegression(random_state=5450, class_weight='balanced')\n",
        "\n",
        "# # same as section above\n",
        "# parameters = {'max_iter': [1000, 2000], # default 100 | warnings to \"Increase the number of iterations (max_iter)\"\n",
        "#                 'solver': ('lbfgs', 'sag'), # lbfgs default | if resource intensive, remove newton-cg as it's more resource intensive\n",
        "#                 'penalty': (None, 'l2' ) # l2 default\n",
        "#              }\n",
        "\n",
        "# logreg_pipe = GridSearchCV(estimator=logreg_pipe, param_grid=parameters, scoring='roc_auc')\n",
        "\n",
        "# Create a pipeline with preprocessing and the classifier\n",
        "clf = Pipeline(steps=[\n",
        "    ('preprocessor', preprocessor),\n",
        "    ('classifier', LogisticRegression(class_weight='balanced', max_iter=1000))\n",
        "])\n",
        "\n",
        "# Fit the model\n",
        "clf.fit(X_train_txt, y_train_txt)\n"
      ]
    },
    {
      "cell_type": "code",
      "execution_count": 603,
      "metadata": {},
      "outputs": [
        {
          "name": "stdout",
          "output_type": "stream",
          "text": [
            "          train  test\n",
            "ROC AUC    0.77  0.74\n",
            "Accuracy   0.70  0.67\n",
            "\n",
            "Confusion Matrix:\n",
            "[[10263  4842]\n",
            " [ 5067 10218]]\n",
            "Classification Report:\n",
            "              precision    recall  f1-score   support\n",
            "\n",
            "           0       0.67      0.68      0.67     15105\n",
            "           1       0.68      0.67      0.67     15285\n",
            "\n",
            "    accuracy                           0.67     30390\n",
            "   macro avg       0.67      0.67      0.67     30390\n",
            "weighted avg       0.67      0.67      0.67     30390\n",
            "\n"
          ]
        },
        {
          "data": {
            "image/png": "[encoded data removed]",
            "text/plain": [
              "<Figure size 640x480 with 1 Axes>"
            ]
          },
          "metadata": {},
          "output_type": "display_data"
        }
      ],
      "source": [
        "clf_metrics = evaluate_model(\"Logistic Regression (Pipeline)\", clf, X_train_txt, y_train_txt, X_test_txt, y_test_txt)"
      ]
    },
    {
      "attachments": {},
      "cell_type": "markdown",
      "metadata": {},
      "source": [
        "### Random Forest\n",
        "\n",
        "We will use a decision tree via a scikit-learn's [RandomForestClassifier](https://scikit-learn.org/stable/modules/generated/sklearn.ensemble.RandomForestClassifier.html)."
      ]
    },
    {
      "cell_type": "code",
      "execution_count": 550,
      "metadata": {},
      "outputs": [
        {
          "name": "stderr",
          "output_type": "stream",
          "text": [
            "/Users/rachelleperez/Library/Python/3.9/lib/python/site-packages/sklearn/model_selection/_validation.py:547: FitFailedWarning: \n",
            "360 fits failed out of a total of 1080.\n",
            "The score on these train-test partitions for these parameters will be set to nan.\n",
            "If these failures are not expected, you can try to debug them by setting error_score='raise'.\n",
            "\n",
            "Below are more details about the failures:\n",
            "--------------------------------------------------------------------------------\n",
            "360 fits failed with the following error:\n",
            "Traceback (most recent call last):\n",
            "  File \"/Users/rachelleperez/Library/Python/3.9/lib/python/site-packages/sklearn/model_selection/_validation.py\", line 895, in _fit_and_score\n",
            "    estimator.fit(X_train, y_train, **fit_params)\n",
            "  File \"/Users/rachelleperez/Library/Python/3.9/lib/python/site-packages/sklearn/base.py\", line 1467, in wrapper\n",
            "    estimator._validate_params()\n",
            "  File \"/Users/rachelleperez/Library/Python/3.9/lib/python/site-packages/sklearn/base.py\", line 666, in _validate_params\n",
            "    validate_parameter_constraints(\n",
            "  File \"/Users/rachelleperez/Library/Python/3.9/lib/python/site-packages/sklearn/utils/_param_validation.py\", line 95, in validate_parameter_constraints\n",
            "    raise InvalidParameterError(\n",
            "sklearn.utils._param_validation.InvalidParameterError: The 'max_features' parameter of RandomForestClassifier must be an int in the range [1, inf), a float in the range (0.0, 1.0], a str among {'log2', 'sqrt'} or None. Got 'auto' instead.\n",
            "\n",
            "  warnings.warn(some_fits_failed_message, FitFailedWarning)\n",
            "/Users/rachelleperez/Library/Python/3.9/lib/python/site-packages/sklearn/model_selection/_search.py:1051: UserWarning: One or more of the test scores are non-finite: [       nan        nan        nan        nan        nan        nan\n",
            "        nan        nan        nan        nan        nan        nan\n",
            " 0.6465486  0.6699872  0.665025   0.6465486  0.6699872  0.665025\n",
            " 0.6465486  0.6699872  0.665025   0.6465486  0.6699872  0.665025\n",
            " 0.6465486  0.6699872  0.665025   0.6465486  0.6699872  0.665025\n",
            " 0.6465486  0.6699872  0.665025   0.6465486  0.6699872  0.665025\n",
            "        nan        nan        nan        nan        nan        nan\n",
            "        nan        nan        nan        nan        nan        nan\n",
            " 0.65847494 0.67775993 0.67680549 0.65847494 0.67775993 0.67680549\n",
            " 0.65847494 0.67775468 0.67680315 0.65847494 0.67775468 0.67680315\n",
            " 0.65847494 0.67775993 0.67680549 0.65847494 0.67775993 0.67680549\n",
            " 0.65847494 0.67775468 0.67680315 0.65847494 0.67775468 0.67680315\n",
            "        nan        nan        nan        nan        nan        nan\n",
            "        nan        nan        nan        nan        nan        nan\n",
            " 0.67903568 0.6891322  0.68591746 0.67903568 0.6891322  0.68591746\n",
            " 0.67903568 0.6891322  0.68591588 0.67903568 0.6891322  0.68591588\n",
            " 0.67903568 0.6891322  0.68591746 0.67903568 0.6891322  0.68591746\n",
            " 0.67903568 0.6891322  0.68591588 0.67903568 0.6891322  0.68591588\n",
            "        nan        nan        nan        nan        nan        nan\n",
            "        nan        nan        nan        nan        nan        nan\n",
            " 0.64808266 0.67070459 0.66520505 0.64808266 0.67070459 0.66520505\n",
            " 0.64808266 0.67070459 0.66520505 0.64808266 0.67070459 0.66520505\n",
            " 0.64808266 0.67070459 0.66520505 0.64808266 0.67070459 0.66520505\n",
            " 0.64808266 0.67070459 0.66520505 0.64808266 0.67070459 0.66520505\n",
            "        nan        nan        nan        nan        nan        nan\n",
            "        nan        nan        nan        nan        nan        nan\n",
            " 0.65906865 0.67797752 0.67694977 0.65906865 0.67797752 0.67694977\n",
            " 0.65906865 0.67797752 0.67694977 0.65906865 0.67797752 0.67694977\n",
            " 0.65906865 0.67797752 0.67694977 0.65906865 0.67797752 0.67694977\n",
            " 0.65906865 0.67797752 0.67694977 0.65906865 0.67797752 0.67694977\n",
            "        nan        nan        nan        nan        nan        nan\n",
            "        nan        nan        nan        nan        nan        nan\n",
            " 0.67979283 0.68951134 0.68615437 0.67979283 0.68951134 0.68615437\n",
            " 0.67979283 0.68951204 0.68615334 0.67979283 0.68951204 0.68615334\n",
            " 0.67979283 0.68951134 0.68615437 0.67979283 0.68951134 0.68615437\n",
            " 0.67979283 0.68951204 0.68615334 0.67979283 0.68951204 0.68615334]\n",
            "  warnings.warn(\n"
          ]
        },
        {
          "name": "stdout",
          "output_type": "stream",
          "text": [
            "CPU times: user 10min 7s, sys: 9.2 s, total: 10min 16s\n",
            "Wall time: 10min 37s\n"
          ]
        },
        {
          "data": {
            "text/html": [
              "<style>#sk-container-id-12 {\n",
              "  /* Definition of color scheme common for light and dark mode */\n",
              "  --sklearn-color-text: black;\n",
              "  --sklearn-color-line: gray;\n",
              "  /* Definition of color scheme for unfitted estimators */\n",
              "  --sklearn-color-unfitted-level-0: #fff5e6;\n",
              "  --sklearn-color-unfitted-level-1: #f6e4d2;\n",
              "  --sklearn-color-unfitted-level-2: #ffe0b3;\n",
              "  --sklearn-color-unfitted-level-3: chocolate;\n",
              "  /* Definition of color scheme for fitted estimators */\n",
              "  --sklearn-color-fitted-level-0: #f0f8ff;\n",
              "  --sklearn-color-fitted-level-1: #d4ebff;\n",
              "  --sklearn-color-fitted-level-2: #b3dbfd;\n",
              "  --sklearn-color-fitted-level-3: cornflowerblue;\n",
              "\n",
              "  /* Specific color for light theme */\n",
              "  --sklearn-color-text-on-default-background: var(--sg-text-color, var(--theme-code-foreground, var(--jp-content-font-color1, black)));\n",
              "  --sklearn-color-background: var(--sg-background-color, var(--theme-background, var(--jp-layout-color0, white)));\n",
              "  --sklearn-color-border-box: var(--sg-text-color, var(--theme-code-foreground, var(--jp-content-font-color1, black)));\n",
              "  --sklearn-color-icon: #696969;\n",
              "\n",
              "  @media (prefers-color-scheme: dark) {\n",
              "    /* Redefinition of color scheme for dark theme */\n",
              "    --sklearn-color-text-on-default-background: var(--sg-text-color, var(--theme-code-foreground, var(--jp-content-font-color1, white)));\n",
              "    --sklearn-color-background: var(--sg-background-color, var(--theme-background, var(--jp-layout-color0, #111)));\n",
              "    --sklearn-color-border-box: var(--sg-text-color, var(--theme-code-foreground, var(--jp-content-font-color1, white)));\n",
              "    --sklearn-color-icon: #878787;\n",
              "  }\n",
              "}\n",
              "\n",
              "#sk-container-id-12 {\n",
              "  color: var(--sklearn-color-text);\n",
              "}\n",
              "\n",
              "#sk-container-id-12 pre {\n",
              "  padding: 0;\n",
              "}\n",
              "\n",
              "#sk-container-id-12 input.sk-hidden--visually {\n",
              "  border: 0;\n",
              "  clip: rect(1px 1px 1px 1px);\n",
              "  clip: rect(1px, 1px, 1px, 1px);\n",
              "  height: 1px;\n",
              "  margin: -1px;\n",
              "  overflow: hidden;\n",
              "  padding: 0;\n",
              "  position: absolute;\n",
              "  width: 1px;\n",
              "}\n",
              "\n",
              "#sk-container-id-12 div.sk-dashed-wrapped {\n",
              "  border: 1px dashed var(--sklearn-color-line);\n",
              "  margin: 0 0.4em 0.5em 0.4em;\n",
              "  box-sizing: border-box;\n",
              "  padding-bottom: 0.4em;\n",
              "  background-color: var(--sklearn-color-background);\n",
              "}\n",
              "\n",
              "#sk-container-id-12 div.sk-container {\n",
              "  /* jupyter's `normalize.less` sets `[hidden] { display: none; }`\n",
              "     but bootstrap.min.css set `[hidden] { display: none !important; }`\n",
              "     so we also need the `!important` here to be able to override the\n",
              "     default hidden behavior on the sphinx rendered scikit-learn.org.\n",
              "     See: https://github.com/scikit-learn/scikit-learn/issues/21755 */\n",
              "  display: inline-block !important;\n",
              "  position: relative;\n",
              "}\n",
              "\n",
              "#sk-container-id-12 div.sk-text-repr-fallback {\n",
              "  display: none;\n",
              "}\n",
              "\n",
              "div.sk-parallel-item,\n",
              "div.sk-serial,\n",
              "div.sk-item {\n",
              "  /* draw centered vertical line to link estimators */\n",
              "  background-image: linear-gradient(var(--sklearn-color-text-on-default-background), var(--sklearn-color-text-on-default-background));\n",
              "  background-size: 2px 100%;\n",
              "  background-repeat: no-repeat;\n",
              "  background-position: center center;\n",
              "}\n",
              "\n",
              "/* Parallel-specific style estimator block */\n",
              "\n",
              "#sk-container-id-12 div.sk-parallel-item::after {\n",
              "  content: \"\";\n",
              "  width: 100%;\n",
              "  border-bottom: 2px solid var(--sklearn-color-text-on-default-background);\n",
              "  flex-grow: 1;\n",
              "}\n",
              "\n",
              "#sk-container-id-12 div.sk-parallel {\n",
              "  display: flex;\n",
              "  align-items: stretch;\n",
              "  justify-content: center;\n",
              "  background-color: var(--sklearn-color-background);\n",
              "  position: relative;\n",
              "}\n",
              "\n",
              "#sk-container-id-12 div.sk-parallel-item {\n",
              "  display: flex;\n",
              "  flex-direction: column;\n",
              "}\n",
              "\n",
              "#sk-container-id-12 div.sk-parallel-item:first-child::after {\n",
              "  align-self: flex-end;\n",
              "  width: 50%;\n",
              "}\n",
              "\n",
              "#sk-container-id-12 div.sk-parallel-item:last-child::after {\n",
              "  align-self: flex-start;\n",
              "  width: 50%;\n",
              "}\n",
              "\n",
              "#sk-container-id-12 div.sk-parallel-item:only-child::after {\n",
              "  width: 0;\n",
              "}\n",
              "\n",
              "/* Serial-specific style estimator block */\n",
              "\n",
              "#sk-container-id-12 div.sk-serial {\n",
              "  display: flex;\n",
              "  flex-direction: column;\n",
              "  align-items: center;\n",
              "  background-color: var(--sklearn-color-background);\n",
              "  padding-right: 1em;\n",
              "  padding-left: 1em;\n",
              "}\n",
              "\n",
              "\n",
              "/* Toggleable style: style used for estimator/Pipeline/ColumnTransformer box that is\n",
              "clickable and can be expanded/collapsed.\n",
              "- Pipeline and ColumnTransformer use this feature and define the default style\n",
              "- Estimators will overwrite some part of the style using the `sk-estimator` class\n",
              "*/\n",
              "\n",
              "/* Pipeline and ColumnTransformer style (default) */\n",
              "\n",
              "#sk-container-id-12 div.sk-toggleable {\n",
              "  /* Default theme specific background. It is overwritten whether we have a\n",
              "  specific estimator or a Pipeline/ColumnTransformer */\n",
              "  background-color: var(--sklearn-color-background);\n",
              "}\n",
              "\n",
              "/* Toggleable label */\n",
              "#sk-container-id-12 label.sk-toggleable__label {\n",
              "  cursor: pointer;\n",
              "  display: block;\n",
              "  width: 100%;\n",
              "  margin-bottom: 0;\n",
              "  padding: 0.5em;\n",
              "  box-sizing: border-box;\n",
              "  text-align: center;\n",
              "}\n",
              "\n",
              "#sk-container-id-12 label.sk-toggleable__label-arrow:before {\n",
              "  /* Arrow on the left of the label */\n",
              "  content: \"▸\";\n",
              "  float: left;\n",
              "  margin-right: 0.25em;\n",
              "  color: var(--sklearn-color-icon);\n",
              "}\n",
              "\n",
              "#sk-container-id-12 label.sk-toggleable__label-arrow:hover:before {\n",
              "  color: var(--sklearn-color-text);\n",
              "}\n",
              "\n",
              "/* Toggleable content - dropdown */\n",
              "\n",
              "#sk-container-id-12 div.sk-toggleable__content {\n",
              "  max-height: 0;\n",
              "  max-width: 0;\n",
              "  overflow: hidden;\n",
              "  text-align: left;\n",
              "  /* unfitted */\n",
              "  background-color: var(--sklearn-color-unfitted-level-0);\n",
              "}\n",
              "\n",
              "#sk-container-id-12 div.sk-toggleable__content.fitted {\n",
              "  /* fitted */\n",
              "  background-color: var(--sklearn-color-fitted-level-0);\n",
              "}\n",
              "\n",
              "#sk-container-id-12 div.sk-toggleable__content pre {\n",
              "  margin: 0.2em;\n",
              "  border-radius: 0.25em;\n",
              "  color: var(--sklearn-color-text);\n",
              "  /* unfitted */\n",
              "  background-color: var(--sklearn-color-unfitted-level-0);\n",
              "}\n",
              "\n",
              "#sk-container-id-12 div.sk-toggleable__content.fitted pre {\n",
              "  /* unfitted */\n",
              "  background-color: var(--sklearn-color-fitted-level-0);\n",
              "}\n",
              "\n",
              "#sk-container-id-12 input.sk-toggleable__control:checked~div.sk-toggleable__content {\n",
              "  /* Expand drop-down */\n",
              "  max-height: 200px;\n",
              "  max-width: 100%;\n",
              "  overflow: auto;\n",
              "}\n",
              "\n",
              "#sk-container-id-12 input.sk-toggleable__control:checked~label.sk-toggleable__label-arrow:before {\n",
              "  content: \"▾\";\n",
              "}\n",
              "\n",
              "/* Pipeline/ColumnTransformer-specific style */\n",
              "\n",
              "#sk-container-id-12 div.sk-label input.sk-toggleable__control:checked~label.sk-toggleable__label {\n",
              "  color: var(--sklearn-color-text);\n",
              "  background-color: var(--sklearn-color-unfitted-level-2);\n",
              "}\n",
              "\n",
              "#sk-container-id-12 div.sk-label.fitted input.sk-toggleable__control:checked~label.sk-toggleable__label {\n",
              "  background-color: var(--sklearn-color-fitted-level-2);\n",
              "}\n",
              "\n",
              "/* Estimator-specific style */\n",
              "\n",
              "/* Colorize estimator box */\n",
              "#sk-container-id-12 div.sk-estimator input.sk-toggleable__control:checked~label.sk-toggleable__label {\n",
              "  /* unfitted */\n",
              "  background-color: var(--sklearn-color-unfitted-level-2);\n",
              "}\n",
              "\n",
              "#sk-container-id-12 div.sk-estimator.fitted input.sk-toggleable__control:checked~label.sk-toggleable__label {\n",
              "  /* fitted */\n",
              "  background-color: var(--sklearn-color-fitted-level-2);\n",
              "}\n",
              "\n",
              "#sk-container-id-12 div.sk-label label.sk-toggleable__label,\n",
              "#sk-container-id-12 div.sk-label label {\n",
              "  /* The background is the default theme color */\n",
              "  color: var(--sklearn-color-text-on-default-background);\n",
              "}\n",
              "\n",
              "/* On hover, darken the color of the background */\n",
              "#sk-container-id-12 div.sk-label:hover label.sk-toggleable__label {\n",
              "  color: var(--sklearn-color-text);\n",
              "  background-color: var(--sklearn-color-unfitted-level-2);\n",
              "}\n",
              "\n",
              "/* Label box, darken color on hover, fitted */\n",
              "#sk-container-id-12 div.sk-label.fitted:hover label.sk-toggleable__label.fitted {\n",
              "  color: var(--sklearn-color-text);\n",
              "  background-color: var(--sklearn-color-fitted-level-2);\n",
              "}\n",
              "\n",
              "/* Estimator label */\n",
              "\n",
              "#sk-container-id-12 div.sk-label label {\n",
              "  font-family: monospace;\n",
              "  font-weight: bold;\n",
              "  display: inline-block;\n",
              "  line-height: 1.2em;\n",
              "}\n",
              "\n",
              "#sk-container-id-12 div.sk-label-container {\n",
              "  text-align: center;\n",
              "}\n",
              "\n",
              "/* Estimator-specific */\n",
              "#sk-container-id-12 div.sk-estimator {\n",
              "  font-family: monospace;\n",
              "  border: 1px dotted var(--sklearn-color-border-box);\n",
              "  border-radius: 0.25em;\n",
              "  box-sizing: border-box;\n",
              "  margin-bottom: 0.5em;\n",
              "  /* unfitted */\n",
              "  background-color: var(--sklearn-color-unfitted-level-0);\n",
              "}\n",
              "\n",
              "#sk-container-id-12 div.sk-estimator.fitted {\n",
              "  /* fitted */\n",
              "  background-color: var(--sklearn-color-fitted-level-0);\n",
              "}\n",
              "\n",
              "/* on hover */\n",
              "#sk-container-id-12 div.sk-estimator:hover {\n",
              "  /* unfitted */\n",
              "  background-color: var(--sklearn-color-unfitted-level-2);\n",
              "}\n",
              "\n",
              "#sk-container-id-12 div.sk-estimator.fitted:hover {\n",
              "  /* fitted */\n",
              "  background-color: var(--sklearn-color-fitted-level-2);\n",
              "}\n",
              "\n",
              "/* Specification for estimator info (e.g. \"i\" and \"?\") */\n",
              "\n",
              "/* Common style for \"i\" and \"?\" */\n",
              "\n",
              ".sk-estimator-doc-link,\n",
              "a:link.sk-estimator-doc-link,\n",
              "a:visited.sk-estimator-doc-link {\n",
              "  float: right;\n",
              "  font-size: smaller;\n",
              "  line-height: 1em;\n",
              "  font-family: monospace;\n",
              "  background-color: var(--sklearn-color-background);\n",
              "  border-radius: 1em;\n",
              "  height: 1em;\n",
              "  width: 1em;\n",
              "  text-decoration: none !important;\n",
              "  margin-left: 1ex;\n",
              "  /* unfitted */\n",
              "  border: var(--sklearn-color-unfitted-level-1) 1pt solid;\n",
              "  color: var(--sklearn-color-unfitted-level-1);\n",
              "}\n",
              "\n",
              ".sk-estimator-doc-link.fitted,\n",
              "a:link.sk-estimator-doc-link.fitted,\n",
              "a:visited.sk-estimator-doc-link.fitted {\n",
              "  /* fitted */\n",
              "  border: var(--sklearn-color-fitted-level-1) 1pt solid;\n",
              "  color: var(--sklearn-color-fitted-level-1);\n",
              "}\n",
              "\n",
              "/* On hover */\n",
              "div.sk-estimator:hover .sk-estimator-doc-link:hover,\n",
              ".sk-estimator-doc-link:hover,\n",
              "div.sk-label-container:hover .sk-estimator-doc-link:hover,\n",
              ".sk-estimator-doc-link:hover {\n",
              "  /* unfitted */\n",
              "  background-color: var(--sklearn-color-unfitted-level-3);\n",
              "  color: var(--sklearn-color-background);\n",
              "  text-decoration: none;\n",
              "}\n",
              "\n",
              "div.sk-estimator.fitted:hover .sk-estimator-doc-link.fitted:hover,\n",
              ".sk-estimator-doc-link.fitted:hover,\n",
              "div.sk-label-container:hover .sk-estimator-doc-link.fitted:hover,\n",
              ".sk-estimator-doc-link.fitted:hover {\n",
              "  /* fitted */\n",
              "  background-color: var(--sklearn-color-fitted-level-3);\n",
              "  color: var(--sklearn-color-background);\n",
              "  text-decoration: none;\n",
              "}\n",
              "\n",
              "/* Span, style for the box shown on hovering the info icon */\n",
              ".sk-estimator-doc-link span {\n",
              "  display: none;\n",
              "  z-index: 9999;\n",
              "  position: relative;\n",
              "  font-weight: normal;\n",
              "  right: .2ex;\n",
              "  padding: .5ex;\n",
              "  margin: .5ex;\n",
              "  width: min-content;\n",
              "  min-width: 20ex;\n",
              "  max-width: 50ex;\n",
              "  color: var(--sklearn-color-text);\n",
              "  box-shadow: 2pt 2pt 4pt #999;\n",
              "  /* unfitted */\n",
              "  background: var(--sklearn-color-unfitted-level-0);\n",
              "  border: .5pt solid var(--sklearn-color-unfitted-level-3);\n",
              "}\n",
              "\n",
              ".sk-estimator-doc-link.fitted span {\n",
              "  /* fitted */\n",
              "  background: var(--sklearn-color-fitted-level-0);\n",
              "  border: var(--sklearn-color-fitted-level-3);\n",
              "}\n",
              "\n",
              ".sk-estimator-doc-link:hover span {\n",
              "  display: block;\n",
              "}\n",
              "\n",
              "/* \"?\"-specific style due to the `<a>` HTML tag */\n",
              "\n",
              "#sk-container-id-12 a.estimator_doc_link {\n",
              "  float: right;\n",
              "  font-size: 1rem;\n",
              "  line-height: 1em;\n",
              "  font-family: monospace;\n",
              "  background-color: var(--sklearn-color-background);\n",
              "  border-radius: 1rem;\n",
              "  height: 1rem;\n",
              "  width: 1rem;\n",
              "  text-decoration: none;\n",
              "  /* unfitted */\n",
              "  color: var(--sklearn-color-unfitted-level-1);\n",
              "  border: var(--sklearn-color-unfitted-level-1) 1pt solid;\n",
              "}\n",
              "\n",
              "#sk-container-id-12 a.estimator_doc_link.fitted {\n",
              "  /* fitted */\n",
              "  border: var(--sklearn-color-fitted-level-1) 1pt solid;\n",
              "  color: var(--sklearn-color-fitted-level-1);\n",
              "}\n",
              "\n",
              "/* On hover */\n",
              "#sk-container-id-12 a.estimator_doc_link:hover {\n",
              "  /* unfitted */\n",
              "  background-color: var(--sklearn-color-unfitted-level-3);\n",
              "  color: var(--sklearn-color-background);\n",
              "  text-decoration: none;\n",
              "}\n",
              "\n",
              "#sk-container-id-12 a.estimator_doc_link.fitted:hover {\n",
              "  /* fitted */\n",
              "  background-color: var(--sklearn-color-fitted-level-3);\n",
              "}\n",
              "</style><div id=\"sk-container-id-12\" class=\"sk-top-container\"><div class=\"sk-text-repr-fallback\"><pre>GridSearchCV(estimator=RandomForestClassifier(class_weight=&#x27;balanced&#x27;,\n",
              "                                              random_state=5450),\n",
              "             param_grid={&#x27;criterion&#x27;: [&#x27;gini&#x27;, &#x27;entropy&#x27;],\n",
              "                         &#x27;max_depth&#x27;: [1, 2, 3],\n",
              "                         &#x27;max_features&#x27;: [&#x27;auto&#x27;, &#x27;sqrt&#x27;, &#x27;log2&#x27;],\n",
              "                         &#x27;min_samples_leaf&#x27;: [1, 2],\n",
              "                         &#x27;min_samples_split&#x27;: [2, 5],\n",
              "                         &#x27;n_estimators&#x27;: [10, 30, 50]},\n",
              "             scoring=&#x27;roc_auc&#x27;)</pre><b>In a Jupyter environment, please rerun this cell to show the HTML representation or trust the notebook. <br />On GitHub, the HTML representation is unable to render, please try loading this page with nbviewer.org.</b></div><div class=\"sk-container\" hidden><div class=\"sk-item sk-dashed-wrapped\"><div class=\"sk-label-container\"><div class=\"sk-label fitted sk-toggleable\"><input class=\"sk-toggleable__control sk-hidden--visually\" id=\"sk-estimator-id-38\" type=\"checkbox\" ><label for=\"sk-estimator-id-38\" class=\"sk-toggleable__label fitted sk-toggleable__label-arrow fitted\">&nbsp;&nbsp;GridSearchCV<a class=\"sk-estimator-doc-link fitted\" rel=\"noreferrer\" target=\"_blank\" href=\"https://scikit-learn.org/1.4/modules/generated/sklearn.model_selection.GridSearchCV.html\">?<span>Documentation for GridSearchCV</span></a><span class=\"sk-estimator-doc-link fitted\">i<span>Fitted</span></span></label><div class=\"sk-toggleable__content fitted\"><pre>GridSearchCV(estimator=RandomForestClassifier(class_weight=&#x27;balanced&#x27;,\n",
              "                                              random_state=5450),\n",
              "             param_grid={&#x27;criterion&#x27;: [&#x27;gini&#x27;, &#x27;entropy&#x27;],\n",
              "                         &#x27;max_depth&#x27;: [1, 2, 3],\n",
              "                         &#x27;max_features&#x27;: [&#x27;auto&#x27;, &#x27;sqrt&#x27;, &#x27;log2&#x27;],\n",
              "                         &#x27;min_samples_leaf&#x27;: [1, 2],\n",
              "                         &#x27;min_samples_split&#x27;: [2, 5],\n",
              "                         &#x27;n_estimators&#x27;: [10, 30, 50]},\n",
              "             scoring=&#x27;roc_auc&#x27;)</pre></div> </div></div><div class=\"sk-parallel\"><div class=\"sk-parallel-item\"><div class=\"sk-item\"><div class=\"sk-label-container\"><div class=\"sk-label fitted sk-toggleable\"><input class=\"sk-toggleable__control sk-hidden--visually\" id=\"sk-estimator-id-39\" type=\"checkbox\" ><label for=\"sk-estimator-id-39\" class=\"sk-toggleable__label fitted sk-toggleable__label-arrow fitted\">estimator: RandomForestClassifier</label><div class=\"sk-toggleable__content fitted\"><pre>RandomForestClassifier(class_weight=&#x27;balanced&#x27;, random_state=5450)</pre></div> </div></div><div class=\"sk-serial\"><div class=\"sk-item\"><div class=\"sk-estimator fitted sk-toggleable\"><input class=\"sk-toggleable__control sk-hidden--visually\" id=\"sk-estimator-id-40\" type=\"checkbox\" ><label for=\"sk-estimator-id-40\" class=\"sk-toggleable__label fitted sk-toggleable__label-arrow fitted\">&nbsp;RandomForestClassifier<a class=\"sk-estimator-doc-link fitted\" rel=\"noreferrer\" target=\"_blank\" href=\"https://scikit-learn.org/1.4/modules/generated/sklearn.ensemble.RandomForestClassifier.html\">?<span>Documentation for RandomForestClassifier</span></a></label><div class=\"sk-toggleable__content fitted\"><pre>RandomForestClassifier(class_weight=&#x27;balanced&#x27;, random_state=5450)</pre></div> </div></div></div></div></div></div></div></div></div>"
            ],
            "text/plain": [
              "GridSearchCV(estimator=RandomForestClassifier(class_weight='balanced',\n",
              "                                              random_state=5450),\n",
              "             param_grid={'criterion': ['gini', 'entropy'],\n",
              "                         'max_depth': [1, 2, 3],\n",
              "                         'max_features': ['auto', 'sqrt', 'log2'],\n",
              "                         'min_samples_leaf': [1, 2],\n",
              "                         'min_samples_split': [2, 5],\n",
              "                         'n_estimators': [10, 30, 50]},\n",
              "             scoring='roc_auc')"
            ]
          },
          "execution_count": 550,
          "metadata": {},
          "output_type": "execute_result"
        }
      ],
      "source": [
        "%%time\n",
        "\n",
        "rforest = RandomForestClassifier(random_state=5450, class_weight='balanced')\n",
        "\n",
        "# parameters for GridSearch (refer to documentation for allowed penalty+solver combinations) \n",
        "parameters = {\n",
        "             'n_estimators': [10, 30, 50], # default: 100\n",
        "              'max_depth': [1, 2, 3], # default: None\n",
        "              'criterion':['gini','entropy'], # default: gini\n",
        "              'max_features':['auto','sqrt', 'log2'], # default: 'auto'\n",
        "              'min_samples_leaf': [1, 2], # default: 1\n",
        "              'min_samples_split': [2, 5] # default: 2\n",
        "              } \n",
        "\n",
        "rforest = GridSearchCV(estimator=rforest, param_grid=parameters, scoring='roc_auc')\n",
        "rforest.fit(X_train, y_train)"
      ]
    },
    {
      "cell_type": "code",
      "execution_count": 552,
      "metadata": {},
      "outputs": [
        {
          "data": {
            "text/plain": [
              "{'criterion': 'entropy',\n",
              " 'max_depth': 3,\n",
              " 'max_features': 'sqrt',\n",
              " 'min_samples_leaf': 2,\n",
              " 'min_samples_split': 2,\n",
              " 'n_estimators': 30}"
            ]
          },
          "execution_count": 552,
          "metadata": {},
          "output_type": "execute_result"
        }
      ],
      "source": [
        "#best params\n",
        "rforest.best_params_\n"
      ]
    },
    {
      "cell_type": "code",
      "execution_count": 604,
      "metadata": {},
      "outputs": [
        {
          "name": "stdout",
          "output_type": "stream",
          "text": [
            "          train  test\n",
            "ROC AUC    0.69  0.69\n",
            "Accuracy   0.64  0.63\n",
            "\n",
            "Confusion Matrix:\n",
            "[[9486 5619]\n",
            " [5478 9807]]\n",
            "Classification Report:\n",
            "              precision    recall  f1-score   support\n",
            "\n",
            "           0       0.63      0.63      0.63     15105\n",
            "           1       0.64      0.64      0.64     15285\n",
            "\n",
            "    accuracy                           0.63     30390\n",
            "   macro avg       0.63      0.63      0.63     30390\n",
            "weighted avg       0.63      0.63      0.63     30390\n",
            "\n"
          ]
        },
        {
          "data": {
            "image/png": "[encoded data removed]",
            "text/plain": [
              "<Figure size 640x480 with 1 Axes>"
            ]
          },
          "metadata": {},
          "output_type": "display_data"
        }
      ],
      "source": [
        "rforest_metrics = evaluate_model(\"Random Forest\", rforest, X_train, y_train, X_test, y_test)"
      ]
    },
    {
      "attachments": {},
      "cell_type": "markdown",
      "metadata": {},
      "source": [
        "### XGBoost\n",
        "\n",
        "Out last model, [XGBoost](https://xgboost.readthedocs.io/en/stable/), will be a gradient boosting one. Classifier documentation [HERE](https://xgboost.readthedocs.io/en/stable/python/python_api.html)."
      ]
    },
    {
      "cell_type": "code",
      "execution_count": 597,
      "metadata": {},
      "outputs": [
        {
          "name": "stdout",
          "output_type": "stream",
          "text": [
            "CPU times: user 2min 26s, sys: 1min 11s, total: 3min 37s\n",
            "Wall time: 19.5 s\n"
          ]
        },
        {
          "data": {
            "text/html": [
              "<style>#sk-container-id-14 {\n",
              "  /* Definition of color scheme common for light and dark mode */\n",
              "  --sklearn-color-text: black;\n",
              "  --sklearn-color-line: gray;\n",
              "  /* Definition of color scheme for unfitted estimators */\n",
              "  --sklearn-color-unfitted-level-0: #fff5e6;\n",
              "  --sklearn-color-unfitted-level-1: #f6e4d2;\n",
              "  --sklearn-color-unfitted-level-2: #ffe0b3;\n",
              "  --sklearn-color-unfitted-level-3: chocolate;\n",
              "  /* Definition of color scheme for fitted estimators */\n",
              "  --sklearn-color-fitted-level-0: #f0f8ff;\n",
              "  --sklearn-color-fitted-level-1: #d4ebff;\n",
              "  --sklearn-color-fitted-level-2: #b3dbfd;\n",
              "  --sklearn-color-fitted-level-3: cornflowerblue;\n",
              "\n",
              "  /* Specific color for light theme */\n",
              "  --sklearn-color-text-on-default-background: var(--sg-text-color, var(--theme-code-foreground, var(--jp-content-font-color1, black)));\n",
              "  --sklearn-color-background: var(--sg-background-color, var(--theme-background, var(--jp-layout-color0, white)));\n",
              "  --sklearn-color-border-box: var(--sg-text-color, var(--theme-code-foreground, var(--jp-content-font-color1, black)));\n",
              "  --sklearn-color-icon: #696969;\n",
              "\n",
              "  @media (prefers-color-scheme: dark) {\n",
              "    /* Redefinition of color scheme for dark theme */\n",
              "    --sklearn-color-text-on-default-background: var(--sg-text-color, var(--theme-code-foreground, var(--jp-content-font-color1, white)));\n",
              "    --sklearn-color-background: var(--sg-background-color, var(--theme-background, var(--jp-layout-color0, #111)));\n",
              "    --sklearn-color-border-box: var(--sg-text-color, var(--theme-code-foreground, var(--jp-content-font-color1, white)));\n",
              "    --sklearn-color-icon: #878787;\n",
              "  }\n",
              "}\n",
              "\n",
              "#sk-container-id-14 {\n",
              "  color: var(--sklearn-color-text);\n",
              "}\n",
              "\n",
              "#sk-container-id-14 pre {\n",
              "  padding: 0;\n",
              "}\n",
              "\n",
              "#sk-container-id-14 input.sk-hidden--visually {\n",
              "  border: 0;\n",
              "  clip: rect(1px 1px 1px 1px);\n",
              "  clip: rect(1px, 1px, 1px, 1px);\n",
              "  height: 1px;\n",
              "  margin: -1px;\n",
              "  overflow: hidden;\n",
              "  padding: 0;\n",
              "  position: absolute;\n",
              "  width: 1px;\n",
              "}\n",
              "\n",
              "#sk-container-id-14 div.sk-dashed-wrapped {\n",
              "  border: 1px dashed var(--sklearn-color-line);\n",
              "  margin: 0 0.4em 0.5em 0.4em;\n",
              "  box-sizing: border-box;\n",
              "  padding-bottom: 0.4em;\n",
              "  background-color: var(--sklearn-color-background);\n",
              "}\n",
              "\n",
              "#sk-container-id-14 div.sk-container {\n",
              "  /* jupyter's `normalize.less` sets `[hidden] { display: none; }`\n",
              "     but bootstrap.min.css set `[hidden] { display: none !important; }`\n",
              "     so we also need the `!important` here to be able to override the\n",
              "     default hidden behavior on the sphinx rendered scikit-learn.org.\n",
              "     See: https://github.com/scikit-learn/scikit-learn/issues/21755 */\n",
              "  display: inline-block !important;\n",
              "  position: relative;\n",
              "}\n",
              "\n",
              "#sk-container-id-14 div.sk-text-repr-fallback {\n",
              "  display: none;\n",
              "}\n",
              "\n",
              "div.sk-parallel-item,\n",
              "div.sk-serial,\n",
              "div.sk-item {\n",
              "  /* draw centered vertical line to link estimators */\n",
              "  background-image: linear-gradient(var(--sklearn-color-text-on-default-background), var(--sklearn-color-text-on-default-background));\n",
              "  background-size: 2px 100%;\n",
              "  background-repeat: no-repeat;\n",
              "  background-position: center center;\n",
              "}\n",
              "\n",
              "/* Parallel-specific style estimator block */\n",
              "\n",
              "#sk-container-id-14 div.sk-parallel-item::after {\n",
              "  content: \"\";\n",
              "  width: 100%;\n",
              "  border-bottom: 2px solid var(--sklearn-color-text-on-default-background);\n",
              "  flex-grow: 1;\n",
              "}\n",
              "\n",
              "#sk-container-id-14 div.sk-parallel {\n",
              "  display: flex;\n",
              "  align-items: stretch;\n",
              "  justify-content: center;\n",
              "  background-color: var(--sklearn-color-background);\n",
              "  position: relative;\n",
              "}\n",
              "\n",
              "#sk-container-id-14 div.sk-parallel-item {\n",
              "  display: flex;\n",
              "  flex-direction: column;\n",
              "}\n",
              "\n",
              "#sk-container-id-14 div.sk-parallel-item:first-child::after {\n",
              "  align-self: flex-end;\n",
              "  width: 50%;\n",
              "}\n",
              "\n",
              "#sk-container-id-14 div.sk-parallel-item:last-child::after {\n",
              "  align-self: flex-start;\n",
              "  width: 50%;\n",
              "}\n",
              "\n",
              "#sk-container-id-14 div.sk-parallel-item:only-child::after {\n",
              "  width: 0;\n",
              "}\n",
              "\n",
              "/* Serial-specific style estimator block */\n",
              "\n",
              "#sk-container-id-14 div.sk-serial {\n",
              "  display: flex;\n",
              "  flex-direction: column;\n",
              "  align-items: center;\n",
              "  background-color: var(--sklearn-color-background);\n",
              "  padding-right: 1em;\n",
              "  padding-left: 1em;\n",
              "}\n",
              "\n",
              "\n",
              "/* Toggleable style: style used for estimator/Pipeline/ColumnTransformer box that is\n",
              "clickable and can be expanded/collapsed.\n",
              "- Pipeline and ColumnTransformer use this feature and define the default style\n",
              "- Estimators will overwrite some part of the style using the `sk-estimator` class\n",
              "*/\n",
              "\n",
              "/* Pipeline and ColumnTransformer style (default) */\n",
              "\n",
              "#sk-container-id-14 div.sk-toggleable {\n",
              "  /* Default theme specific background. It is overwritten whether we have a\n",
              "  specific estimator or a Pipeline/ColumnTransformer */\n",
              "  background-color: var(--sklearn-color-background);\n",
              "}\n",
              "\n",
              "/* Toggleable label */\n",
              "#sk-container-id-14 label.sk-toggleable__label {\n",
              "  cursor: pointer;\n",
              "  display: block;\n",
              "  width: 100%;\n",
              "  margin-bottom: 0;\n",
              "  padding: 0.5em;\n",
              "  box-sizing: border-box;\n",
              "  text-align: center;\n",
              "}\n",
              "\n",
              "#sk-container-id-14 label.sk-toggleable__label-arrow:before {\n",
              "  /* Arrow on the left of the label */\n",
              "  content: \"▸\";\n",
              "  float: left;\n",
              "  margin-right: 0.25em;\n",
              "  color: var(--sklearn-color-icon);\n",
              "}\n",
              "\n",
              "#sk-container-id-14 label.sk-toggleable__label-arrow:hover:before {\n",
              "  color: var(--sklearn-color-text);\n",
              "}\n",
              "\n",
              "/* Toggleable content - dropdown */\n",
              "\n",
              "#sk-container-id-14 div.sk-toggleable__content {\n",
              "  max-height: 0;\n",
              "  max-width: 0;\n",
              "  overflow: hidden;\n",
              "  text-align: left;\n",
              "  /* unfitted */\n",
              "  background-color: var(--sklearn-color-unfitted-level-0);\n",
              "}\n",
              "\n",
              "#sk-container-id-14 div.sk-toggleable__content.fitted {\n",
              "  /* fitted */\n",
              "  background-color: var(--sklearn-color-fitted-level-0);\n",
              "}\n",
              "\n",
              "#sk-container-id-14 div.sk-toggleable__content pre {\n",
              "  margin: 0.2em;\n",
              "  border-radius: 0.25em;\n",
              "  color: var(--sklearn-color-text);\n",
              "  /* unfitted */\n",
              "  background-color: var(--sklearn-color-unfitted-level-0);\n",
              "}\n",
              "\n",
              "#sk-container-id-14 div.sk-toggleable__content.fitted pre {\n",
              "  /* unfitted */\n",
              "  background-color: var(--sklearn-color-fitted-level-0);\n",
              "}\n",
              "\n",
              "#sk-container-id-14 input.sk-toggleable__control:checked~div.sk-toggleable__content {\n",
              "  /* Expand drop-down */\n",
              "  max-height: 200px;\n",
              "  max-width: 100%;\n",
              "  overflow: auto;\n",
              "}\n",
              "\n",
              "#sk-container-id-14 input.sk-toggleable__control:checked~label.sk-toggleable__label-arrow:before {\n",
              "  content: \"▾\";\n",
              "}\n",
              "\n",
              "/* Pipeline/ColumnTransformer-specific style */\n",
              "\n",
              "#sk-container-id-14 div.sk-label input.sk-toggleable__control:checked~label.sk-toggleable__label {\n",
              "  color: var(--sklearn-color-text);\n",
              "  background-color: var(--sklearn-color-unfitted-level-2);\n",
              "}\n",
              "\n",
              "#sk-container-id-14 div.sk-label.fitted input.sk-toggleable__control:checked~label.sk-toggleable__label {\n",
              "  background-color: var(--sklearn-color-fitted-level-2);\n",
              "}\n",
              "\n",
              "/* Estimator-specific style */\n",
              "\n",
              "/* Colorize estimator box */\n",
              "#sk-container-id-14 div.sk-estimator input.sk-toggleable__control:checked~label.sk-toggleable__label {\n",
              "  /* unfitted */\n",
              "  background-color: var(--sklearn-color-unfitted-level-2);\n",
              "}\n",
              "\n",
              "#sk-container-id-14 div.sk-estimator.fitted input.sk-toggleable__control:checked~label.sk-toggleable__label {\n",
              "  /* fitted */\n",
              "  background-color: var(--sklearn-color-fitted-level-2);\n",
              "}\n",
              "\n",
              "#sk-container-id-14 div.sk-label label.sk-toggleable__label,\n",
              "#sk-container-id-14 div.sk-label label {\n",
              "  /* The background is the default theme color */\n",
              "  color: var(--sklearn-color-text-on-default-background);\n",
              "}\n",
              "\n",
              "/* On hover, darken the color of the background */\n",
              "#sk-container-id-14 div.sk-label:hover label.sk-toggleable__label {\n",
              "  color: var(--sklearn-color-text);\n",
              "  background-color: var(--sklearn-color-unfitted-level-2);\n",
              "}\n",
              "\n",
              "/* Label box, darken color on hover, fitted */\n",
              "#sk-container-id-14 div.sk-label.fitted:hover label.sk-toggleable__label.fitted {\n",
              "  color: var(--sklearn-color-text);\n",
              "  background-color: var(--sklearn-color-fitted-level-2);\n",
              "}\n",
              "\n",
              "/* Estimator label */\n",
              "\n",
              "#sk-container-id-14 div.sk-label label {\n",
              "  font-family: monospace;\n",
              "  font-weight: bold;\n",
              "  display: inline-block;\n",
              "  line-height: 1.2em;\n",
              "}\n",
              "\n",
              "#sk-container-id-14 div.sk-label-container {\n",
              "  text-align: center;\n",
              "}\n",
              "\n",
              "/* Estimator-specific */\n",
              "#sk-container-id-14 div.sk-estimator {\n",
              "  font-family: monospace;\n",
              "  border: 1px dotted var(--sklearn-color-border-box);\n",
              "  border-radius: 0.25em;\n",
              "  box-sizing: border-box;\n",
              "  margin-bottom: 0.5em;\n",
              "  /* unfitted */\n",
              "  background-color: var(--sklearn-color-unfitted-level-0);\n",
              "}\n",
              "\n",
              "#sk-container-id-14 div.sk-estimator.fitted {\n",
              "  /* fitted */\n",
              "  background-color: var(--sklearn-color-fitted-level-0);\n",
              "}\n",
              "\n",
              "/* on hover */\n",
              "#sk-container-id-14 div.sk-estimator:hover {\n",
              "  /* unfitted */\n",
              "  background-color: var(--sklearn-color-unfitted-level-2);\n",
              "}\n",
              "\n",
              "#sk-container-id-14 div.sk-estimator.fitted:hover {\n",
              "  /* fitted */\n",
              "  background-color: var(--sklearn-color-fitted-level-2);\n",
              "}\n",
              "\n",
              "/* Specification for estimator info (e.g. \"i\" and \"?\") */\n",
              "\n",
              "/* Common style for \"i\" and \"?\" */\n",
              "\n",
              ".sk-estimator-doc-link,\n",
              "a:link.sk-estimator-doc-link,\n",
              "a:visited.sk-estimator-doc-link {\n",
              "  float: right;\n",
              "  font-size: smaller;\n",
              "  line-height: 1em;\n",
              "  font-family: monospace;\n",
              "  background-color: var(--sklearn-color-background);\n",
              "  border-radius: 1em;\n",
              "  height: 1em;\n",
              "  width: 1em;\n",
              "  text-decoration: none !important;\n",
              "  margin-left: 1ex;\n",
              "  /* unfitted */\n",
              "  border: var(--sklearn-color-unfitted-level-1) 1pt solid;\n",
              "  color: var(--sklearn-color-unfitted-level-1);\n",
              "}\n",
              "\n",
              ".sk-estimator-doc-link.fitted,\n",
              "a:link.sk-estimator-doc-link.fitted,\n",
              "a:visited.sk-estimator-doc-link.fitted {\n",
              "  /* fitted */\n",
              "  border: var(--sklearn-color-fitted-level-1) 1pt solid;\n",
              "  color: var(--sklearn-color-fitted-level-1);\n",
              "}\n",
              "\n",
              "/* On hover */\n",
              "div.sk-estimator:hover .sk-estimator-doc-link:hover,\n",
              ".sk-estimator-doc-link:hover,\n",
              "div.sk-label-container:hover .sk-estimator-doc-link:hover,\n",
              ".sk-estimator-doc-link:hover {\n",
              "  /* unfitted */\n",
              "  background-color: var(--sklearn-color-unfitted-level-3);\n",
              "  color: var(--sklearn-color-background);\n",
              "  text-decoration: none;\n",
              "}\n",
              "\n",
              "div.sk-estimator.fitted:hover .sk-estimator-doc-link.fitted:hover,\n",
              ".sk-estimator-doc-link.fitted:hover,\n",
              "div.sk-label-container:hover .sk-estimator-doc-link.fitted:hover,\n",
              ".sk-estimator-doc-link.fitted:hover {\n",
              "  /* fitted */\n",
              "  background-color: var(--sklearn-color-fitted-level-3);\n",
              "  color: var(--sklearn-color-background);\n",
              "  text-decoration: none;\n",
              "}\n",
              "\n",
              "/* Span, style for the box shown on hovering the info icon */\n",
              ".sk-estimator-doc-link span {\n",
              "  display: none;\n",
              "  z-index: 9999;\n",
              "  position: relative;\n",
              "  font-weight: normal;\n",
              "  right: .2ex;\n",
              "  padding: .5ex;\n",
              "  margin: .5ex;\n",
              "  width: min-content;\n",
              "  min-width: 20ex;\n",
              "  max-width: 50ex;\n",
              "  color: var(--sklearn-color-text);\n",
              "  box-shadow: 2pt 2pt 4pt #999;\n",
              "  /* unfitted */\n",
              "  background: var(--sklearn-color-unfitted-level-0);\n",
              "  border: .5pt solid var(--sklearn-color-unfitted-level-3);\n",
              "}\n",
              "\n",
              ".sk-estimator-doc-link.fitted span {\n",
              "  /* fitted */\n",
              "  background: var(--sklearn-color-fitted-level-0);\n",
              "  border: var(--sklearn-color-fitted-level-3);\n",
              "}\n",
              "\n",
              ".sk-estimator-doc-link:hover span {\n",
              "  display: block;\n",
              "}\n",
              "\n",
              "/* \"?\"-specific style due to the `<a>` HTML tag */\n",
              "\n",
              "#sk-container-id-14 a.estimator_doc_link {\n",
              "  float: right;\n",
              "  font-size: 1rem;\n",
              "  line-height: 1em;\n",
              "  font-family: monospace;\n",
              "  background-color: var(--sklearn-color-background);\n",
              "  border-radius: 1rem;\n",
              "  height: 1rem;\n",
              "  width: 1rem;\n",
              "  text-decoration: none;\n",
              "  /* unfitted */\n",
              "  color: var(--sklearn-color-unfitted-level-1);\n",
              "  border: var(--sklearn-color-unfitted-level-1) 1pt solid;\n",
              "}\n",
              "\n",
              "#sk-container-id-14 a.estimator_doc_link.fitted {\n",
              "  /* fitted */\n",
              "  border: var(--sklearn-color-fitted-level-1) 1pt solid;\n",
              "  color: var(--sklearn-color-fitted-level-1);\n",
              "}\n",
              "\n",
              "/* On hover */\n",
              "#sk-container-id-14 a.estimator_doc_link:hover {\n",
              "  /* unfitted */\n",
              "  background-color: var(--sklearn-color-unfitted-level-3);\n",
              "  color: var(--sklearn-color-background);\n",
              "  text-decoration: none;\n",
              "}\n",
              "\n",
              "#sk-container-id-14 a.estimator_doc_link.fitted:hover {\n",
              "  /* fitted */\n",
              "  background-color: var(--sklearn-color-fitted-level-3);\n",
              "}\n",
              "</style><div id=\"sk-container-id-14\" class=\"sk-top-container\"><div class=\"sk-text-repr-fallback\"><pre>GridSearchCV(estimator=XGBClassifier(alpha=10, base_score=None, booster=None,\n",
              "                                     callbacks=None, colsample_bylevel=None,\n",
              "                                     colsample_bynode=None,\n",
              "                                     colsample_bytree=None, device=None,\n",
              "                                     early_stopping_rounds=None,\n",
              "                                     enable_categorical=False, eval_metric=None,\n",
              "                                     feature_types=None, gamma=None,\n",
              "                                     grow_policy=None, importance_type=None,\n",
              "                                     interaction_constraints=None,\n",
              "                                     learning_rate=0...ne,\n",
              "                                     max_cat_threshold=None,\n",
              "                                     max_cat_to_onehot=None,\n",
              "                                     max_delta_step=None, max_depth=6,\n",
              "                                     max_leaves=None, min_child_weight=None,\n",
              "                                     missing=nan, monotone_constraints=None,\n",
              "                                     multi_strategy=None, n_estimators=100,\n",
              "                                     n_jobs=None, num_parallel_tree=None, ...),\n",
              "             param_grid={&#x27;alpha&#x27;: [0, 0.1], &#x27;learning_rate&#x27;: [0.01, 0.1],\n",
              "                         &#x27;max_depth&#x27;: [3, 6], &#x27;n_estimators&#x27;: [50, 100]},\n",
              "             scoring=&#x27;roc_auc&#x27;)</pre><b>In a Jupyter environment, please rerun this cell to show the HTML representation or trust the notebook. <br />On GitHub, the HTML representation is unable to render, please try loading this page with nbviewer.org.</b></div><div class=\"sk-container\" hidden><div class=\"sk-item sk-dashed-wrapped\"><div class=\"sk-label-container\"><div class=\"sk-label fitted sk-toggleable\"><input class=\"sk-toggleable__control sk-hidden--visually\" id=\"sk-estimator-id-44\" type=\"checkbox\" ><label for=\"sk-estimator-id-44\" class=\"sk-toggleable__label fitted sk-toggleable__label-arrow fitted\">&nbsp;&nbsp;GridSearchCV<a class=\"sk-estimator-doc-link fitted\" rel=\"noreferrer\" target=\"_blank\" href=\"https://scikit-learn.org/1.4/modules/generated/sklearn.model_selection.GridSearchCV.html\">?<span>Documentation for GridSearchCV</span></a><span class=\"sk-estimator-doc-link fitted\">i<span>Fitted</span></span></label><div class=\"sk-toggleable__content fitted\"><pre>GridSearchCV(estimator=XGBClassifier(alpha=10, base_score=None, booster=None,\n",
              "                                     callbacks=None, colsample_bylevel=None,\n",
              "                                     colsample_bynode=None,\n",
              "                                     colsample_bytree=None, device=None,\n",
              "                                     early_stopping_rounds=None,\n",
              "                                     enable_categorical=False, eval_metric=None,\n",
              "                                     feature_types=None, gamma=None,\n",
              "                                     grow_policy=None, importance_type=None,\n",
              "                                     interaction_constraints=None,\n",
              "                                     learning_rate=0...ne,\n",
              "                                     max_cat_threshold=None,\n",
              "                                     max_cat_to_onehot=None,\n",
              "                                     max_delta_step=None, max_depth=6,\n",
              "                                     max_leaves=None, min_child_weight=None,\n",
              "                                     missing=nan, monotone_constraints=None,\n",
              "                                     multi_strategy=None, n_estimators=100,\n",
              "                                     n_jobs=None, num_parallel_tree=None, ...),\n",
              "             param_grid={&#x27;alpha&#x27;: [0, 0.1], &#x27;learning_rate&#x27;: [0.01, 0.1],\n",
              "                         &#x27;max_depth&#x27;: [3, 6], &#x27;n_estimators&#x27;: [50, 100]},\n",
              "             scoring=&#x27;roc_auc&#x27;)</pre></div> </div></div><div class=\"sk-parallel\"><div class=\"sk-parallel-item\"><div class=\"sk-item\"><div class=\"sk-label-container\"><div class=\"sk-label fitted sk-toggleable\"><input class=\"sk-toggleable__control sk-hidden--visually\" id=\"sk-estimator-id-45\" type=\"checkbox\" ><label for=\"sk-estimator-id-45\" class=\"sk-toggleable__label fitted sk-toggleable__label-arrow fitted\">estimator: XGBClassifier</label><div class=\"sk-toggleable__content fitted\"><pre>XGBClassifier(alpha=10, base_score=None, booster=None, callbacks=None,\n",
              "              colsample_bylevel=None, colsample_bynode=None,\n",
              "              colsample_bytree=None, device=None, early_stopping_rounds=None,\n",
              "              enable_categorical=False, eval_metric=None, feature_types=None,\n",
              "              gamma=None, grow_policy=None, importance_type=None,\n",
              "              interaction_constraints=None, learning_rate=0.01, max_bin=None,\n",
              "              max_cat_threshold=None, max_cat_to_onehot=None,\n",
              "              max_delta_step=None, max_depth=6, max_leaves=None,\n",
              "              min_child_weight=None, missing=nan, monotone_constraints=None,\n",
              "              multi_strategy=None, n_estimators=100, n_jobs=None,\n",
              "              num_parallel_tree=None, ...)</pre></div> </div></div><div class=\"sk-serial\"><div class=\"sk-item\"><div class=\"sk-estimator fitted sk-toggleable\"><input class=\"sk-toggleable__control sk-hidden--visually\" id=\"sk-estimator-id-46\" type=\"checkbox\" ><label for=\"sk-estimator-id-46\" class=\"sk-toggleable__label fitted sk-toggleable__label-arrow fitted\">XGBClassifier</label><div class=\"sk-toggleable__content fitted\"><pre>XGBClassifier(alpha=10, base_score=None, booster=None, callbacks=None,\n",
              "              colsample_bylevel=None, colsample_bynode=None,\n",
              "              colsample_bytree=None, device=None, early_stopping_rounds=None,\n",
              "              enable_categorical=False, eval_metric=None, feature_types=None,\n",
              "              gamma=None, grow_policy=None, importance_type=None,\n",
              "              interaction_constraints=None, learning_rate=0.01, max_bin=None,\n",
              "              max_cat_threshold=None, max_cat_to_onehot=None,\n",
              "              max_delta_step=None, max_depth=6, max_leaves=None,\n",
              "              min_child_weight=None, missing=nan, monotone_constraints=None,\n",
              "              multi_strategy=None, n_estimators=100, n_jobs=None,\n",
              "              num_parallel_tree=None, ...)</pre></div> </div></div></div></div></div></div></div></div></div>"
            ],
            "text/plain": [
              "GridSearchCV(estimator=XGBClassifier(alpha=10, base_score=None, booster=None,\n",
              "                                     callbacks=None, colsample_bylevel=None,\n",
              "                                     colsample_bynode=None,\n",
              "                                     colsample_bytree=None, device=None,\n",
              "                                     early_stopping_rounds=None,\n",
              "                                     enable_categorical=False, eval_metric=None,\n",
              "                                     feature_types=None, gamma=None,\n",
              "                                     grow_policy=None, importance_type=None,\n",
              "                                     interaction_constraints=None,\n",
              "                                     learning_rate=0...ne,\n",
              "                                     max_cat_threshold=None,\n",
              "                                     max_cat_to_onehot=None,\n",
              "                                     max_delta_step=None, max_depth=6,\n",
              "                                     max_leaves=None, min_child_weight=None,\n",
              "                                     missing=nan, monotone_constraints=None,\n",
              "                                     multi_strategy=None, n_estimators=100,\n",
              "                                     n_jobs=None, num_parallel_tree=None, ...),\n",
              "             param_grid={'alpha': [0, 0.1], 'learning_rate': [0.01, 0.1],\n",
              "                         'max_depth': [3, 6], 'n_estimators': [50, 100]},\n",
              "             scoring='roc_auc')"
            ]
          },
          "execution_count": 597,
          "metadata": {},
          "output_type": "execute_result"
        }
      ],
      "source": [
        "%%time\n",
        "\n",
        "xg = XGBClassifier(objective='binary:logistic', max_depth=6, alpha=10, learning_rate=0.01, n_estimators=100)\n",
        "\n",
        "# parameters for GridSearch (refer to documentation for allowed penalty+solver combinations) \n",
        "parameters = {\n",
        "    'max_depth': [3, 6],  #Default: 6 \n",
        "    'alpha': [0, 0.1],  # Default: 0 \n",
        "    'learning_rate': [0.01, 0.1], # Default: 0.3 | step size shrinkage used in update to prevent overfitting\n",
        "    'n_estimators': [50, 100],  #  # Default: 100 | boosting rounds\n",
        "              } \n",
        "\n",
        "xg = GridSearchCV(estimator=xg, param_grid=parameters, scoring='roc_auc')\n",
        "xg.fit(X_train, y_train)"
      ]
    },
    {
      "cell_type": "code",
      "execution_count": 598,
      "metadata": {},
      "outputs": [
        {
          "data": {
            "text/plain": [
              "{'alpha': 0.1, 'learning_rate': 0.1, 'max_depth': 6, 'n_estimators': 100}"
            ]
          },
          "execution_count": 598,
          "metadata": {},
          "output_type": "execute_result"
        }
      ],
      "source": [
        "xg.best_params_"
      ]
    },
    {
      "cell_type": "code",
      "execution_count": 605,
      "metadata": {},
      "outputs": [
        {
          "name": "stdout",
          "output_type": "stream",
          "text": [
            "          train  test\n",
            "ROC AUC    0.78  0.75\n",
            "Accuracy   0.70  0.68\n",
            "\n",
            "Confusion Matrix:\n",
            "[[10470  4635]\n",
            " [ 4948 10337]]\n",
            "Classification Report:\n",
            "              precision    recall  f1-score   support\n",
            "\n",
            "           0       0.68      0.69      0.69     15105\n",
            "           1       0.69      0.68      0.68     15285\n",
            "\n",
            "    accuracy                           0.68     30390\n",
            "   macro avg       0.68      0.68      0.68     30390\n",
            "weighted avg       0.68      0.68      0.68     30390\n",
            "\n"
          ]
        },
        {
          "data": {
            "image/png": "[encoded data removed]",
            "text/plain": [
              "<Figure size 640x480 with 1 Axes>"
            ]
          },
          "metadata": {},
          "output_type": "display_data"
        }
      ],
      "source": [
        "xg_metrics = evaluate_model(\"XGBoost\", xg, X_train, y_train, X_test, y_test)"
      ]
    },
    {
      "cell_type": "code",
      "execution_count": 607,
      "metadata": {
        "id": "rFk-1mMOf9fH"
      },
      "outputs": [],
      "source": [
        "# Original XGBoost - opted for wrapped\n",
        "# # import xgboost as xgb\n",
        "# # from sklearn.metrics import f1_score, roc_auc_score\n",
        "\n",
        "# # Assuming 'df' is your DataFrame and you've already processed 'text' and other columns\n",
        "# X = df[['rating', 'verified_purchase', 'has_image']]\n",
        "# y = df['is_helpful']\n",
        "\n",
        "# # Split the data\n",
        "# X_train, X_test, y_train, y_test = train_test_split(X, y, test_size=0.2, random_state=42)\n",
        "\n",
        "# # Define the DMatrix\n",
        "# dtrain = xgb.DMatrix(X_train, label=y_train)\n",
        "# dtest = xgb.DMatrix(X_test, label=y_test)\n",
        "\n",
        "# # Set up parameters for XGBoost\n",
        "# params = {\n",
        "#     'objective': 'binary:logistic',\n",
        "#     'max_depth': 6,\n",
        "#     'alpha': 10,\n",
        "#     'learning_rate': 0.01,\n",
        "#     'n_estimators': 100,\n",
        "#     'eval_metric': 'auc'\n",
        "# }\n",
        "\n",
        "# # Adjusting the scale_pos_weight\n",
        "# scale_pos_weight = len(y_train[y_train == 0]) / len(y_train[y_train == 1])\n",
        "# params['scale_pos_weight'] = scale_pos_weight\n",
        "\n",
        "# # Train the model\n",
        "# bst = xgb.train(params, dtrain, num_boost_round=100, evals=[(dtest, 'test')], early_stopping_rounds=10)\n",
        "\n",
        "# y_pred_prob = bst.predict(dtest)\n",
        "\n",
        "# # Find the optimal threshold\n",
        "# thresholds = np.linspace(0.01, 0.99, 100)\n",
        "# scores = [f1_score(y_test, y_pred_prob > thresh) for thresh in thresholds]\n",
        "# optimal_idx = np.argmax(scores)\n",
        "# optimal_threshold = thresholds[optimal_idx]\n",
        "\n",
        "# # Predict with the optimal threshold\n",
        "# y_pred = (y_pred_prob > optimal_threshold).astype(int)\n",
        "\n",
        "# # Calculate accuracy and other metrics\n",
        "# accuracy = accuracy_score(y_test, y_pred)\n",
        "# roc_auc = roc_auc_score(y_test, y_pred_prob)\n",
        "# conf_matrix = confusion_matrix(y_test, y_pred)\n",
        "# class_report = classification_report(y_test, y_pred)\n",
        "\n",
        "# print(f'Accuracy: {accuracy}')\n",
        "# print(f'ROC AUC: {roc_auc}')\n",
        "# print('Confusion Matrix:')\n",
        "# print(conf_matrix)\n",
        "# print('Classification Report:')\n",
        "# print(class_report)\n"
      ]
    },
    {
      "attachments": {},
      "cell_type": "markdown",
      "metadata": {},
      "source": [
        "## Model Evaluation\n",
        "\n",
        "So which of the models above was best? "
      ]
    },
    {
      "cell_type": "code",
      "execution_count": 619,
      "metadata": {},
      "outputs": [
        {
          "data": {
            "text/html": [
              "<div>\n",
              "<style scoped>\n",
              "    .dataframe tbody tr th:only-of-type {\n",
              "        vertical-align: middle;\n",
              "    }\n",
              "\n",
              "    .dataframe tbody tr th {\n",
              "        vertical-align: top;\n",
              "    }\n",
              "\n",
              "    .dataframe thead th {\n",
              "        text-align: right;\n",
              "    }\n",
              "</style>\n",
              "<table border=\"1\" class=\"dataframe\">\n",
              "  <thead>\n",
              "    <tr style=\"text-align: right;\">\n",
              "      <th></th>\n",
              "      <th>name</th>\n",
              "      <th>roc_auc</th>\n",
              "      <th>accuracy</th>\n",
              "    </tr>\n",
              "  </thead>\n",
              "  <tbody>\n",
              "    <tr>\n",
              "      <th>0</th>\n",
              "      <td>DummyClassifier</td>\n",
              "      <td>0.50</td>\n",
              "      <td>0.50</td>\n",
              "    </tr>\n",
              "    <tr>\n",
              "      <th>1</th>\n",
              "      <td>Logistic Regression (Stand-alone)</td>\n",
              "      <td>0.69</td>\n",
              "      <td>0.64</td>\n",
              "    </tr>\n",
              "    <tr>\n",
              "      <th>2</th>\n",
              "      <td>Logistic Regression (Pipeline)</td>\n",
              "      <td>0.74</td>\n",
              "      <td>0.67</td>\n",
              "    </tr>\n",
              "    <tr>\n",
              "      <th>3</th>\n",
              "      <td>Random Forest</td>\n",
              "      <td>0.69</td>\n",
              "      <td>0.63</td>\n",
              "    </tr>\n",
              "    <tr>\n",
              "      <th>4</th>\n",
              "      <td>XGBoost</td>\n",
              "      <td>0.75</td>\n",
              "      <td>0.68</td>\n",
              "    </tr>\n",
              "  </tbody>\n",
              "</table>\n",
              "</div>"
            ],
            "text/plain": [
              "                                name  roc_auc  accuracy\n",
              "0                    DummyClassifier     0.50      0.50\n",
              "1  Logistic Regression (Stand-alone)     0.69      0.64\n",
              "2     Logistic Regression (Pipeline)     0.74      0.67\n",
              "3                      Random Forest     0.69      0.63\n",
              "4                            XGBoost     0.75      0.68"
            ]
          },
          "execution_count": 619,
          "metadata": {},
          "output_type": "execute_result"
        }
      ],
      "source": [
        "test_results = []\n",
        "\n",
        "for results in [dummy_metrics, logreg_metrics, clf_metrics, rforest_metrics, xg_metrics]:\n",
        "    test_results.append(results)\n",
        "\n",
        "columns = ['name', 'roc_auc', 'accuracy']\n",
        "test_results_df = pd.DataFrame(test_results,columns=columns)\n",
        "# test_results_df['roc_auc_rank'] = test_results_df['roc_auc'].rank(ascending=False, method='min').astype('int32')\n",
        "test_results_df"
      ]
    },
    {
      "cell_type": "code",
      "execution_count": 635,
      "metadata": {},
      "outputs": [
        {
          "data": {
            "image/png": "[encoded data removed]",
            "text/plain": [
              "<Figure size 800x600 with 1 Axes>"
            ]
          },
          "metadata": {},
          "output_type": "display_data"
        }
      ],
      "source": [
        "\n",
        "melted_results_df = test_results_df.melt(id_vars='name', var_name='metric', value_name='score')\n",
        "\n",
        "# Create the bar plot\n",
        "plt.figure(figsize=(8, 6))\n",
        "\n",
        "# Plot the scores\n",
        "sns.set_context(\"notebook\", font_scale=1.0)\n",
        "standard_palette = \"colorblind\" \n",
        "\n",
        "sns.barplot(data=melted_results_df, x='name', y='score', hue='metric', palette=standard_palette)\n",
        "plt.xlabel('Model Name')\n",
        "plt.ylabel('Score')\n",
        "plt.title('Model Results', fontsize=16)\n",
        "plt.ylim(0, 1)\n",
        "plt.xticks(rotation=45, ha='right')  # Rotate x-axis labels for better readability\n",
        "plt.legend(title='Metric')\n",
        "plt.tight_layout()  # Adjust layout to prevent clipping of labels\n",
        "plt.show()"
      ]
    },
    {
      "attachments": {},
      "cell_type": "markdown",
      "metadata": {},
      "source": [
        "At the end, XGBoost performed the best followed by the Logic Regression. It could be explained by XG being better at handling non-linar data."
      ]
    },
    {
      "attachments": {},
      "cell_type": "markdown",
      "metadata": {
        "id": "NC67jZI9K0dx"
      },
      "source": [
        "# Conclusion\n",
        "\n",
        "We've reached the end of our project. The objective of this project was to address the problem **there are helpful reviews that are not voted as 'Helpful'** and identify ways to uncover helpful reviews that may not have been marked yet. In doing so we,\n",
        "- extracted insights about what makes a review helpful (as identified in the Exploratory Data Analysis section)\n",
        "- selected and evaluated machine learning tools that would address the problem, leveraging text analysis.\n",
        "\n",
        "This is just a potential avenue to adres the problem and there could be a lot of opportunities to expand or start initiatives influenced by the work here. \n",
        "\n",
        "\n",
        "**Next Steps**\n",
        "\n",
        "Some potential next steps for this project could include:\n",
        "- Injesting a longer time span of reviews\n",
        "- Consider other languages besides English\n",
        "- Joining review data with available product data to consider the effect of other portions of the product page. For example, as the price increases is a review more likely to be markd helpful?\n",
        "- Look at data at the reviewer level - perhaps the approach to address the problem could change to identifying the reviewers who leave helpful reviewes (to keep them engaged), instead of features of the reviews (although some of this would be sensitive information)\n",
        "- Recreating or improving on the AI-assisted \"Customers Say\" meta review\n"
      ]
    },
    {
      "attachments": {},
      "cell_type": "markdown",
      "metadata": {},
      "source": []
    }
  ],
  "metadata": {
    "colab": {
      "provenance": []
    },
    "kernelspec": {
      "display_name": "Python 3",
      "name": "python3"
    },
    "language_info": {
      "codemirror_mode": {
        "name": "ipython",
        "version": 3
      },
      "file_extension": ".py",
      "mimetype": "text/x-python",
      "name": "python",
      "nbconvert_exporter": "python",
      "pygments_lexer": "ipython3",
      "version": "3.9.6"
    }
  },
  "nbformat": 4,
  "nbformat_minor": 0
}
